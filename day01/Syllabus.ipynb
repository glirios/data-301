{
 "cells": [
  {
   "cell_type": "markdown",
   "metadata": {},
   "source": [
    "# Introduction to Data Science (Data 301)"
   ]
  },
  {
   "cell_type": "markdown",
   "metadata": {},
   "source": [
    "## My information\n",
    "\n",
    "* Brian E. Granger\n",
    "* ellisonbg on Gmail, Twitter and GitHub\n",
    "* 805-903-2580\n",
    "* Office Hours in 26-110L\n",
    "  - Monday 4-6pm\n",
    "  - Wednesday 4-5pm\n",
    "\n",
    "## Course information\n",
    "\n",
    "* Winter 2016\n",
    "* Tuesday+Thursday\n",
    "  - **Section 01/02:** 8-11am\n",
    "  - **Section 03/04:** 1-4pm\n",
    "* Baker 180-262"
   ]
  },
  {
   "cell_type": "markdown",
   "metadata": {},
   "source": [
    "## Catalog description\n",
    "\n",
    "> An introduction into the field of Data Science and the workflow of a data scientist. Types of data (tabular, textual, sparse, structured, temporal, geospatial), basic data management and manipulation, simple summaries, and visualization."
   ]
  },
  {
   "cell_type": "markdown",
   "metadata": {},
   "source": [
    "## Course objectives\n",
    "\n",
    "From the original course proposal:\n",
    "\n",
    "1. Select and use statistical modeling and data analytical methods and techniques appropriate to the scale of the problem.\n",
    "2. Operate with diverse types of data (for example, weblog, spatio‐temporal, basket, transaction, and master)\n",
    "3. Apply data science methods (acquire, integrate, analyze, visualize) to at least one application domain (e.g., Biology, Business, Science, Geostatistics)\n",
    "4. Use the knowledge of Computer Science to design, build and evaluate software\n",
    "5. Use the knowledge of Statistics to analyze data\n",
    "6. Build, maintain, and query common database structures\n",
    "7. Clearly and effectively communicate analysis findings appropriately using oral, written and visual modes."
   ]
  },
  {
   "cell_type": "markdown",
   "metadata": {},
   "source": [
    "## Resources\n",
    "\n",
    "The following are core, required resources for the course:\n",
    "\n",
    "- ***A laptop with wifi:** You are required to bring a laptop with Google Chrome and working wifi to every class meeting\n",
    "- *Whirlwind Tour of Python* (**WTP**), Jake VanderPlas.\n",
    "  - Placeholder\n",
    "  - [Read Online](https://www.oreilly.com/learning/a-whirlwind-tour-of-python)\n",
    "  - [Jupyter notebooks](https://github.com/jakevdp/WhirlwindTourOfPython)\n",
    "- *Python Data Science Handbook* (**PDSH**), Jake VanderPlas.\n",
    "  - [Buy](http://shop.oreilly.com/product/0636920034919.do)\n",
    "  - [Read online](http://proquest.safaribooksonline.com.ezproxy.lib.calpoly.edu/book/programming/python/9781491912126)\n",
    "  - [Jupyter notebooks](https://github.com/jakevdp/PythonDataScienceHandbook)\n",
    "- *Introduction to Machine Learning with Python* (**IMLP**), Andreas Muller and Sarah Guido.\n",
    "  - [Buy](http://shop.oreilly.com/product/0636920030515.do)\n",
    "  - [Read online](http://proquest.safaribooksonline.com.ezproxy.lib.calpoly.edu/book/programming/machine-learning/9781449369880)\n",
    "  - [Jupyter notebooks](https://github.com/amueller/introduction_to_ml_with_python)\n",
    "- *R for Data Science:* (**R4DS**), Garrett Grolemund and Hadley Wickham.\n",
    "  - [Read online](http://r4ds.had.co.nz/index.html)\n",
    "- **Git and GitHub:** (http://github.com) A version control system and public web-based repository for writing code collaboratively. You need to have a GitHub account and username to participate in the course. Usage of Git/GitHub for version control is optional.\n",
    "- **Jupyter:** (http://jupyter.org) An interactive computing environment for Python and other languages. Once we have set this up during the first day of class, you can sign into the JupyterHub instance for the course at https://data301.calpolydatascience.org using your GitHub username and password.\n",
    "- **Gitter:** (http://gitter.com) An online chat system that is integrated with GitHub. We will use Gitter for all course discussions (https://gitter.im/calpolydatascience/data301-winter-2017)."
   ]
  },
  {
   "cell_type": "markdown",
   "metadata": {},
   "source": [
    "The following are optional, but highly useful, resources you might find useful:\n",
    "\n",
    "* *Python for Data Analysis:* The definitive book on Pandas, by its creator Wes McKinney. A bit out of date, but still very good.\n",
    "* *Codecademy:* (http://www.codecademy.com) A free online series of interactive programming courses. Everyone should know Python already, but I recommend Codecademy for brushing up.\n",
    "* *Deep Learning:* Ian Goodfellow, Yoshua Bengio and Aaron Courville (http://www.deeplearningbook.org/). A more advanced book than this course, but many of the concepts and content for the course are from this book."
   ]
  },
  {
   "cell_type": "markdown",
   "metadata": {},
   "source": [
    "## Grading\n",
    "\n",
    "Your final grade in the course will be based on the following:\n",
    "\n",
    "<table>\n",
    "<tr>\n",
    "<td><b>Assignments</b></td>\n",
    "<td>60%</td>\n",
    "</tr>\n",
    "<tr>\n",
    "<td><b>Midterm Exam</b></td>\n",
    "<td>20%</td>\n",
    "</tr>\n",
    "<tr>\n",
    "<td><b>Final Project/Presentation</b></td>\n",
    "<td>20%</td>\n",
    "</tr>\n",
    "</table>"
   ]
  },
  {
   "cell_type": "markdown",
   "metadata": {},
   "source": [
    "## Class time and assignments\n",
    "\n",
    "The main work for the course will take place in the context of programming, visualization and writing assignments. Assignments may be assigned as often as every class session, but you may be given more time for longer assignments. Assignments will be due at the beginning of class. The due date for each assignment will be provided in the daily class schedule.\n",
    "\n",
    "**No late assignments will be accepted.**\n",
    "\n",
    "You will work on the assignments both in and out of class, so class attendance is mandatory. You must stay until the end of class unless you get specific, explicit permission to leave early.\n",
    "\n",
    "All assignments will be distributed and turned in using *nbgrader*. Details about *nbgrader* will be provided in class.\n",
    "\n",
    "We will spend most of our class time learning Data Science by doing hands-on programming activities. Sometimes you will work alone. Other times you will participate in pair programming exercises where you are the *driver* and your partner is the *navigator* and vice versa.  Studies show that this is a very effective way to learn programming and Data Science.\n",
    "\n",
    "As with any skill, the only way to become proficient is to practice.  **A LOT.**  Think about your experiences learning a musical instrument or playing a sport.  A little bit of practice every day is crucial.  You will probably be spending **8 to 12 hours per week** *outside of class* writing and debugging code.\n",
    "\n",
    "If you have trouble with the homework, come to my office hours or seek help from your peers in person or on Gitter.  Don't wait until you are in trouble to take action."
   ]
  },
  {
   "cell_type": "markdown",
   "metadata": {},
   "source": [
    "## Midterm exam\n",
    "\n",
    "There will be one midterm exam on **Tuesday, February 7** during the first hour of class.  The exam will cover the material from the first 4 weeks of class."
   ]
  },
  {
   "cell_type": "markdown",
   "metadata": {},
   "source": [
    "## Final project/presentation\n",
    "\n",
    "Your last assignment of the quarter will be an open-ended project. You will turn in your project using *nbgrader* by the beginning of the final exam period for your section. During the final exam period you will present a 5 minute demonstration of your project and its results to the rest of the class.  The demonstration will be graded by me and your peers using an oral presentation rubric.  These assessments will be part of your grade for the project. We will spend some class time working on the projects but most of the work will be completed outside of class.\n",
    "\n",
    "* **Section 01/02:** Thursday, March 23, 7:10-10:00am\n",
    "* **Section 03/04:** Thursday, March 23, 1:10-4:00pm"
   ]
  },
  {
   "cell_type": "markdown",
   "metadata": {},
   "source": [
    "## Guidelines for Academic Honesty\n"
   ]
  },
  {
   "cell_type": "markdown",
   "metadata": {},
   "source": [
    "This course will follow Cal Poly's standard policy for Cheating and Plagiarism, which can be found here:\n",
    "\n",
    "http://www.academicprograms.calpoly.edu/content/academicpolicies/Cheating\n",
    "\n",
    "This policy can be summarized as follows:\n",
    "\n",
    "**Cal Poly will not tolerate academic cheating or plagiarism in any form.**\n",
    "\n",
    "**University policy can be summarized simply: As a student, you are responsible for your own work and you are responsible for your actions.**\n",
    "\n"
   ]
  }
 ],
 "metadata": {
  "kernelspec": {
   "display_name": "Python 3",
   "language": "python",
   "name": "python3"
  },
  "language_info": {
   "codemirror_mode": {
    "name": "ipython",
    "version": 3
   },
   "file_extension": ".py",
   "mimetype": "text/x-python",
   "name": "python",
   "nbconvert_exporter": "python",
   "pygments_lexer": "ipython3",
   "version": "3.5.2"
  }
 },
 "nbformat": 4,
 "nbformat_minor": 1
}
