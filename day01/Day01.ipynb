{
 "cells": [
  {
   "cell_type": "markdown",
   "metadata": {},
   "source": [
    "# Day 1\n",
    "\n",
    "* Introduction to Data Science (Data 301)\n",
    "* Cal Poly, Winter 2017\n",
    "* Brian E. Granger"
   ]
  },
  {
   "cell_type": "markdown",
   "metadata": {},
   "source": [
    "## In class\n",
    "\n",
    "* Syllabus\n",
    "* Setup accounts on https://data301.calpolydatascience.org\n",
    "* Introduction to Jupyter\n",
    "* Introduction to nbgrader\n",
    "  - `cd` - go back to your home directory\n",
    "  - `nbgrader list --course data301`\n",
    "  - `nbgrader fetch --course data301 day01`\n",
    "  - `nbgrader fetch --course data301 assignment01`\n",
    "* Download course materials:\n",
    "  - `cd` - go back to your home directory\n",
    "  - `git clone https://github.com/calpolydatascience/data301.git`\n",
    "* Today's material\n",
    "  - Workflow\n",
    "  - Programming\n",
    "* To reset/update course materials:\n",
    "  - `cd`\n",
    "  - `cd data301`\n",
    "  - `make update`"
   ]
  },
  {
   "cell_type": "markdown",
   "metadata": {},
   "source": [
    "## Out of class\n",
    "\n",
    "* Complete `assignment01` by the beginning of class, Thursday, day 2."
   ]
  }
 ],
 "metadata": {
  "kernelspec": {
   "display_name": "Python 3",
   "language": "python",
   "name": "python3"
  },
  "language_info": {
   "codemirror_mode": {
    "name": "ipython",
    "version": 3
   },
   "file_extension": ".py",
   "mimetype": "text/x-python",
   "name": "python",
   "nbconvert_exporter": "python",
   "pygments_lexer": "ipython3",
   "version": "3.5.2"
  }
 },
 "nbformat": 4,
 "nbformat_minor": 1
}
