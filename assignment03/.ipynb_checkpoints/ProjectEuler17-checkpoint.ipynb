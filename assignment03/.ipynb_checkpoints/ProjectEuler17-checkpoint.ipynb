{
 "cells": [
  {
   "cell_type": "markdown",
   "metadata": {},
   "source": [
    "# Project Euler: Problem 17"
   ]
  },
  {
   "cell_type": "markdown",
   "metadata": {},
   "source": [
    "https://projecteuler.net/problem=17\n",
    "\n",
    "If the numbers 1 to 5 are written out in words: one, two, three, four, five, then there are 3 + 3 + 5 + 4 + 4 = 19 letters used in total.\n",
    "\n",
    "If all the numbers from 1 to 1000 (one thousand) inclusive were written out in words, how many letters would be used?\n",
    "\n",
    "\n",
    "NOTE: Do not count spaces or hyphens. For example, 342 (three hundred and forty-two) contains 23 letters and 115 (one hundred and fifteen) contains 20 letters. The use of \"and\" when writing out numbers is in compliance with British usage."
   ]
  },
  {
   "cell_type": "markdown",
   "metadata": {},
   "source": [
    "First write a `number_to_words(n)` function that takes an integer `n` between 1 and 1000 inclusive and returns a list of words for the number as described above"
   ]
  },
  {
   "cell_type": "code",
   "execution_count": 51,
   "metadata": {
    "collapsed": true
   },
   "outputs": [],
   "source": [
    "ones = ['', 'one', 'two', 'three', 'four', 'five', 'six', 'seven', 'eight', 'nine']\n",
    "teens = ['ten', 'eleven', 'twelve', 'thirteen', 'fourteen', 'fifteen', 'sixteen', 'seventeen', 'eighteen', 'nineteen']\n",
    "tens = ['', '', 'twenty', 'thirty', 'forty', 'fifty', 'sixty', 'seventy', 'eighty', 'ninety']"
   ]
  },
  {
   "cell_type": "code",
   "execution_count": 62,
   "metadata": {
    "collapsed": false,
    "deletable": false,
    "nbgrader": {
     "checksum": "a1ba444d361e2d62543d7db0d563fdd7",
     "grade": true,
     "grade_id": "projecteuler17a",
     "locked": false,
     "points": 2,
     "schema_version": 1,
     "solution": true
    }
   },
   "outputs": [],
   "source": [
    "def number_to_words(n):\n",
    "    \"\"\"Given a number n between 1-1000 inclusive return a list of words for the number.\"\"\"\n",
    "    res = \"\"\n",
    "    if (n == 1000):\n",
    "        return 'one thousand'\n",
    "    if (n >= 100):\n",
    "        res += ones[n // 100]\n",
    "        res += \" hundred\"\n",
    "        \n",
    "    lower = n % 100\n",
    "    \n",
    "    if (lower > 0 and n > 100):\n",
    "        res += \" and \"\n",
    "    \n",
    "    if (lower >= 20):\n",
    "        res += tens[lower // 10]\n",
    "        if (lower % 10 != 0):\n",
    "            res += \"-\" + ones[lower % 10]\n",
    "    elif (lower < 20 and lower >= 10):\n",
    "        res += teens[lower % 10]\n",
    "    else:\n",
    "        res += ones[lower % 10]\n",
    "\n",
    "    return res"
   ]
  },
  {
   "cell_type": "markdown",
   "metadata": {},
   "source": [
    "Now write a set of `assert` tests for your `number_to_words` function that verifies that it is working as expected."
   ]
  },
  {
   "cell_type": "code",
   "execution_count": 67,
   "metadata": {
    "collapsed": false,
    "deletable": false,
    "nbgrader": {
     "checksum": "ac363c7c875b7eb8b56cbc461725a1cc",
     "grade": true,
     "grade_id": "projecteuler17b",
     "locked": false,
     "points": 2,
     "schema_version": 1,
     "solution": true
    }
   },
   "outputs": [],
   "source": [
    "# YOUR CODE HERE\n",
    "assert number_to_words(1000) == \"one thousand\"\n",
    "assert number_to_words(932) == \"nine hundred and thirty-two\"\n",
    "assert number_to_words(430) == \"four hundred and thirty\"\n",
    "assert number_to_words(144) == \"one hundred and forty-four\"\n",
    "assert number_to_words(12) == \"twelve\"\n",
    "assert number_to_words(1) == \"one\"\n",
    "assert number_to_words(23) == \"twenty-three\"\n",
    "assert number_to_words(99) == \"ninety-nine\"\n",
    "assert number_to_words(823) == \"eight hundred and twenty-three\"\n",
    "assert number_to_words(319) == \"three hundred and nineteen\"\n",
    "assert number_to_words(301) == \"three hundred and one\""
   ]
  },
  {
   "cell_type": "markdown",
   "metadata": {},
   "source": [
    "Now define a `count_letters(n)` that returns the number of letters used to write out the words for all of the the numbers `1` to `n` inclusive."
   ]
  },
  {
   "cell_type": "code",
   "execution_count": 64,
   "metadata": {
    "collapsed": true,
    "deletable": false,
    "nbgrader": {
     "checksum": "ec3d522ef66d2068950832459e7142f2",
     "grade": true,
     "grade_id": "projecteuler17c",
     "locked": false,
     "points": 2,
     "schema_version": 1,
     "solution": true
    }
   },
   "outputs": [],
   "source": [
    "def count_letters(n):\n",
    "    \"\"\"Count the number of letters used to write out the words for 1-n inclusive.\"\"\"\n",
    "    # YOUR CODE HERE\n",
    "    n = n.replace(' ', '')\n",
    "    n = n.replace('-', '')\n",
    "    return len(n)"
   ]
  },
  {
   "cell_type": "markdown",
   "metadata": {},
   "source": [
    "Now write a set of `assert` tests for your `count_letters` function that verifies that it is working as expected."
   ]
  },
  {
   "cell_type": "code",
   "execution_count": 68,
   "metadata": {
    "collapsed": false,
    "deletable": false,
    "nbgrader": {
     "checksum": "324d66978b5498d3b7df36e3793bc0c7",
     "grade": true,
     "grade_id": "projecteuler17d",
     "locked": false,
     "points": 2,
     "schema_version": 1,
     "solution": true
    }
   },
   "outputs": [],
   "source": [
    "# YOUR CODE HERE\n",
    "assert count_letters(number_to_words(342)) == 23\n",
    "assert count_letters(number_to_words(1000)) == 11\n",
    "assert count_letters(number_to_words(932)) == 23\n",
    "assert count_letters(number_to_words(430)) == 20\n",
    "assert count_letters(number_to_words(144)) == 22\n",
    "assert count_letters(number_to_words(12)) == 6\n",
    "assert count_letters(number_to_words(1)) == 3\n",
    "assert count_letters(number_to_words(23)) == 11\n",
    "assert count_letters(number_to_words(99)) == 10\n",
    "assert count_letters(number_to_words(823)) == 26\n",
    "assert count_letters(number_to_words(319)) == 23\n",
    "assert count_letters(number_to_words(301)) == 18"
   ]
  },
  {
   "cell_type": "markdown",
   "metadata": {},
   "source": [
    "Finally used your `count_letters` function to solve the original question."
   ]
  },
  {
   "cell_type": "code",
   "execution_count": 66,
   "metadata": {
    "collapsed": false,
    "deletable": false,
    "nbgrader": {
     "checksum": "c08acf66ff8af00cea13563b28a893e9",
     "grade": true,
     "grade_id": "projecteuler17e",
     "locked": false,
     "points": 2,
     "schema_version": 1,
     "solution": true
    }
   },
   "outputs": [
    {
     "name": "stdout",
     "output_type": "stream",
     "text": [
      "21124\n"
     ]
    }
   ],
   "source": [
    "# YOUR CODE HERE\n",
    "res = 0\n",
    "for x in range(1, 1001):\n",
    "    res += count_letters(number_to_words(x))\n",
    "    \n",
    "\n",
    "print(res)"
   ]
  },
  {
   "cell_type": "code",
   "execution_count": null,
   "metadata": {
    "collapsed": true
   },
   "outputs": [],
   "source": []
  }
 ],
 "metadata": {
  "kernelspec": {
   "display_name": "Python 3",
   "language": "python",
   "name": "python3"
  },
  "language_info": {
   "codemirror_mode": {
    "name": "ipython",
    "version": 3
   },
   "file_extension": ".py",
   "mimetype": "text/x-python",
   "name": "python",
   "nbconvert_exporter": "python",
   "pygments_lexer": "ipython3",
   "version": "3.5.2"
  }
 },
 "nbformat": 4,
 "nbformat_minor": 0
}
