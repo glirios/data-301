{
 "cells": [
  {
   "cell_type": "markdown",
   "metadata": {},
   "source": [
    "# Simulating the Chi-Squared Distribution"
   ]
  },
  {
   "cell_type": "markdown",
   "metadata": {},
   "source": [
    "In this notebook, you will simulate the [chi-squared](https://en.wikipedia.org/wiki/Chi-squared_distribution) distribution $\\chi^2_k$, where $k$ is an integer that is called the *degrees of freedom*. For this simulation, **do not** use `numpy.random.chisquare`; you will write you own function that generates $\\chi^2_k$ random variates.\n",
    "\n",
    "This distribution is defined in terms of the standard ($\\mu=0.0$, $\\sigma=1.0$) normal distribution:\n",
    "\n",
    "$$Z \\sim N(0.0,1.0) $$\n",
    "\n",
    "$$ X \\sim \\sum_{i=1}^{k} Z_i^2 $$\n",
    "\n",
    "In plain english:\n",
    "\n",
    "> Draw $k$ standard normal random variables, square them all and take the sum. That will be a single random variable from $\\chi^2_k$"
   ]
  },
  {
   "cell_type": "markdown",
   "metadata": {},
   "source": [
    "## Imports"
   ]
  },
  {
   "cell_type": "code",
   "execution_count": 3,
   "metadata": {
    "collapsed": true
   },
   "outputs": [],
   "source": [
    "import numpy as np\n",
    "from matplotlib import pyplot as plt\n",
    "%matplotlib inline"
   ]
  },
  {
   "cell_type": "code",
   "execution_count": 4,
   "metadata": {
    "collapsed": true
   },
   "outputs": [],
   "source": [
    "from ipywidgets import interact, fixed"
   ]
  },
  {
   "cell_type": "markdown",
   "metadata": {},
   "source": [
    "## Simulating chi-squared"
   ]
  },
  {
   "cell_type": "markdown",
   "metadata": {},
   "source": [
    "Write a function, `chi_squared`, that returns random numbers drawn from the $\\chi^2_k$ distribution with degree of freedom $k$. In doing this, first draw random numbers from the standard normal distribution and then use those to generate the chi-squared random variates."
   ]
  },
  {
   "cell_type": "code",
   "execution_count": 24,
   "metadata": {
    "collapsed": true,
    "deletable": false,
    "nbgrader": {
     "checksum": "0f61aa7becd75ea44fcc747381eaa884",
     "grade": false,
     "grade_id": "chisquared-a",
     "locked": false,
     "schema_version": 1,
     "solution": true
    }
   },
   "outputs": [],
   "source": [
    "def chi_squared(k, size=1):\n",
    "    \"\"\"Return random numbers drawn from the chi-squared distribution.\n",
    "    \n",
    "    Parameters\n",
    "    ----------\n",
    "    k: int\n",
    "        The degrees of freedom of the distribution.\n",
    "    size: int\n",
    "        The number of random numbers to return as an array.\n",
    "    \"\"\"\n",
    "    alist = np.empty(size, dtype = float)\n",
    "    for i in range(size):\n",
    "        data = np.random.normal(0.0, 1.0, k)\n",
    "        data = data **2\n",
    "        dis = data.sum()\n",
    "        alist[i] = dis\n",
    "    return alist"
   ]
  },
  {
   "cell_type": "markdown",
   "metadata": {},
   "source": [
    "To test your distribution, draw 100 chi-squared random numbers for $k=7$ and print the mean and variance of the data and compare that with the expected mean and variance for $k=7$:"
   ]
  },
  {
   "cell_type": "code",
   "execution_count": 29,
   "metadata": {
    "collapsed": false,
    "deletable": false,
    "nbgrader": {
     "checksum": "9bfcfd44bc341560fa6a6dcc93c9ec44",
     "grade": true,
     "grade_id": "chisquared-b",
     "locked": false,
     "points": 4,
     "schema_version": 1,
     "solution": true
    }
   },
   "outputs": [
    {
     "data": {
      "text/plain": [
       "(7.1068966164844083, 7.3648017598402529, 16.824138861784597, 12.70887786669325)"
      ]
     },
     "execution_count": 29,
     "metadata": {},
     "output_type": "execute_result"
    }
   ],
   "source": [
    "# YOUR CODE HERE\n",
    "data1 = chi_squared(7, 100)\n",
    "data2 = np.random.chisquare(7, 100)\n",
    "data2.mean(), data1.mean(), data2.var(), data1.var()"
   ]
  },
  {
   "cell_type": "markdown",
   "metadata": {},
   "source": [
    "To visualize the $\\chi^2_k$ distribution, write a function, `plot_chi_squared`, that makes an appropriately labeled histogram using Matplotlib. Normalize the histogram and customize the number of bins."
   ]
  },
  {
   "cell_type": "code",
   "execution_count": 34,
   "metadata": {
    "collapsed": true,
    "deletable": false,
    "nbgrader": {
     "checksum": "e0e3d14ce08b27febdfb37afaa81f62c",
     "grade": false,
     "grade_id": "chisquared-c",
     "locked": false,
     "schema_version": 1,
     "solution": true
    }
   },
   "outputs": [],
   "source": [
    "def plot_chi_squared(k, samples):\n",
    "    \"\"\"Plot the chi-squared distribution as a distplot with 300 points.\n",
    "    \n",
    "    k: int\n",
    "        The k parameter of the chi-squared distributions.\n",
    "    samples: int\n",
    "        The number of samples to draw.\n",
    "    \"\"\"\n",
    "    # YOUR CODE HERE\n",
    "    data = chi_squared(k, samples)\n",
    "    plt.hist(data, normed=True);"
   ]
  },
  {
   "cell_type": "code",
   "execution_count": 35,
   "metadata": {
    "collapsed": false,
    "deletable": false,
    "editable": false,
    "nbgrader": {
     "checksum": "49a546536dfe5f56bfe8cd2be97a3f41",
     "grade": false,
     "grade_id": "chisquared-d",
     "locked": true,
     "schema_version": 1,
     "solution": false
    }
   },
   "outputs": [
    {
     "data": {
      "image/png": "[encoded data removed]",
      "text/plain": [
       "<matplotlib.figure.Figure at 0x7f43632a59b0>"
      ]
     },
     "metadata": {},
     "output_type": "display_data"
    }
   ],
   "source": [
    "plot_chi_squared(5, 500)"
   ]
  },
  {
   "cell_type": "markdown",
   "metadata": {},
   "source": [
    "Use `interact` to explore the `plot_chi_squared` function interactively with `k` in the interval $[0,10]$ and `samples` in the interval $[20,400]$ by steps of 20."
   ]
  },
  {
   "cell_type": "code",
   "execution_count": 38,
   "metadata": {
    "collapsed": false,
    "deletable": false,
    "nbgrader": {
     "checksum": "8d9d0dc6e57c4e6183869d2558b3a28a",
     "grade": true,
     "grade_id": "chisquared-e",
     "locked": false,
     "points": 4,
     "schema_version": 1,
     "solution": true
    }
   },
   "outputs": [
    {
     "data": {
      "image/png": "[encoded data removed]",
      "text/plain": [
       "<matplotlib.figure.Figure at 0x7f4358dcf320>"
      ]
     },
     "metadata": {},
     "output_type": "display_data"
    }
   ],
   "source": [
    "# YOUR CODE HERE\n",
    "interact(plot_chi_squared, k=(0, 10, 1), samples=(20, 400, 20))"
   ]
  },
  {
   "cell_type": "code",
   "execution_count": null,
   "metadata": {
    "collapsed": true
   },
   "outputs": [],
   "source": []
  }
 ],
 "metadata": {
  "kernelspec": {
   "display_name": "Python 3",
   "language": "python",
   "name": "python3"
  },
  "language_info": {
   "codemirror_mode": {
    "name": "ipython",
    "version": 3
   },
   "file_extension": ".py",
   "mimetype": "text/x-python",
   "name": "python",
   "nbconvert_exporter": "python",
   "pygments_lexer": "ipython3",
   "version": "3.5.2"
  },
  "widgets": {
   "state": {
    "cd722acaf8294cb491243a3c8eaf7ac1": {
     "views": [
      {
       "cell_index": 14
      }
     ]
    }
   },
   "version": "1.2.0"
  }
 },
 "nbformat": 4,
 "nbformat_minor": 0
}
