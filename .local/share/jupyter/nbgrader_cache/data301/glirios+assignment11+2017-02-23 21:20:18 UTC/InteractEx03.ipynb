{
 "cells": [
  {
   "cell_type": "markdown",
   "metadata": {},
   "source": [
    "# Interact Exercise 3"
   ]
  },
  {
   "cell_type": "markdown",
   "metadata": {},
   "source": [
    "## Imports"
   ]
  },
  {
   "cell_type": "code",
   "execution_count": 1,
   "metadata": {
    "collapsed": true
   },
   "outputs": [],
   "source": [
    "%matplotlib inline\n",
    "from matplotlib import pyplot as plt\n",
    "import numpy as np"
   ]
  },
  {
   "cell_type": "code",
   "execution_count": 2,
   "metadata": {
    "collapsed": false
   },
   "outputs": [],
   "source": [
    "from ipywidgets import interact, interactive, fixed\n",
    "from IPython.display import display"
   ]
  },
  {
   "cell_type": "markdown",
   "metadata": {},
   "source": [
    "# Using interact for animation with data"
   ]
  },
  {
   "cell_type": "markdown",
   "metadata": {},
   "source": [
    "A [*soliton*](http://en.wikipedia.org/wiki/Soliton) is a constant velocity wave that maintains its shape as it propagates. They arise from non-linear wave equations, such has the [Korteweg–de Vries](http://en.wikipedia.org/wiki/Korteweg%E2%80%93de_Vries_equation) equation, which has the following analytical solution:\n",
    "\n",
    "$$\n",
    "\\phi(x,t) = \\frac{1}{2} c \\mathrm{sech}^2 \\left[ \\frac{\\sqrt{c}}{2} \\left(x - ct - a \\right) \\right]\n",
    "$$\n",
    "\n",
    "The constant `c` is the velocity and the constant `a` is the initial location of the soliton.\n",
    "\n",
    "Define `soliton(x, t, c, a)` function that computes the value of the soliton wave for the given arguments. Your function should work when the postion `x` *or* `t` are NumPy arrays, in which case it should return a NumPy array itself."
   ]
  },
  {
   "cell_type": "code",
   "execution_count": 3,
   "metadata": {
    "collapsed": false,
    "deletable": false,
    "nbgrader": {
     "checksum": "fc2b476e1494564b1dc2ca1b7458579d",
     "grade": false,
     "grade_id": "interactex03a",
     "locked": false,
     "schema_version": 1,
     "solution": true
    }
   },
   "outputs": [],
   "source": [
    "def soliton(x, t, c, a):\n",
    "    \"\"\"Return phi(x, t) for a soliton wave with constants c and a.\"\"\"\n",
    "    # YOUR CODE HERE\n",
    "    return (1/2) * c * (1/ np.cosh( (np.sqrt(c)/2) *(x - c * t - a) ) ) ** 2"
   ]
  },
  {
   "cell_type": "code",
   "execution_count": 4,
   "metadata": {
    "collapsed": false,
    "deletable": false,
    "editable": false,
    "nbgrader": {
     "checksum": "dbaf563d5108d06998de634c9954abf7",
     "grade": true,
     "grade_id": "interactex03b",
     "locked": false,
     "points": 2,
     "schema_version": 1,
     "solution": false
    }
   },
   "outputs": [],
   "source": [
    "assert np.allclose(soliton(np.array([0]),0.0,1.0,0.0), np.array([0.5]))"
   ]
  },
  {
   "cell_type": "markdown",
   "metadata": {},
   "source": [
    "To create an animation of a soliton propagating in time, we are going to precompute the soliton data and store it in a 2d array. To set this up, we create the following variables and arrays:"
   ]
  },
  {
   "cell_type": "code",
   "execution_count": 5,
   "metadata": {
    "collapsed": true,
    "deletable": false,
    "editable": false,
    "nbgrader": {
     "checksum": "9873dbc55ac5de50889bdb504ca0b0c8",
     "grade": false,
     "grade_id": "interactex03c",
     "locked": true,
     "schema_version": 1,
     "solution": false
    }
   },
   "outputs": [],
   "source": [
    "tmin = 0.0\n",
    "tmax = 10.0\n",
    "tpoints = 100\n",
    "t = np.linspace(tmin, tmax, tpoints)\n",
    "\n",
    "xmin = 0.0\n",
    "xmax = 10.0\n",
    "xpoints = 200\n",
    "x = np.linspace(xmin, xmax, xpoints)\n",
    "\n",
    "c = 1.0\n",
    "a = 0.0"
   ]
  },
  {
   "cell_type": "markdown",
   "metadata": {},
   "source": [
    "Compute a 2d NumPy array called `phi`:\n",
    "\n",
    "* It should have a dtype of `float`.\n",
    "* It should have a shape of `(xpoints, tpoints)`.\n",
    "* `phi[i,j]` should contain the value $\\phi(x[i],t[j])$.\n",
    "* If you choose to you `np.meshgrid` be careful about the `indexing` argument."
   ]
  },
  {
   "cell_type": "code",
   "execution_count": 6,
   "metadata": {
    "collapsed": false,
    "deletable": false,
    "nbgrader": {
     "checksum": "de8961236fbf3cc9a00d413b8183a917",
     "grade": false,
     "grade_id": "interactex03d",
     "locked": false,
     "schema_version": 1,
     "solution": true
    }
   },
   "outputs": [],
   "source": [
    "# YOUR CODE HERE\n",
    "phi = np.zeros((xpoints, tpoints), dtype='float')\n",
    "for row in range(xpoints):\n",
    "    for col in range(tpoints):\n",
    "        phi[row, col] = soliton(x[row], t[col], c, a)\n"
   ]
  },
  {
   "cell_type": "code",
   "execution_count": 7,
   "metadata": {
    "collapsed": false,
    "deletable": false,
    "editable": false,
    "nbgrader": {
     "checksum": "63193441d9a6095e01a967a2fe098117",
     "grade": true,
     "grade_id": "interactex03e",
     "locked": false,
     "points": 4,
     "schema_version": 1,
     "solution": false
    }
   },
   "outputs": [],
   "source": [
    "assert phi.shape==(xpoints, tpoints)\n",
    "assert phi.ndim==2\n",
    "assert phi.dtype==np.dtype(float)\n",
    "assert phi[0,0]==soliton(x[0],t[0],c,a)"
   ]
  },
  {
   "cell_type": "code",
   "execution_count": 8,
   "metadata": {
    "collapsed": false
   },
   "outputs": [
    {
     "data": {
      "text/plain": [
       "array([  5.00000000e-01,   4.98726786e-01,   4.94932981e-01,\n",
       "         4.88694993e-01,   4.80136557e-01,   4.69423589e-01,\n",
       "         4.56757506e-01,   4.42367451e-01,   4.26501924e-01,\n",
       "         4.09420319e-01,   3.91384795e-01,   3.72652885e-01,\n",
       "         3.53471109e-01,   3.34069758e-01,   3.14658959e-01,\n",
       "         2.95425977e-01,   2.76533700e-01,   2.58120155e-01,\n",
       "         2.40298902e-01,   2.23160132e-01,   2.06772275e-01,\n",
       "         1.91183968e-01,   1.76426237e-01,   1.62514753e-01,\n",
       "         1.49452084e-01,   1.37229856e-01,   1.25830770e-01,\n",
       "         1.15230443e-01,   1.05399057e-01,   9.63027996e-02,\n",
       "         8.79051079e-02,   8.01677229e-02,   7.30515647e-02,\n",
       "         6.65174483e-02,   6.05266576e-02,   5.50413928e-02,\n",
       "         5.00251120e-02,   4.54427805e-02,   4.12610441e-02,\n",
       "         3.74483391e-02,   3.39749515e-02,   3.08130342e-02,\n",
       "         2.79365934e-02,   2.53214482e-02,   2.29451733e-02,\n",
       "         2.07870275e-02,   1.88278729e-02,   1.70500881e-02,\n",
       "         1.54374792e-02,   1.39751887e-02,   1.26496061e-02,\n",
       "         1.14482796e-02,   1.03598312e-02,   9.37387564e-03,\n",
       "         8.48094264e-03,   7.67240381e-03,   6.94040403e-03,\n",
       "         6.27779710e-03,   5.67808587e-03,   5.13536664e-03,\n",
       "         4.64427770e-03,   4.19995182e-03,   3.79797246e-03,\n",
       "         3.43433353e-03,   3.10540249e-03,   2.80788653e-03,\n",
       "         2.53880156e-03,   2.29544399e-03,   2.07536489e-03,\n",
       "         1.87634643e-03,   1.69638047e-03,   1.53364901e-03,\n",
       "         1.38650645e-03,   1.25346340e-03,   1.13317208e-03,\n",
       "         1.02441292e-03,   9.26082511e-04,   8.37182638e-04,\n",
       "         7.56810294e-04,   6.84148677e-04,   6.18459007e-04,\n",
       "         5.59073108e-04,   5.05386699e-04,   4.56853305e-04,\n",
       "         4.12978753e-04,   3.73316181e-04,   3.37461525e-04,\n",
       "         3.05049431e-04,   2.75749555e-04,   2.49263218e-04,\n",
       "         2.25320377e-04,   2.03676884e-04,   1.84112007e-04,\n",
       "         1.66426188e-04,   1.50439015e-04,   1.35987387e-04,\n",
       "         1.22923856e-04,   1.11115124e-04,   1.00440689e-04,\n",
       "         9.07916155e-05])"
      ]
     },
     "execution_count": 8,
     "metadata": {},
     "output_type": "execute_result"
    }
   ],
   "source": [
    "phi[0,:]"
   ]
  },
  {
   "cell_type": "markdown",
   "metadata": {},
   "source": [
    "Write a `plot_soliton_data(i)` function that plots the soliton wave $\\phi(x, t[i])$. Customize your plot to make it effective and beautiful."
   ]
  },
  {
   "cell_type": "code",
   "execution_count": 9,
   "metadata": {
    "collapsed": false,
    "deletable": false,
    "nbgrader": {
     "checksum": "49b9366fe7f9aae95632ff30bb1d65ed",
     "grade": false,
     "grade_id": "interactex03f",
     "locked": false,
     "schema_version": 1,
     "solution": true
    }
   },
   "outputs": [],
   "source": [
    "def plot_soliton_data(i=0):\n",
    "    \"\"\"Plot the soliton data at t[i] versus x.\"\"\"\n",
    "    # YOUR CODE HERE\n",
    "    plt.figure()\n",
    "    plt.plot(x, phi[:,i])"
   ]
  },
  {
   "cell_type": "code",
   "execution_count": 10,
   "metadata": {
    "collapsed": false,
    "deletable": false,
    "nbgrader": {
     "checksum": "ecd74ea54c67118161e65a947b75b302",
     "grade": true,
     "grade_id": "interactex03g",
     "locked": false,
     "points": 2,
     "schema_version": 1,
     "solution": true
    }
   },
   "outputs": [
    {
     "data": {
      "image/png": "[encoded data removed]",
      "text/plain": [
       "<matplotlib.figure.Figure at 0x7f875d7319e8>"
      ]
     },
     "metadata": {},
     "output_type": "display_data"
    }
   ],
   "source": [
    "# YOUR CODE HERE\n",
    "plot_soliton_data(50)"
   ]
  },
  {
   "cell_type": "markdown",
   "metadata": {},
   "source": [
    "Use `interact` to animate the `plot_soliton_data` function versus time."
   ]
  },
  {
   "cell_type": "code",
   "execution_count": 11,
   "metadata": {
    "collapsed": false,
    "deletable": false,
    "nbgrader": {
     "checksum": "8bae85a1563f71a04834df06146e76d7",
     "grade": true,
     "grade_id": "interactex03h",
     "locked": false,
     "points": 2,
     "schema_version": 1,
     "solution": true
    }
   },
   "outputs": [
    {
     "data": {
      "text/plain": [
       "<function __main__.plot_soliton_data>"
      ]
     },
     "execution_count": 11,
     "metadata": {},
     "output_type": "execute_result"
    },
    {
     "data": {
      "image/png": "[encoded data removed]",
      "text/plain": [
       "<matplotlib.figure.Figure at 0x7f875dcfedd8>"
      ]
     },
     "metadata": {},
     "output_type": "display_data"
    }
   ],
   "source": [
    "# YOUR CODE HERE\n",
    "interact(plot_soliton_data, i=(0,100,1))"
   ]
  },
  {
   "cell_type": "code",
   "execution_count": null,
   "metadata": {
    "collapsed": true
   },
   "outputs": [],
   "source": []
  }
 ],
 "metadata": {
  "kernelspec": {
   "display_name": "Python 3",
   "language": "python",
   "name": "python3"
  },
  "language_info": {
   "codemirror_mode": {
    "name": "ipython",
    "version": 3
   },
   "file_extension": ".py",
   "mimetype": "text/x-python",
   "name": "python",
   "nbconvert_exporter": "python",
   "pygments_lexer": "ipython3",
   "version": "3.5.2"
  },
  "widgets": {
   "state": {
    "7216bb35012c4052ae068744eefa2118": {
     "views": [
      {
       "cell_index": 18
      }
     ]
    }
   },
   "version": "1.2.0"
  }
 },
 "nbformat": 4,
 "nbformat_minor": 0
}
