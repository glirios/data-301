{
 "cells": [
  {
   "cell_type": "markdown",
   "metadata": {},
   "source": [
    "# Interact Exercise 01"
   ]
  },
  {
   "cell_type": "markdown",
   "metadata": {},
   "source": [
    "## Import"
   ]
  },
  {
   "cell_type": "code",
   "execution_count": 1,
   "metadata": {
    "collapsed": true
   },
   "outputs": [],
   "source": [
    "%matplotlib inline\n",
    "from matplotlib import pyplot as plt\n",
    "import numpy as np"
   ]
  },
  {
   "cell_type": "code",
   "execution_count": 2,
   "metadata": {
    "collapsed": false
   },
   "outputs": [],
   "source": [
    "from ipywidgets import interact, interactive, fixed\n",
    "from IPython.display import display"
   ]
  },
  {
   "cell_type": "markdown",
   "metadata": {},
   "source": [
    "## Interact basics"
   ]
  },
  {
   "cell_type": "markdown",
   "metadata": {},
   "source": [
    "Write a `print_sum` function that `prints` the sum of its arguments `a` and `b`."
   ]
  },
  {
   "cell_type": "code",
   "execution_count": 3,
   "metadata": {
    "collapsed": true,
    "deletable": false,
    "nbgrader": {
     "checksum": "4d12136e5e267e4a543f6b635a110773",
     "grade": false,
     "grade_id": "interactex01a",
     "locked": false,
     "schema_version": 1,
     "solution": true
    }
   },
   "outputs": [],
   "source": [
    "def print_sum(a, b):\n",
    "    \"\"\"Print the sum of the arguments a and b.\"\"\"\n",
    "    # YOUR CODE HERE\n",
    "    c=a+b\n",
    "    print(c)"
   ]
  },
  {
   "cell_type": "markdown",
   "metadata": {},
   "source": [
    "Use the `interact` function to interact with the `print_sum` function.\n",
    "\n",
    "* `a` should be a floating point slider over the interval `[-10., 10.]` with step sizes of `0.1`\n",
    "* `b` should be an integer slider the interval [-8, 8] with step sizes of `2`."
   ]
  },
  {
   "cell_type": "code",
   "execution_count": 4,
   "metadata": {
    "collapsed": false,
    "deletable": false,
    "nbgrader": {
     "checksum": "d831c108e317e951bff7e515aa6810a7",
     "grade": true,
     "grade_id": "interactex01b",
     "locked": false,
     "points": 2,
     "schema_version": 1,
     "solution": true
    }
   },
   "outputs": [
    {
     "name": "stdout",
     "output_type": "stream",
     "text": [
      "0\n"
     ]
    }
   ],
   "source": [
    "# YOUR CODE HERE\n",
    "interact(print_sum, a=(-10,10,1), b=(-8,8,2));"
   ]
  },
  {
   "cell_type": "markdown",
   "metadata": {},
   "source": [
    "Write a function named `print_string` that prints a string and additionally prints the length of that string if a boolean parameter is `True`."
   ]
  },
  {
   "cell_type": "code",
   "execution_count": 5,
   "metadata": {
    "collapsed": true,
    "deletable": false,
    "nbgrader": {
     "checksum": "33fb10e5d52348600ed45b80ed610c31",
     "grade": false,
     "grade_id": "interactex01c",
     "locked": false,
     "schema_version": 1,
     "solution": true
    }
   },
   "outputs": [],
   "source": [
    "def print_string(s, length=False):\n",
    "    \"\"\"Print the string s and optionally its length.\"\"\"\n",
    "    # YOUR CODE HERE\n",
    "    if (length == True):\n",
    "        print (s, str(len(s)))\n",
    "    else:\n",
    "        print(s)"
   ]
  },
  {
   "cell_type": "markdown",
   "metadata": {},
   "source": [
    "Use the `interact` function to interact with the `print_string` function.\n",
    "\n",
    "* `s` should be a textbox with the initial value `\"Hello World!\"`.\n",
    "* `length` should be a checkbox with an initial value of `True`."
   ]
  },
  {
   "cell_type": "code",
   "execution_count": 6,
   "metadata": {
    "collapsed": false,
    "deletable": false,
    "nbgrader": {
     "checksum": "a5accedc074d2488f6959c58a98d4890",
     "grade": true,
     "grade_id": "interactex01d",
     "locked": false,
     "points": 2,
     "schema_version": 1,
     "solution": true
    }
   },
   "outputs": [
    {
     "name": "stdout",
     "output_type": "stream",
     "text": [
      "Hello World! 12\n"
     ]
    },
    {
     "data": {
      "text/plain": [
       "<function __main__.print_string>"
      ]
     },
     "execution_count": 6,
     "metadata": {},
     "output_type": "execute_result"
    }
   ],
   "source": [
    "# YOUR CODE HERE\n",
    "interact(print_string, s='Hello World!', length=True)"
   ]
  },
  {
   "cell_type": "code",
   "execution_count": null,
   "metadata": {
    "collapsed": true
   },
   "outputs": [],
   "source": []
  }
 ],
 "metadata": {
  "kernelspec": {
   "display_name": "Python 3",
   "language": "python",
   "name": "python3"
  },
  "language_info": {
   "codemirror_mode": {
    "name": "ipython",
    "version": 3
   },
   "file_extension": ".py",
   "mimetype": "text/x-python",
   "name": "python",
   "nbconvert_exporter": "python",
   "pygments_lexer": "ipython3",
   "version": "3.5.2"
  },
  "widgets": {
   "state": {
    "d3652447fc38408ebd8601f0bdd4aeee": {
     "views": [
      {
       "cell_index": 8
      }
     ]
    },
    "e3b0d04742aa4c72ad88a47ecb91432a": {
     "views": [
      {
       "cell_index": 12
      }
     ]
    }
   },
   "version": "1.2.0"
  }
 },
 "nbformat": 4,
 "nbformat_minor": 0
}
