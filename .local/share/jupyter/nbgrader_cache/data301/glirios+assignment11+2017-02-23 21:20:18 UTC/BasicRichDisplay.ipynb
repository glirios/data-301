{
 "cells": [
  {
   "cell_type": "markdown",
   "metadata": {},
   "source": [
    "# Basic Rich Display"
   ]
  },
  {
   "cell_type": "markdown",
   "metadata": {},
   "source": [
    "## Imports"
   ]
  },
  {
   "cell_type": "markdown",
   "metadata": {},
   "source": [
    "Put any needed imports needed to display rich output the following cell:"
   ]
  },
  {
   "cell_type": "code",
   "execution_count": 1,
   "metadata": {
    "collapsed": true,
    "deletable": false,
    "nbgrader": {
     "checksum": "fea781959ae345f8e7d4ac7d7dee3bd7",
     "grade": true,
     "grade_id": "basic-rich-display-a",
     "locked": false,
     "points": 2,
     "schema_version": 1,
     "solution": true
    }
   },
   "outputs": [],
   "source": [
    "# YOUR CODE HERE\n",
    "from IPython.display import Image, HTML, display"
   ]
  },
  {
   "cell_type": "markdown",
   "metadata": {},
   "source": [
    "# Basic rich display"
   ]
  },
  {
   "cell_type": "markdown",
   "metadata": {},
   "source": [
    "Find a Physics related image on the internet and display it in this notebook using the `Image` object.\n",
    "\n",
    "* Load it using the `url` argument to `Image` (don't upload the image to this server).\n",
    "* Make sure the set the `embed` flag so the image is embedded in the notebook data.\n",
    "* Set the width and height to `600px`."
   ]
  },
  {
   "cell_type": "code",
   "execution_count": 2,
   "metadata": {
    "collapsed": false,
    "deletable": false,
    "nbgrader": {
     "checksum": "0f5d7a601b2e2320f03748c282992c5c",
     "grade": true,
     "grade_id": "basic-rich-display-b",
     "locked": false,
     "points": 2,
     "schema_version": 1,
     "solution": true
    }
   },
   "outputs": [
    {
     "data": {
      "text/html": [
       "<img src=\"https://www.oxfordtutorialcollege.com/uploads/images/1Subjectpages/Fotolia_prism_physics_photo1.JPG\" width=\"600\" height=\"600\"/>"
      ],
      "text/plain": [
       "<IPython.core.display.Image object>"
      ]
     },
     "execution_count": 2,
     "metadata": {},
     "output_type": "execute_result"
    }
   ],
   "source": [
    "# YOUR CODE HERE\n",
    "Image(url='https://www.oxfordtutorialcollege.com/uploads/images/1Subjectpages/Fotolia_prism_physics_photo1.JPG',\n",
    "      width = 600,\n",
    "      height = 600\n",
    "     )"
   ]
  },
  {
   "cell_type": "markdown",
   "metadata": {},
   "source": [
    "Use the `HTML` object to display HTML in the notebook that reproduces the table of Quarks on [this page](http://en.wikipedia.org/wiki/List_of_particles). This will require you to learn about how to create HTML tables and then pass that to the HTML object for display. Use the default HTML table styling, and use LaTeX where appropriate."
   ]
  },
  {
   "cell_type": "code",
   "execution_count": 3,
   "metadata": {
    "collapsed": true,
    "deletable": false,
    "nbgrader": {
     "checksum": "25215713a7d9f9794600f245a1608853",
     "grade": true,
     "grade_id": "basic-rich-display-c",
     "locked": false,
     "points": 4,
     "schema_version": 1,
     "solution": true
    }
   },
   "outputs": [],
   "source": [
    "# YOUR CODE HERE\n",
    "s = \"\"\"<table>\n",
    "<tr>\n",
    "<th>Name</th>\n",
    "<th>Symbol</th>\n",
    "<th>Antiparticle</th>\n",
    "<th>Charge (e)</th>\n",
    "<th>Mass ($MeV/c^2$)</th>\n",
    "</tr>\n",
    "\n",
    "<tr>\n",
    "<td>up</td>\n",
    "<td>u</td>\n",
    "<td>$\\\\bar{u}$</td>\n",
    "<td>$+\\\\frac{2}{3}$</td>\n",
    "<td>1.5-3.3</td>\n",
    "</tr>\n",
    "\n",
    "<tr>\n",
    "<td>top</td>\n",
    "<td>t</td>\n",
    "<td>$\\\\bar{t}$</td>\n",
    "<td>$+\\\\frac{2}{3}$</td>\n",
    "<td>169,100–173,300</td>\n",
    "</tr>\n",
    "\n",
    "<tr>\n",
    "<td>strange</td>\n",
    "<td>s</td>\n",
    "<td>$\\\\bar{s}$</td>\n",
    "<td>$-\\\\frac{1}{3}$</td>\n",
    "<td>70–130</td>\n",
    "</tr>\n",
    "\n",
    "<tr>\n",
    "<td>down</td>\n",
    "<td>d</td>\n",
    "<td>$\\\\bar{d}$</td>\n",
    "<td>$-\\\\frac{1}{3}$</td>\n",
    "<td>3.5-6.0</td>\n",
    "</tr>\n",
    "\n",
    "<tr>\n",
    "<td>charm</td>\n",
    "<td>c</td>\n",
    "<td>$\\\\bar{c}$</td>\n",
    "<td>$+\\\\frac{2}{3}$</td>\n",
    "<td>1,160–1,340</td>\n",
    "</tr>\n",
    "\n",
    "<tr>\n",
    "<td>bottom</td>\n",
    "<td>b</td>\n",
    "<td>$\\\\bar{b}$</td>\n",
    "<td>$-\\\\frac{1}{3}$</td>\n",
    "<td>4,130–4,370</td>\n",
    "</tr>\n",
    "</table>\"\"\"\n"
   ]
  },
  {
   "cell_type": "code",
   "execution_count": 4,
   "metadata": {
    "collapsed": false
   },
   "outputs": [],
   "source": [
    "h = HTML(s)"
   ]
  },
  {
   "cell_type": "code",
   "execution_count": 5,
   "metadata": {
    "collapsed": false
   },
   "outputs": [
    {
     "data": {
      "text/html": [
       "<table>\n",
       "<tr>\n",
       "<th>Name</th>\n",
       "<th>Symbol</th>\n",
       "<th>Antiparticle</th>\n",
       "<th>Charge (e)</th>\n",
       "<th>Mass ($MeV/c^2$)</th>\n",
       "</tr>\n",
       "\n",
       "<tr>\n",
       "<td>up</td>\n",
       "<td>u</td>\n",
       "<td>$\\bar{u}$</td>\n",
       "<td>$+\\frac{2}{3}$</td>\n",
       "<td>1.5-3.3</td>\n",
       "</tr>\n",
       "\n",
       "<tr>\n",
       "<td>top</td>\n",
       "<td>t</td>\n",
       "<td>$\\bar{t}$</td>\n",
       "<td>$+\\frac{2}{3}$</td>\n",
       "<td>169,100–173,300</td>\n",
       "</tr>\n",
       "\n",
       "<tr>\n",
       "<td>strange</td>\n",
       "<td>s</td>\n",
       "<td>$\\bar{s}$</td>\n",
       "<td>$-\\frac{1}{3}$</td>\n",
       "<td>70–130</td>\n",
       "</tr>\n",
       "\n",
       "<tr>\n",
       "<td>down</td>\n",
       "<td>d</td>\n",
       "<td>$\\bar{d}$</td>\n",
       "<td>$-\\frac{1}{3}$</td>\n",
       "<td>3.5-6.0</td>\n",
       "</tr>\n",
       "\n",
       "<tr>\n",
       "<td>charm</td>\n",
       "<td>c</td>\n",
       "<td>$\\bar{c}$</td>\n",
       "<td>$+\\frac{2}{3}$</td>\n",
       "<td>1,160–1,340</td>\n",
       "</tr>\n",
       "\n",
       "<tr>\n",
       "<td>bottom</td>\n",
       "<td>b</td>\n",
       "<td>$\\bar{b}$</td>\n",
       "<td>$-\\frac{1}{3}$</td>\n",
       "<td>4,130–4,370</td>\n",
       "</tr>\n",
       "</table>"
      ],
      "text/plain": [
       "<IPython.core.display.HTML object>"
      ]
     },
     "metadata": {},
     "output_type": "display_data"
    }
   ],
   "source": [
    "display(h)"
   ]
  },
  {
   "cell_type": "code",
   "execution_count": null,
   "metadata": {
    "collapsed": true
   },
   "outputs": [],
   "source": []
  }
 ],
 "metadata": {
  "kernelspec": {
   "display_name": "Python 3",
   "language": "python",
   "name": "python3"
  },
  "language_info": {
   "codemirror_mode": {
    "name": "ipython",
    "version": 3
   },
   "file_extension": ".py",
   "mimetype": "text/x-python",
   "name": "python",
   "nbconvert_exporter": "python",
   "pygments_lexer": "ipython3",
   "version": "3.5.2"
  }
 },
 "nbformat": 4,
 "nbformat_minor": 0
}
