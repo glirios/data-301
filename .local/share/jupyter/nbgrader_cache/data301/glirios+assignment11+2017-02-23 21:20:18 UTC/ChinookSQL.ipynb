{
 "cells": [
  {
   "cell_type": "markdown",
   "metadata": {},
   "source": [
    "# Exploring the Chinook database with SQL"
   ]
  },
  {
   "cell_type": "markdown",
   "metadata": {},
   "source": [
    "In this notebook, you will practice using SQL queries with Pandas to explore the [Chinook database](https://chinookdatabase.codeplex.com/) of music."
   ]
  },
  {
   "cell_type": "markdown",
   "metadata": {},
   "source": [
    "## Imports"
   ]
  },
  {
   "cell_type": "code",
   "execution_count": 1,
   "metadata": {
    "collapsed": true
   },
   "outputs": [],
   "source": [
    "import numpy as np\n",
    "import pandas as pd\n",
    "from pandas.io import sql\n",
    "from altair import *"
   ]
  },
  {
   "cell_type": "code",
   "execution_count": 2,
   "metadata": {
    "collapsed": true
   },
   "outputs": [],
   "source": [
    "from sqlalchemy import create_engine, inspect"
   ]
  },
  {
   "cell_type": "markdown",
   "metadata": {},
   "source": [
    "Here is a function for howing table information:"
   ]
  },
  {
   "cell_type": "code",
   "execution_count": 3,
   "metadata": {
    "collapsed": true,
    "deletable": false,
    "editable": false,
    "nbgrader": {
     "checksum": "283292ac6b7af8c936e8119ff94576d6",
     "grade": false,
     "grade_id": "chinook-sql-a",
     "locked": true,
     "schema_version": 1,
     "solution": false
    }
   },
   "outputs": [],
   "source": [
    "def table_info(table_name, i):\n",
    "    \"\"\"Shwo the column names and types as a Pandas DataFrame.\"\"\"\n",
    "    return pd.DataFrame(i.get_columns(table_name))[['name','type']]"
   ]
  },
  {
   "cell_type": "code",
   "execution_count": 4,
   "metadata": {
    "collapsed": false,
    "deletable": false,
    "editable": false,
    "nbgrader": {
     "checksum": "6e3accfa8e25157b0d519f09867b30bf",
     "grade": false,
     "grade_id": "chinook-sql-b",
     "locked": true,
     "schema_version": 1,
     "solution": false
    }
   },
   "outputs": [],
   "source": [
    "import os\n",
    "assert os.path.isfile(os.path.join('data', 'Chinook_Sqlite.sqlite'))"
   ]
  },
  {
   "cell_type": "markdown",
   "metadata": {},
   "source": [
    "## Exploring the database"
   ]
  },
  {
   "cell_type": "markdown",
   "metadata": {},
   "source": [
    "Create an SqlAlchemy engine for the Chinook database, which is in the file `data/Chinook_Sqlite.sqlite` as save the engine in a variable named `ce`:"
   ]
  },
  {
   "cell_type": "code",
   "execution_count": 5,
   "metadata": {
    "collapsed": false,
    "deletable": false,
    "nbgrader": {
     "checksum": "f6eeffc1ac814ff71ea8b5aa21bf4d87",
     "grade": false,
     "grade_id": "chinook-sql-c",
     "locked": false,
     "schema_version": 1,
     "solution": true
    }
   },
   "outputs": [],
   "source": [
    "# YOUR CODE HERE\n",
    "ce = create_engine('sqlite:///data/Chinook_Sqlite.sqlite')"
   ]
  },
  {
   "cell_type": "code",
   "execution_count": 6,
   "metadata": {
    "collapsed": true,
    "deletable": false,
    "editable": false,
    "nbgrader": {
     "checksum": "d4f1f7ab27c9210e9855ebdb92de5d22",
     "grade": true,
     "grade_id": "chinook-sql-d",
     "locked": true,
     "points": 2,
     "schema_version": 1,
     "solution": false
    }
   },
   "outputs": [],
   "source": [
    "import sqlalchemy\n",
    "assert isinstance(ce, sqlalchemy.engine.base.Engine)"
   ]
  },
  {
   "cell_type": "markdown",
   "metadata": {},
   "source": [
    "Create an inspector for that engine and save it in a variable named `inspector`:"
   ]
  },
  {
   "cell_type": "code",
   "execution_count": 7,
   "metadata": {
    "collapsed": false,
    "deletable": false,
    "nbgrader": {
     "checksum": "46a0dd3ad366a430f7ef9bbc620bbce5",
     "grade": false,
     "grade_id": "chinook-sql-e",
     "locked": false,
     "schema_version": 1,
     "solution": true
    }
   },
   "outputs": [],
   "source": [
    "# YOUR CODE HERE\n",
    "inspector = inspect(ce)"
   ]
  },
  {
   "cell_type": "code",
   "execution_count": 8,
   "metadata": {
    "collapsed": false,
    "deletable": false,
    "editable": false,
    "nbgrader": {
     "checksum": "1ae6a82d43685ae5f98d8707e31382e5",
     "grade": true,
     "grade_id": "chinook-sql-f",
     "locked": true,
     "points": 2,
     "schema_version": 1,
     "solution": false
    }
   },
   "outputs": [],
   "source": [
    "assert isinstance(inspector, sqlalchemy.engine.reflection.Inspector)"
   ]
  },
  {
   "cell_type": "markdown",
   "metadata": {},
   "source": [
    "Use the `inspector` and `table_info` to show the column information of the `Genre` table. Save the result in a variable named `t1` and show the table:"
   ]
  },
  {
   "cell_type": "code",
   "execution_count": 9,
   "metadata": {
    "collapsed": false,
    "deletable": false,
    "nbgrader": {
     "checksum": "f234abd299e6295a29cdc3a960eb6f61",
     "grade": false,
     "grade_id": "chinook-sql-g",
     "locked": false,
     "schema_version": 1,
     "solution": true
    }
   },
   "outputs": [],
   "source": [
    "# YOUR CODE HERE\n",
    "t1 = table_info('Genre', inspector)"
   ]
  },
  {
   "cell_type": "code",
   "execution_count": 10,
   "metadata": {
    "collapsed": false,
    "deletable": false,
    "editable": false,
    "nbgrader": {
     "checksum": "8760e9ded875917e2877f74bdd8e78c5",
     "grade": true,
     "grade_id": "chinook-sql-h",
     "locked": true,
     "points": 2,
     "schema_version": 1,
     "solution": false
    }
   },
   "outputs": [],
   "source": [
    "assert list(t1.columns)==['name','type']\n",
    "assert len(t1)==2"
   ]
  },
  {
   "cell_type": "markdown",
   "metadata": {},
   "source": [
    "Use a SQL `SELECT` statement with `LIMIT` to look at the first 10 rows of the `Genre` table. Save the result in a variable named `t2` and show the table:"
   ]
  },
  {
   "cell_type": "code",
   "execution_count": 11,
   "metadata": {
    "collapsed": false,
    "deletable": false,
    "nbgrader": {
     "checksum": "c752b5b223940b25c3426eb7d96b832a",
     "grade": false,
     "grade_id": "chinook-sql-i",
     "locked": false,
     "schema_version": 1,
     "solution": true
    }
   },
   "outputs": [],
   "source": [
    "# YOUR CODE HERE\n",
    "cef = sql.read_sql_table('Genre', ce)\n",
    "t2 = sql.read_sql_query(\"\"\"\n",
    "SELECT GenreID, Name\n",
    "  FROM Genre\n",
    " LIMIT 10;\n",
    "\"\"\", ce)"
   ]
  },
  {
   "cell_type": "code",
   "execution_count": 12,
   "metadata": {
    "collapsed": false,
    "deletable": false,
    "editable": false,
    "nbgrader": {
     "checksum": "7a513fc65ac54fc593f7c0b77549102e",
     "grade": true,
     "grade_id": "chinook-sql-j",
     "locked": true,
     "points": 2,
     "schema_version": 1,
     "solution": false
    }
   },
   "outputs": [],
   "source": [
    "assert list(t2.columns)==['GenreId', 'Name']\n",
    "assert len(t2)==10"
   ]
  },
  {
   "cell_type": "markdown",
   "metadata": {},
   "source": [
    "Use the `inspector` and `table_info` to show the column information of the `Track` table. Save the result in a variable named `t3` and show the table:"
   ]
  },
  {
   "cell_type": "code",
   "execution_count": 13,
   "metadata": {
    "collapsed": false,
    "deletable": false,
    "nbgrader": {
     "checksum": "5376efa8edc2d61553c11ea6fc8a7cfd",
     "grade": false,
     "grade_id": "chinook-sql-k",
     "locked": false,
     "schema_version": 1,
     "solution": true
    }
   },
   "outputs": [],
   "source": [
    "# YOUR CODE HERE\n",
    "inspector = inspect(ce)\n",
    "t3 = table_info('Track', inspector)"
   ]
  },
  {
   "cell_type": "code",
   "execution_count": 14,
   "metadata": {
    "collapsed": true,
    "deletable": false,
    "editable": false,
    "nbgrader": {
     "checksum": "73539cda39bc70899d8281cf591c46c1",
     "grade": true,
     "grade_id": "chinook-sql-l",
     "locked": true,
     "points": 2,
     "schema_version": 1,
     "solution": false
    }
   },
   "outputs": [],
   "source": [
    "assert list(t3.columns)==['name', 'type']\n",
    "assert len(t3)==9"
   ]
  },
  {
   "cell_type": "markdown",
   "metadata": {},
   "source": [
    "Use a SQL `SELECT` statement with `LIMIT` to look at the first 10 rows of the `Track` table. Save the result in a variable named `t4` and show the table:"
   ]
  },
  {
   "cell_type": "code",
   "execution_count": 15,
   "metadata": {
    "collapsed": false,
    "deletable": false,
    "nbgrader": {
     "checksum": "81c5a74cdf1a751806310d5c137252b5",
     "grade": false,
     "grade_id": "chinook-sql-m",
     "locked": false,
     "schema_version": 1,
     "solution": true
    }
   },
   "outputs": [
    {
     "data": {
      "text/html": [
       "<div>\n",
       "<table border=\"1\" class=\"dataframe\">\n",
       "  <thead>\n",
       "    <tr style=\"text-align: right;\">\n",
       "      <th></th>\n",
       "      <th>TrackId</th>\n",
       "      <th>Name</th>\n",
       "      <th>AlbumId</th>\n",
       "      <th>MediaTypeId</th>\n",
       "      <th>GenreId</th>\n",
       "      <th>Composer</th>\n",
       "      <th>Milliseconds</th>\n",
       "      <th>Bytes</th>\n",
       "      <th>UnitPrice</th>\n",
       "    </tr>\n",
       "  </thead>\n",
       "  <tbody>\n",
       "    <tr>\n",
       "      <th>0</th>\n",
       "      <td>1</td>\n",
       "      <td>For Those About To Rock (We Salute You)</td>\n",
       "      <td>1</td>\n",
       "      <td>1</td>\n",
       "      <td>1</td>\n",
       "      <td>Angus Young, Malcolm Young, Brian Johnson</td>\n",
       "      <td>343719</td>\n",
       "      <td>11170334</td>\n",
       "      <td>0.99</td>\n",
       "    </tr>\n",
       "    <tr>\n",
       "      <th>1</th>\n",
       "      <td>2</td>\n",
       "      <td>Balls to the Wall</td>\n",
       "      <td>2</td>\n",
       "      <td>2</td>\n",
       "      <td>1</td>\n",
       "      <td>None</td>\n",
       "      <td>342562</td>\n",
       "      <td>5510424</td>\n",
       "      <td>0.99</td>\n",
       "    </tr>\n",
       "    <tr>\n",
       "      <th>2</th>\n",
       "      <td>3</td>\n",
       "      <td>Fast As a Shark</td>\n",
       "      <td>3</td>\n",
       "      <td>2</td>\n",
       "      <td>1</td>\n",
       "      <td>F. Baltes, S. Kaufman, U. Dirkscneider &amp; W. Ho...</td>\n",
       "      <td>230619</td>\n",
       "      <td>3990994</td>\n",
       "      <td>0.99</td>\n",
       "    </tr>\n",
       "    <tr>\n",
       "      <th>3</th>\n",
       "      <td>4</td>\n",
       "      <td>Restless and Wild</td>\n",
       "      <td>3</td>\n",
       "      <td>2</td>\n",
       "      <td>1</td>\n",
       "      <td>F. Baltes, R.A. Smith-Diesel, S. Kaufman, U. D...</td>\n",
       "      <td>252051</td>\n",
       "      <td>4331779</td>\n",
       "      <td>0.99</td>\n",
       "    </tr>\n",
       "    <tr>\n",
       "      <th>4</th>\n",
       "      <td>5</td>\n",
       "      <td>Princess of the Dawn</td>\n",
       "      <td>3</td>\n",
       "      <td>2</td>\n",
       "      <td>1</td>\n",
       "      <td>Deaffy &amp; R.A. Smith-Diesel</td>\n",
       "      <td>375418</td>\n",
       "      <td>6290521</td>\n",
       "      <td>0.99</td>\n",
       "    </tr>\n",
       "    <tr>\n",
       "      <th>5</th>\n",
       "      <td>6</td>\n",
       "      <td>Put The Finger On You</td>\n",
       "      <td>1</td>\n",
       "      <td>1</td>\n",
       "      <td>1</td>\n",
       "      <td>Angus Young, Malcolm Young, Brian Johnson</td>\n",
       "      <td>205662</td>\n",
       "      <td>6713451</td>\n",
       "      <td>0.99</td>\n",
       "    </tr>\n",
       "    <tr>\n",
       "      <th>6</th>\n",
       "      <td>7</td>\n",
       "      <td>Let's Get It Up</td>\n",
       "      <td>1</td>\n",
       "      <td>1</td>\n",
       "      <td>1</td>\n",
       "      <td>Angus Young, Malcolm Young, Brian Johnson</td>\n",
       "      <td>233926</td>\n",
       "      <td>7636561</td>\n",
       "      <td>0.99</td>\n",
       "    </tr>\n",
       "    <tr>\n",
       "      <th>7</th>\n",
       "      <td>8</td>\n",
       "      <td>Inject The Venom</td>\n",
       "      <td>1</td>\n",
       "      <td>1</td>\n",
       "      <td>1</td>\n",
       "      <td>Angus Young, Malcolm Young, Brian Johnson</td>\n",
       "      <td>210834</td>\n",
       "      <td>6852860</td>\n",
       "      <td>0.99</td>\n",
       "    </tr>\n",
       "    <tr>\n",
       "      <th>8</th>\n",
       "      <td>9</td>\n",
       "      <td>Snowballed</td>\n",
       "      <td>1</td>\n",
       "      <td>1</td>\n",
       "      <td>1</td>\n",
       "      <td>Angus Young, Malcolm Young, Brian Johnson</td>\n",
       "      <td>203102</td>\n",
       "      <td>6599424</td>\n",
       "      <td>0.99</td>\n",
       "    </tr>\n",
       "    <tr>\n",
       "      <th>9</th>\n",
       "      <td>10</td>\n",
       "      <td>Evil Walks</td>\n",
       "      <td>1</td>\n",
       "      <td>1</td>\n",
       "      <td>1</td>\n",
       "      <td>Angus Young, Malcolm Young, Brian Johnson</td>\n",
       "      <td>263497</td>\n",
       "      <td>8611245</td>\n",
       "      <td>0.99</td>\n",
       "    </tr>\n",
       "  </tbody>\n",
       "</table>\n",
       "</div>"
      ],
      "text/plain": [
       "   TrackId                                     Name  AlbumId  MediaTypeId  \\\n",
       "0        1  For Those About To Rock (We Salute You)        1            1   \n",
       "1        2                        Balls to the Wall        2            2   \n",
       "2        3                          Fast As a Shark        3            2   \n",
       "3        4                        Restless and Wild        3            2   \n",
       "4        5                     Princess of the Dawn        3            2   \n",
       "5        6                    Put The Finger On You        1            1   \n",
       "6        7                          Let's Get It Up        1            1   \n",
       "7        8                         Inject The Venom        1            1   \n",
       "8        9                               Snowballed        1            1   \n",
       "9       10                               Evil Walks        1            1   \n",
       "\n",
       "   GenreId                                           Composer  Milliseconds  \\\n",
       "0        1          Angus Young, Malcolm Young, Brian Johnson        343719   \n",
       "1        1                                               None        342562   \n",
       "2        1  F. Baltes, S. Kaufman, U. Dirkscneider & W. Ho...        230619   \n",
       "3        1  F. Baltes, R.A. Smith-Diesel, S. Kaufman, U. D...        252051   \n",
       "4        1                         Deaffy & R.A. Smith-Diesel        375418   \n",
       "5        1          Angus Young, Malcolm Young, Brian Johnson        205662   \n",
       "6        1          Angus Young, Malcolm Young, Brian Johnson        233926   \n",
       "7        1          Angus Young, Malcolm Young, Brian Johnson        210834   \n",
       "8        1          Angus Young, Malcolm Young, Brian Johnson        203102   \n",
       "9        1          Angus Young, Malcolm Young, Brian Johnson        263497   \n",
       "\n",
       "      Bytes  UnitPrice  \n",
       "0  11170334       0.99  \n",
       "1   5510424       0.99  \n",
       "2   3990994       0.99  \n",
       "3   4331779       0.99  \n",
       "4   6290521       0.99  \n",
       "5   6713451       0.99  \n",
       "6   7636561       0.99  \n",
       "7   6852860       0.99  \n",
       "8   6599424       0.99  \n",
       "9   8611245       0.99  "
      ]
     },
     "execution_count": 15,
     "metadata": {},
     "output_type": "execute_result"
    }
   ],
   "source": [
    "# YOUR CODE HERE\n",
    "cef2 = sql.read_sql_table('Track', ce)\n",
    "t4 = sql.read_sql_query(\"\"\"\n",
    "SELECT TrackId, Name, AlbumId, MediaTypeId, GenreId, Composer, Milliseconds, Bytes, UnitPrice\n",
    "  FROM Track\n",
    " LIMIT 10;\n",
    "\"\"\", ce)\n",
    "t4"
   ]
  },
  {
   "cell_type": "code",
   "execution_count": 16,
   "metadata": {
    "collapsed": true,
    "deletable": false,
    "editable": false,
    "nbgrader": {
     "checksum": "8cb878f53838749d37014bd180cfee0c",
     "grade": true,
     "grade_id": "chinook-sql-n",
     "locked": true,
     "points": 2,
     "schema_version": 1,
     "solution": false
    }
   },
   "outputs": [],
   "source": [
    "assert list(t4.columns)==['TrackId','Name','AlbumId','MediaTypeId',\n",
    "                          'GenreId','Composer','Milliseconds',\n",
    "                          'Bytes','UnitPrice']\n",
    "assert len(t4)==10"
   ]
  },
  {
   "cell_type": "markdown",
   "metadata": {},
   "source": [
    "Use the `inspector` and `table_info` to show the column information of the `MediaType` table. Save the result in a variable named `t5` and show the table:"
   ]
  },
  {
   "cell_type": "code",
   "execution_count": 17,
   "metadata": {
    "collapsed": false,
    "deletable": false,
    "nbgrader": {
     "checksum": "37babc73f5a31470df3c6af18021b30e",
     "grade": false,
     "grade_id": "chinook-sql-o",
     "locked": false,
     "schema_version": 1,
     "solution": true
    }
   },
   "outputs": [],
   "source": [
    "# YOUR CODE HERE\n",
    "inspector = inspect(ce)\n",
    "t5 = table_info('MediaType', inspector)"
   ]
  },
  {
   "cell_type": "code",
   "execution_count": 18,
   "metadata": {
    "collapsed": true,
    "deletable": false,
    "editable": false,
    "nbgrader": {
     "checksum": "b6caa41d30336dad945d07fca11944dd",
     "grade": true,
     "grade_id": "chinook-sql-p",
     "locked": true,
     "points": 2,
     "schema_version": 1,
     "solution": false
    }
   },
   "outputs": [],
   "source": [
    "assert list(t5.columns)==['name', 'type']\n",
    "assert len(t5)==2"
   ]
  },
  {
   "cell_type": "markdown",
   "metadata": {},
   "source": [
    "Use a SQL `SELECT` statement with `LIMIT` to look at the first 10 rows of the `MediaType` table. Save the result in a variable named `t6` and show the table:"
   ]
  },
  {
   "cell_type": "code",
   "execution_count": 19,
   "metadata": {
    "collapsed": false,
    "deletable": false,
    "nbgrader": {
     "checksum": "1d2c1910919850a4492b8b9f5521d389",
     "grade": false,
     "grade_id": "chinook-sql-q",
     "locked": false,
     "schema_version": 1,
     "solution": true
    }
   },
   "outputs": [
    {
     "data": {
      "text/html": [
       "<div>\n",
       "<table border=\"1\" class=\"dataframe\">\n",
       "  <thead>\n",
       "    <tr style=\"text-align: right;\">\n",
       "      <th></th>\n",
       "      <th>MediaTypeId</th>\n",
       "      <th>Name</th>\n",
       "    </tr>\n",
       "  </thead>\n",
       "  <tbody>\n",
       "    <tr>\n",
       "      <th>0</th>\n",
       "      <td>1</td>\n",
       "      <td>MPEG audio file</td>\n",
       "    </tr>\n",
       "    <tr>\n",
       "      <th>1</th>\n",
       "      <td>2</td>\n",
       "      <td>Protected AAC audio file</td>\n",
       "    </tr>\n",
       "    <tr>\n",
       "      <th>2</th>\n",
       "      <td>3</td>\n",
       "      <td>Protected MPEG-4 video file</td>\n",
       "    </tr>\n",
       "    <tr>\n",
       "      <th>3</th>\n",
       "      <td>4</td>\n",
       "      <td>Purchased AAC audio file</td>\n",
       "    </tr>\n",
       "    <tr>\n",
       "      <th>4</th>\n",
       "      <td>5</td>\n",
       "      <td>AAC audio file</td>\n",
       "    </tr>\n",
       "  </tbody>\n",
       "</table>\n",
       "</div>"
      ],
      "text/plain": [
       "   MediaTypeId                         Name\n",
       "0            1              MPEG audio file\n",
       "1            2     Protected AAC audio file\n",
       "2            3  Protected MPEG-4 video file\n",
       "3            4     Purchased AAC audio file\n",
       "4            5               AAC audio file"
      ]
     },
     "execution_count": 19,
     "metadata": {},
     "output_type": "execute_result"
    }
   ],
   "source": [
    "# YOUR CODE HERE\n",
    "cef2 = sql.read_sql_table('MediaType', ce)\n",
    "t6 = sql.read_sql_query(\"\"\"\n",
    "SELECT MediaTypeId, Name\n",
    "  FROM MediaType\n",
    " LIMIT 10;\n",
    "\"\"\", ce)\n",
    "t6"
   ]
  },
  {
   "cell_type": "code",
   "execution_count": 20,
   "metadata": {
    "collapsed": false,
    "deletable": false,
    "editable": false,
    "nbgrader": {
     "checksum": "f0edede106f53805a2d8e76e60eaa59e",
     "grade": true,
     "grade_id": "chinook-sql-r",
     "locked": true,
     "points": 2,
     "schema_version": 1,
     "solution": false
    }
   },
   "outputs": [],
   "source": [
    "assert list(t6.columns)==['MediaTypeId', 'Name']\n",
    "assert len(t6)==5"
   ]
  },
  {
   "cell_type": "markdown",
   "metadata": {},
   "source": [
    "Write an SQL query to select the `Name`, `Composer` and `UnitPrice` columns from the `Track` table for the rows where the `UnitPrice` is greater than `0.99`. Save the result in a variable named `t7` and show the table:"
   ]
  },
  {
   "cell_type": "code",
   "execution_count": 21,
   "metadata": {
    "collapsed": false,
    "deletable": false,
    "nbgrader": {
     "checksum": "a319826963fff72a58886b7c0f2bd998",
     "grade": false,
     "grade_id": "chinook-sql-s",
     "locked": false,
     "schema_version": 1,
     "solution": true
    }
   },
   "outputs": [],
   "source": [
    "# YOUR CODE HERE\n",
    "cef4 = sql.read_sql_table('Track', ce)\n",
    "t7 = sql.read_sql_query(\"\"\"\n",
    "SELECT Name, Composer, UnitPrice\n",
    "  FROM Track\n",
    " WHERE UnitPrice > 0.99;\n",
    "\"\"\", ce)\n"
   ]
  },
  {
   "cell_type": "code",
   "execution_count": 22,
   "metadata": {
    "collapsed": false,
    "deletable": false,
    "editable": false,
    "nbgrader": {
     "checksum": "750338e1c9f93d7134679644e63b193a",
     "grade": true,
     "grade_id": "chinook-sql-t",
     "locked": true,
     "points": 2,
     "schema_version": 1,
     "solution": false
    }
   },
   "outputs": [],
   "source": [
    "assert list(t7.columns)==['Name', 'Composer', 'UnitPrice']\n",
    "assert len(t7)==213"
   ]
  },
  {
   "cell_type": "markdown",
   "metadata": {},
   "source": [
    "Join the `Track` and `Genre` tables on the `GenreId` columns and compute the average track length in seconds grouped by `Genre.Name`. Sort the results by the track length (`Track.Milliseconds`). Save the result in a variable named `j1` and show the table:"
   ]
  },
  {
   "cell_type": "code",
   "execution_count": 23,
   "metadata": {
    "collapsed": false,
    "deletable": false,
    "nbgrader": {
     "checksum": "bc17a1cbcb9d6c412a92611ffd0464b2",
     "grade": false,
     "grade_id": "chinook-sql-u",
     "locked": false,
     "schema_version": 1,
     "solution": true
    }
   },
   "outputs": [
    {
     "data": {
      "text/html": [
       "<div>\n",
       "<table border=\"1\" class=\"dataframe\">\n",
       "  <thead>\n",
       "    <tr style=\"text-align: right;\">\n",
       "      <th></th>\n",
       "      <th>Name</th>\n",
       "      <th>Duration</th>\n",
       "    </tr>\n",
       "  </thead>\n",
       "  <tbody>\n",
       "    <tr>\n",
       "      <th>0</th>\n",
       "      <td>Rock</td>\n",
       "      <td>2.839100e+05</td>\n",
       "    </tr>\n",
       "    <tr>\n",
       "      <th>1</th>\n",
       "      <td>Jazz</td>\n",
       "      <td>2.917554e+05</td>\n",
       "    </tr>\n",
       "    <tr>\n",
       "      <th>2</th>\n",
       "      <td>Metal</td>\n",
       "      <td>3.097494e+05</td>\n",
       "    </tr>\n",
       "    <tr>\n",
       "      <th>3</th>\n",
       "      <td>Alternative &amp; Punk</td>\n",
       "      <td>2.343538e+05</td>\n",
       "    </tr>\n",
       "    <tr>\n",
       "      <th>4</th>\n",
       "      <td>Rock And Roll</td>\n",
       "      <td>1.346435e+05</td>\n",
       "    </tr>\n",
       "    <tr>\n",
       "      <th>5</th>\n",
       "      <td>Blues</td>\n",
       "      <td>2.703598e+05</td>\n",
       "    </tr>\n",
       "    <tr>\n",
       "      <th>6</th>\n",
       "      <td>Latin</td>\n",
       "      <td>2.328593e+05</td>\n",
       "    </tr>\n",
       "    <tr>\n",
       "      <th>7</th>\n",
       "      <td>Reggae</td>\n",
       "      <td>2.471778e+05</td>\n",
       "    </tr>\n",
       "    <tr>\n",
       "      <th>8</th>\n",
       "      <td>Pop</td>\n",
       "      <td>2.290341e+05</td>\n",
       "    </tr>\n",
       "    <tr>\n",
       "      <th>9</th>\n",
       "      <td>Soundtrack</td>\n",
       "      <td>2.443709e+05</td>\n",
       "    </tr>\n",
       "    <tr>\n",
       "      <th>10</th>\n",
       "      <td>Bossa Nova</td>\n",
       "      <td>2.195900e+05</td>\n",
       "    </tr>\n",
       "    <tr>\n",
       "      <th>11</th>\n",
       "      <td>Easy Listening</td>\n",
       "      <td>1.891642e+05</td>\n",
       "    </tr>\n",
       "    <tr>\n",
       "      <th>12</th>\n",
       "      <td>Heavy Metal</td>\n",
       "      <td>2.974529e+05</td>\n",
       "    </tr>\n",
       "    <tr>\n",
       "      <th>13</th>\n",
       "      <td>R&amp;B/Soul</td>\n",
       "      <td>2.200669e+05</td>\n",
       "    </tr>\n",
       "    <tr>\n",
       "      <th>14</th>\n",
       "      <td>Electronica/Dance</td>\n",
       "      <td>3.029858e+05</td>\n",
       "    </tr>\n",
       "    <tr>\n",
       "      <th>15</th>\n",
       "      <td>World</td>\n",
       "      <td>2.249238e+05</td>\n",
       "    </tr>\n",
       "    <tr>\n",
       "      <th>16</th>\n",
       "      <td>Hip Hop/Rap</td>\n",
       "      <td>1.781763e+05</td>\n",
       "    </tr>\n",
       "    <tr>\n",
       "      <th>17</th>\n",
       "      <td>Science Fiction</td>\n",
       "      <td>2.625549e+06</td>\n",
       "    </tr>\n",
       "    <tr>\n",
       "      <th>18</th>\n",
       "      <td>TV Shows</td>\n",
       "      <td>2.145041e+06</td>\n",
       "    </tr>\n",
       "    <tr>\n",
       "      <th>19</th>\n",
       "      <td>Sci Fi &amp; Fantasy</td>\n",
       "      <td>2.911783e+06</td>\n",
       "    </tr>\n",
       "    <tr>\n",
       "      <th>20</th>\n",
       "      <td>Drama</td>\n",
       "      <td>2.575284e+06</td>\n",
       "    </tr>\n",
       "    <tr>\n",
       "      <th>21</th>\n",
       "      <td>Comedy</td>\n",
       "      <td>1.585264e+06</td>\n",
       "    </tr>\n",
       "    <tr>\n",
       "      <th>22</th>\n",
       "      <td>Alternative</td>\n",
       "      <td>2.640585e+05</td>\n",
       "    </tr>\n",
       "    <tr>\n",
       "      <th>23</th>\n",
       "      <td>Classical</td>\n",
       "      <td>2.938676e+05</td>\n",
       "    </tr>\n",
       "    <tr>\n",
       "      <th>24</th>\n",
       "      <td>Opera</td>\n",
       "      <td>1.748130e+05</td>\n",
       "    </tr>\n",
       "  </tbody>\n",
       "</table>\n",
       "</div>"
      ],
      "text/plain": [
       "                  Name      Duration\n",
       "0                 Rock  2.839100e+05\n",
       "1                 Jazz  2.917554e+05\n",
       "2                Metal  3.097494e+05\n",
       "3   Alternative & Punk  2.343538e+05\n",
       "4        Rock And Roll  1.346435e+05\n",
       "5                Blues  2.703598e+05\n",
       "6                Latin  2.328593e+05\n",
       "7               Reggae  2.471778e+05\n",
       "8                  Pop  2.290341e+05\n",
       "9           Soundtrack  2.443709e+05\n",
       "10          Bossa Nova  2.195900e+05\n",
       "11      Easy Listening  1.891642e+05\n",
       "12         Heavy Metal  2.974529e+05\n",
       "13            R&B/Soul  2.200669e+05\n",
       "14   Electronica/Dance  3.029858e+05\n",
       "15               World  2.249238e+05\n",
       "16         Hip Hop/Rap  1.781763e+05\n",
       "17     Science Fiction  2.625549e+06\n",
       "18            TV Shows  2.145041e+06\n",
       "19    Sci Fi & Fantasy  2.911783e+06\n",
       "20               Drama  2.575284e+06\n",
       "21              Comedy  1.585264e+06\n",
       "22         Alternative  2.640585e+05\n",
       "23           Classical  2.938676e+05\n",
       "24               Opera  1.748130e+05"
      ]
     },
     "execution_count": 23,
     "metadata": {},
     "output_type": "execute_result"
    }
   ],
   "source": [
    "j1 = sql.read_sql_query(\"\"\"\n",
    "SELECT Genre.Name As Name, AVG(Track.Milliseconds) AS Duration FROM Track\n",
    "  INNER JOIN Genre\n",
    "  ON Genre.GenreID = Track.GenreID\n",
    "  GROUP BY Genre.GenreID\n",
    "  \"\"\", ce)\n",
    "j1"
   ]
  },
  {
   "cell_type": "code",
   "execution_count": 24,
   "metadata": {
    "collapsed": false,
    "deletable": false,
    "editable": false,
    "nbgrader": {
     "checksum": "c87399ebd592f0afdf536b7a9f7eefda",
     "grade": true,
     "grade_id": "chinook-sql-v",
     "locked": true,
     "points": 2,
     "schema_version": 1,
     "solution": false
    }
   },
   "outputs": [],
   "source": [
    "assert list(j1.columns)==['Name', 'Duration']\n",
    "assert len(j1)==25"
   ]
  },
  {
   "cell_type": "markdown",
   "metadata": {},
   "source": [
    "Create an Altair bar chart showing the average track duration for each genre, sorted by duraction."
   ]
  },
  {
   "cell_type": "code",
   "execution_count": 25,
   "metadata": {
    "collapsed": false,
    "deletable": false,
    "nbgrader": {
     "checksum": "9c21af37e49eff03ea3ae09358576dee",
     "grade": true,
     "grade_id": "chinook-sql-w",
     "locked": false,
     "points": 2,
     "schema_version": 1,
     "solution": true
    }
   },
   "outputs": [
    {
     "data": {
      "text/html": [
       "<div class=\"vega-embed\" id=\"6ed7c591-8803-4fb5-8036-9274278468a7\"></div>\n",
       "\n",
       "<style>\n",
       ".vega-embed svg, .vega-embed canvas {\n",
       "  border: 1px dotted gray;\n",
       "}\n",
       "\n",
       ".vega-embed .vega-actions a {\n",
       "  margin-right: 6px;\n",
       "}\n",
       "</style>\n"
      ]
     },
     "metadata": {
      "jupyter-vega": "#6ed7c591-8803-4fb5-8036-9274278468a7"
     },
     "output_type": "display_data"
    },
    {
     "data": {
      "application/javascript": [
       "var spec = {\"data\": {\"values\": [{\"Name\": \"Rock\", \"Duration\": 283910.0431765613}, {\"Name\": \"Jazz\", \"Duration\": 291755.3769230769}, {\"Name\": \"Metal\", \"Duration\": 309749.4438502674}, {\"Name\": \"Alternative & Punk\", \"Duration\": 234353.84939759035}, {\"Name\": \"Rock And Roll\", \"Duration\": 134643.5}, {\"Name\": \"Blues\", \"Duration\": 270359.77777777775}, {\"Name\": \"Latin\", \"Duration\": 232859.26252158894}, {\"Name\": \"Reggae\", \"Duration\": 247177.75862068965}, {\"Name\": \"Pop\", \"Duration\": 229034.10416666666}, {\"Name\": \"Soundtrack\", \"Duration\": 244370.88372093023}, {\"Name\": \"Bossa Nova\", \"Duration\": 219590.0}, {\"Name\": \"Easy Listening\", \"Duration\": 189164.20833333334}, {\"Name\": \"Heavy Metal\", \"Duration\": 297452.9285714286}, {\"Name\": \"R&B/Soul\", \"Duration\": 220066.8524590164}, {\"Name\": \"Electronica/Dance\", \"Duration\": 302985.8}, {\"Name\": \"World\", \"Duration\": 224923.82142857142}, {\"Name\": \"Hip Hop/Rap\", \"Duration\": 178176.2857142857}, {\"Name\": \"Science Fiction\", \"Duration\": 2625549.076923077}, {\"Name\": \"TV Shows\", \"Duration\": 2145041.0215053763}, {\"Name\": \"Sci Fi & Fantasy\", \"Duration\": 2911783.0384615385}, {\"Name\": \"Drama\", \"Duration\": 2575283.78125}, {\"Name\": \"Comedy\", \"Duration\": 1585263.705882353}, {\"Name\": \"Alternative\", \"Duration\": 264058.525}, {\"Name\": \"Classical\", \"Duration\": 293867.5675675676}, {\"Name\": \"Opera\", \"Duration\": 174813.0}]}, \"mark\": \"bar\", \"config\": {\"cell\": {\"height\": 350, \"width\": 500}}, \"encoding\": {\"x\": {\"sort\": {\"op\": \"max\", \"field\": \"Duration\", \"order\": \"descending\"}, \"type\": \"nominal\", \"field\": \"Name\"}, \"y\": {\"type\": \"quantitative\", \"field\": \"Duration\"}}};\n",
       "var selector = \"#6ed7c591-8803-4fb5-8036-9274278468a7\";\n",
       "var type = \"vega-lite\";\n",
       "\n",
       "var output_area = this;\n",
       "require(['nbextensions/jupyter-vega/index'], function(vega) {\n",
       "  vega.render(selector, spec, type, output_area);\n",
       "}, function (err) {\n",
       "  if (err.requireType !== 'scripterror') {\n",
       "    throw(err);\n",
       "  }\n",
       "});\n"
      ]
     },
     "metadata": {
      "jupyter-vega": "#6ed7c591-8803-4fb5-8036-9274278468a7"
     },
     "output_type": "display_data"
    },
    {
     "data": {
      "image/png": "[encoded data removed]"
     },
     "metadata": {
      "jupyter-vega": "#6ed7c591-8803-4fb5-8036-9274278468a7"
     },
     "output_type": "display_data"
    }
   ],
   "source": [
    "# YOUR CODE HERE\n",
    "Chart(j1).mark_bar().encode(\n",
    "    X('Name', sort=SortField(field='Duration', order='descending', op = 'max')),\n",
    "    Y('Duration')\n",
    "    \n",
    ")"
   ]
  },
  {
   "cell_type": "markdown",
   "metadata": {},
   "source": [
    "Join the `MediaType` and `Track` tables and count how many tracks are released with a given media format. Order by the count of the media type. Save the result in a variable named `j2` and show the table:"
   ]
  },
  {
   "cell_type": "code",
   "execution_count": 26,
   "metadata": {
    "collapsed": false
   },
   "outputs": [
    {
     "data": {
      "text/plain": [
       "['Album',\n",
       " 'Artist',\n",
       " 'Customer',\n",
       " 'Employee',\n",
       " 'Genre',\n",
       " 'Invoice',\n",
       " 'InvoiceLine',\n",
       " 'MediaType',\n",
       " 'Playlist',\n",
       " 'PlaylistTrack',\n",
       " 'Track']"
      ]
     },
     "execution_count": 26,
     "metadata": {},
     "output_type": "execute_result"
    }
   ],
   "source": [
    "inspector.get_table_names()"
   ]
  },
  {
   "cell_type": "code",
   "execution_count": 27,
   "metadata": {
    "collapsed": false,
    "deletable": false,
    "nbgrader": {
     "checksum": "2172bc92447399a0ab4ac06a4f6da029",
     "grade": false,
     "grade_id": "chinook-sql-x",
     "locked": false,
     "schema_version": 1,
     "solution": true
    }
   },
   "outputs": [
    {
     "data": {
      "text/html": [
       "<div>\n",
       "<table border=\"1\" class=\"dataframe\">\n",
       "  <thead>\n",
       "    <tr style=\"text-align: right;\">\n",
       "      <th></th>\n",
       "      <th>Name</th>\n",
       "      <th>Count</th>\n",
       "    </tr>\n",
       "  </thead>\n",
       "  <tbody>\n",
       "    <tr>\n",
       "      <th>0</th>\n",
       "      <td>MPEG audio file</td>\n",
       "      <td>3034</td>\n",
       "    </tr>\n",
       "    <tr>\n",
       "      <th>1</th>\n",
       "      <td>Protected AAC audio file</td>\n",
       "      <td>237</td>\n",
       "    </tr>\n",
       "    <tr>\n",
       "      <th>2</th>\n",
       "      <td>Protected MPEG-4 video file</td>\n",
       "      <td>214</td>\n",
       "    </tr>\n",
       "    <tr>\n",
       "      <th>3</th>\n",
       "      <td>AAC audio file</td>\n",
       "      <td>11</td>\n",
       "    </tr>\n",
       "    <tr>\n",
       "      <th>4</th>\n",
       "      <td>Purchased AAC audio file</td>\n",
       "      <td>7</td>\n",
       "    </tr>\n",
       "  </tbody>\n",
       "</table>\n",
       "</div>"
      ],
      "text/plain": [
       "                          Name  Count\n",
       "0              MPEG audio file   3034\n",
       "1     Protected AAC audio file    237\n",
       "2  Protected MPEG-4 video file    214\n",
       "3               AAC audio file     11\n",
       "4     Purchased AAC audio file      7"
      ]
     },
     "execution_count": 27,
     "metadata": {},
     "output_type": "execute_result"
    }
   ],
   "source": [
    "# YOUR CODE HERE\n",
    "j2 = sql.read_sql_query(\"\"\"\n",
    "SELECT MediaType.Name As Name, Count(Track.Name) AS Count FROM Track\n",
    "  INNER JOIN MediaType\n",
    "  ON MediaType.MediaTypeID = Track.MediaTypeID\n",
    "  GROUP BY MediaType.MediaTypeID\n",
    "  ORDER BY Count DESC\n",
    "  \"\"\", ce)\n",
    "j2"
   ]
  },
  {
   "cell_type": "code",
   "execution_count": 28,
   "metadata": {
    "collapsed": false,
    "deletable": false,
    "editable": false,
    "nbgrader": {
     "checksum": "33b4288ba196af9944fca41a0dda3d70",
     "grade": true,
     "grade_id": "chinook-sql-y",
     "locked": true,
     "points": 2,
     "schema_version": 1,
     "solution": false
    }
   },
   "outputs": [],
   "source": [
    "assert list(j2.columns)==['Name', 'Count']\n",
    "assert len(j2)==5"
   ]
  },
  {
   "cell_type": "markdown",
   "metadata": {},
   "source": [
    "Make a bar plot of the media type counts:"
   ]
  },
  {
   "cell_type": "code",
   "execution_count": 29,
   "metadata": {
    "collapsed": false,
    "deletable": false,
    "nbgrader": {
     "checksum": "9c62782d34b1b3d228e1d183883afdeb",
     "grade": true,
     "grade_id": "chinook-sql-z",
     "locked": false,
     "points": 2,
     "schema_version": 1,
     "solution": true
    }
   },
   "outputs": [
    {
     "data": {
      "text/html": [
       "<div class=\"vega-embed\" id=\"30b2457b-3601-4bee-93c2-03bedbc51cfb\"></div>\n",
       "\n",
       "<style>\n",
       ".vega-embed svg, .vega-embed canvas {\n",
       "  border: 1px dotted gray;\n",
       "}\n",
       "\n",
       ".vega-embed .vega-actions a {\n",
       "  margin-right: 6px;\n",
       "}\n",
       "</style>\n"
      ]
     },
     "metadata": {
      "jupyter-vega": "#30b2457b-3601-4bee-93c2-03bedbc51cfb"
     },
     "output_type": "display_data"
    },
    {
     "data": {
      "application/javascript": [
       "var spec = {\"data\": {\"values\": [{\"Name\": \"MPEG audio file\", \"Count\": 3034}, {\"Name\": \"Protected AAC audio file\", \"Count\": 237}, {\"Name\": \"Protected MPEG-4 video file\", \"Count\": 214}, {\"Name\": \"AAC audio file\", \"Count\": 11}, {\"Name\": \"Purchased AAC audio file\", \"Count\": 7}]}, \"mark\": \"bar\", \"config\": {\"cell\": {\"height\": 350, \"width\": 500}}, \"encoding\": {\"x\": {\"sort\": {\"op\": \"max\", \"field\": \"Count\", \"order\": \"descending\"}, \"type\": \"nominal\", \"field\": \"Name\"}, \"y\": {\"type\": \"quantitative\", \"field\": \"Count\"}}};\n",
       "var selector = \"#30b2457b-3601-4bee-93c2-03bedbc51cfb\";\n",
       "var type = \"vega-lite\";\n",
       "\n",
       "var output_area = this;\n",
       "require(['nbextensions/jupyter-vega/index'], function(vega) {\n",
       "  vega.render(selector, spec, type, output_area);\n",
       "}, function (err) {\n",
       "  if (err.requireType !== 'scripterror') {\n",
       "    throw(err);\n",
       "  }\n",
       "});\n"
      ]
     },
     "metadata": {
      "jupyter-vega": "#30b2457b-3601-4bee-93c2-03bedbc51cfb"
     },
     "output_type": "display_data"
    },
    {
     "data": {
      "image/png": "[encoded data removed]"
     },
     "metadata": {
      "jupyter-vega": "#30b2457b-3601-4bee-93c2-03bedbc51cfb"
     },
     "output_type": "display_data"
    }
   ],
   "source": [
    "# YOUR CODE HERE\n",
    "Chart(j2).mark_bar().encode(\n",
    "    X('Name', sort=SortField(field='Count', order='descending', op = 'max')),\n",
    "    Y('Count')\n",
    "    \n",
    ")"
   ]
  },
  {
   "cell_type": "code",
   "execution_count": null,
   "metadata": {
    "collapsed": true
   },
   "outputs": [],
   "source": []
  }
 ],
 "metadata": {
  "kernelspec": {
   "display_name": "Python 3",
   "language": "python",
   "name": "python3"
  },
  "language_info": {
   "codemirror_mode": {
    "name": "ipython",
    "version": 3
   },
   "file_extension": ".py",
   "mimetype": "text/x-python",
   "name": "python",
   "nbconvert_exporter": "python",
   "pygments_lexer": "ipython3",
   "version": "3.5.2"
  }
 },
 "nbformat": 4,
 "nbformat_minor": 1
}
