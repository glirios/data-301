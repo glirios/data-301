{
 "cells": [
  {
   "cell_type": "markdown",
   "metadata": {},
   "source": [
    "# Data 301: Midterm"
   ]
  },
  {
   "cell_type": "markdown",
   "metadata": {},
   "source": [
    "## Instructions\n",
    "\n",
    "* Complete the attached notebooks\n",
    "* Watch the time and pace yourself\n",
    "* Even if you can't solve each part of each problem, do what you can to get partial credit"
   ]
  },
  {
   "cell_type": "markdown",
   "metadata": {},
   "source": [
    "## Allowed materials\n",
    "\n",
    "You can use the following internet resources for this midterm:\n",
    "\n",
    "* [Python Documentation](https://docs.python.org/3.5/)\n",
    "* [Altair Documentation](https://altair-viz.github.io/index.html)\n",
    "* [Pandas](http://pandas.pydata.org/pandas-docs/stable/)\n",
    "* [NumPy Documentation](https://docs.scipy.org/doc/)\n",
    "\n",
    "You can use the following course materials:\n",
    "\n",
    "* All lecture materials in the data301 folder, including PythonDataScienceHandbook\n",
    "* Your own homework solutions\n",
    "* [Homework Solutions](https://data301.calpolydatascience.org/public_html/ellisonbg/solutions/)"
   ]
  }
 ],
 "metadata": {
  "kernelspec": {
   "display_name": "Python 3",
   "language": "python",
   "name": "python3"
  },
  "language_info": {
   "codemirror_mode": {
    "name": "ipython",
    "version": 3
   },
   "file_extension": ".py",
   "mimetype": "text/x-python",
   "name": "python",
   "nbconvert_exporter": "python",
   "pygments_lexer": "ipython3",
   "version": "3.5.2"
  }
 },
 "nbformat": 4,
 "nbformat_minor": 2
}
