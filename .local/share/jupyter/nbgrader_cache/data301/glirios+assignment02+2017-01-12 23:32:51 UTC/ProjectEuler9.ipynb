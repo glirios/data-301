{
 "cells": [
  {
   "cell_type": "markdown",
   "metadata": {
    "nbgrader": {
     "grade": false,
     "locked": false,
     "schema_version": 1,
     "solution": false
    }
   },
   "source": [
    "# Project Euler: Problem 9"
   ]
  },
  {
   "cell_type": "markdown",
   "metadata": {
    "nbgrader": {
     "grade": false,
     "locked": false,
     "schema_version": 1,
     "solution": false
    }
   },
   "source": [
    "https://projecteuler.net/problem=9\n",
    "\n",
    "A Pythagorean triplet is a set of three natural numbers, $a < b < c$, for which,\n",
    "\n",
    "$$a^2 + b^2 = c^2$$\n",
    "\n",
    "For example, $3^2 + 4^2 = 9 + 16 = 25 = 5^2$.\n",
    "\n",
    "There exists exactly one Pythagorean triplet for which $a + b + c = 1000$. Find the product abc."
   ]
  },
  {
   "cell_type": "code",
   "execution_count": 1,
   "metadata": {
    "collapsed": false,
    "deletable": false,
    "nbgrader": {
     "checksum": "b0c0d3cfdfcf945e2da77f1725adbe96",
     "grade": true,
     "grade_id": "projecteuler9",
     "locked": false,
     "points": 10,
     "schema_version": 1,
     "solution": true
    }
   },
   "outputs": [
    {
     "name": "stdout",
     "output_type": "stream",
     "text": [
      "31875000\n"
     ]
    }
   ],
   "source": [
    "# YOUR CODE HERE\n",
    "a = 0\n",
    "b = 0\n",
    "c = 0\n",
    "\n",
    "for x in range (1, 1000):\n",
    "    for y in range (x + 1, 1000):\n",
    "        sq_x = x ** 2\n",
    "        sq_y = y ** 2\n",
    "        temp = (((sq_y) + (sq_x)) ** .5)\n",
    "        if (temp.is_integer() and (sq_x) + (sq_y) == temp ** 2 and x + y + temp == 1000):\n",
    "            a = x\n",
    "            b = y\n",
    "            c = int(temp)\n",
    "            break\n",
    "\n",
    "print (a * b * c)"
   ]
  },
  {
   "cell_type": "code",
   "execution_count": null,
   "metadata": {
    "collapsed": true
   },
   "outputs": [],
   "source": []
  }
 ],
 "metadata": {
  "kernelspec": {
   "display_name": "Python 3",
   "language": "python",
   "name": "python3"
  },
  "language_info": {
   "codemirror_mode": {
    "name": "ipython",
    "version": 3
   },
   "file_extension": ".py",
   "mimetype": "text/x-python",
   "name": "python",
   "nbconvert_exporter": "python",
   "pygments_lexer": "ipython3",
   "version": "3.5.2"
  }
 },
 "nbformat": 4,
 "nbformat_minor": 0
}
