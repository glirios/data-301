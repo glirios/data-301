{
 "cells": [
  {
   "cell_type": "markdown",
   "metadata": {},
   "source": [
    "# Day 9\n",
    "\n",
    "* Introduction to Data Science (Data 301)\n",
    "* Cal Poly, Winter 2017\n",
    "* Brian E. Granger"
   ]
  },
  {
   "cell_type": "markdown",
   "metadata": {},
   "source": [
    "## Announcements"
   ]
  },
  {
   "cell_type": "markdown",
   "metadata": {},
   "source": [
    "* Extra Credit Thursday 11:10-12 in 180-113.\n",
    "* Danny Kaplan, professor at Macalester College\n",
    "\n",
    "> I've been thinking about the *why* and *how* of connecting introductory statistics to machine learning. Of course, one reason why is to put statistics more solidly in the emerging mainstream of data science. Another reason is motivated in part by the views expressed in the American Statistical Association's recent statement on the over-use of p-values. Although p-values are a leading character in the last half of a \"consensus\" statistics text, you'll hardly ever see a p-value in an exposition of machine learning.  But this talk will be about still another reason, which has to do with the \"how.\" In this talk, I'll demonstrate that using a machine-learning approach can streamline the technical apparatus of introductory statistics, pointing to many confusing technical components of the \"consensus course\" that can be eliminated.  I'll lay out ten relatively simple \"objects\" that can be combined into a solid basis for statistical thinking as well as providing a shorter and smoother path to the multivariate statistics learning goals emphasized in the new GAISE College Report.\n",
    "\n",
    "* Attend and send me an email with a 2 paragraph summary."
   ]
  },
  {
   "cell_type": "markdown",
   "metadata": {},
   "source": [
    "## In class\n",
    "\n",
    "* Grab materials for the day\n",
    "  - `cd` - go back to your home directory\n",
    "  - `nbgrader list --course data301`\n",
    "  - `nbgrader fetch --course data301 day09`\n",
    "* Turn in `assignment07` and `assignment08`:\n",
    "  * Restart the kernel and run all notebooks to make sure you code works!\n",
    "  * `nbgrader submit --course data301 assignment07`\n",
    "  * `nbgrader submit --course data301 assignment09`\n",
    "* To reset/update course materials:\n",
    "  - `cd`\n",
    "  - `cd data301`\n",
    "  - `make update`\n",
    "* Today's material\n",
    "  - Hierarchical Indexing\n",
    "  - Concat and Append\n",
    "  - Merge and Join\n",
    "  - Aggregation and Grouping"
   ]
  },
  {
   "cell_type": "markdown",
   "metadata": {},
   "source": [
    "## Out of class\n",
    "\n",
    "* No homework for Thursday, get some rest!"
   ]
  }
 ],
 "metadata": {
  "kernelspec": {
   "display_name": "Python 3",
   "language": "python",
   "name": "python3"
  },
  "language_info": {
   "codemirror_mode": {
    "name": "ipython",
    "version": 3
   },
   "file_extension": ".py",
   "mimetype": "text/x-python",
   "name": "python",
   "nbconvert_exporter": "python",
   "pygments_lexer": "ipython3",
   "version": "3.5.2"
  }
 },
 "nbformat": 4,
 "nbformat_minor": 1
}
