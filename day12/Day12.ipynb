{
 "cells": [
  {
   "cell_type": "markdown",
   "metadata": {},
   "source": [
    "# Day 12\n",
    "\n",
    "* Introduction to Data Science (Data 301)\n",
    "* Cal Poly, Winter 2017\n",
    "* Brian E. Granger"
   ]
  },
  {
   "cell_type": "markdown",
   "metadata": {},
   "source": [
    "## Holiday\n",
    "\n",
    "**No class next Tuesday as Monday is a holiday and Tuesday is a Monday schedule.**\n",
    "\n",
    "**I am traveling on Monday/Tuesday and will not have office hours until Wednesday.**"
   ]
  },
  {
   "cell_type": "markdown",
   "metadata": {},
   "source": [
    "## Midterm\n",
    "\n",
    "* Midterm results are posted in your feedback folder.\n",
    "* If you want me to re-grade any part of your midterm, please email me a written request:\n",
    "  - Deadline: February 21\n",
    "  - Include your GitHub username, and which notebook you want me to regrade.\n",
    "  - Describe what you want me to look at"
   ]
  },
  {
   "cell_type": "markdown",
   "metadata": {},
   "source": [
    "## Extra credit\n",
    "\n",
    "**Watch for a significant extra credit assignment to be posted this weekend.**"
   ]
  },
  {
   "cell_type": "markdown",
   "metadata": {},
   "source": [
    "## In class\n",
    "\n",
    "* Grab materials for the day\n",
    "  - `cd` - go back to your home directory\n",
    "  - `nbgrader list --course data301`\n",
    "  - `nbgrader fetch --course data301 day12`\n",
    "  - `nbgrader fetch --course data301 assignment11`\n",
    "* Turn in homework:\n",
    "  - `nbgrader submit --course data301 assignment10`\n",
    "* To reset/update course materials:\n",
    "  - `cd`\n",
    "  - `cd data301`\n",
    "  - `make update`\n",
    "* Today's material\n",
    "  - Transform\n",
    "    - Relational Data\n",
    "  - Explore\n",
    "    - Interact\n",
    "    - Widgets\n",
    "  - Workflow\n",
    "    - IPython\n",
    "    - Markdown\n",
    "    - LaTeX\n",
    "    - Rich Display"
   ]
  },
  {
   "cell_type": "markdown",
   "metadata": {},
   "source": [
    "## Out of class\n",
    "\n",
    "* Complete `assignment11` by the beginning of class, Thursday, day 14."
   ]
  }
 ],
 "metadata": {
  "kernelspec": {
   "display_name": "Python 3",
   "language": "python",
   "name": "python3"
  },
  "language_info": {
   "codemirror_mode": {
    "name": "ipython",
    "version": 3
   },
   "file_extension": ".py",
   "mimetype": "text/x-python",
   "name": "python",
   "nbconvert_exporter": "python",
   "pygments_lexer": "ipython3",
   "version": "3.5.2"
  }
 },
 "nbformat": 4,
 "nbformat_minor": 1
}
