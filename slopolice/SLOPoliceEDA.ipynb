{
 "cells": [
  {
   "cell_type": "markdown",
   "metadata": {},
   "source": [
    "# San Luis Obispo Police Data"
   ]
  },
  {
   "cell_type": "markdown",
   "metadata": {},
   "source": [
    "## Introduction"
   ]
  },
  {
   "cell_type": "markdown",
   "metadata": {},
   "source": [
    "In this notebook, you will explore data from the daily logs of the San Luis Obispo Police Department. The SLOPD posts daily logs of their data [here](http://pdreport.slocity.org/policelog/rpcdsum.txt), but unfortunately, they remove the data daily when they post updates. This dataset comes from Professor [Thomas D. Gutierrez](http://www.physics.calpoly.edu/faculty/tgutierrez), who has collected the daily logs for a number of weeks and shared them."
   ]
  },
  {
   "cell_type": "markdown",
   "metadata": {},
   "source": [
    "## The dataset"
   ]
  },
  {
   "cell_type": "markdown",
   "metadata": {},
   "source": [
    "The dataset is located in the `/data` directory and contains daily logs. The date in the filename is the date the log was downloaded, which does not necessarily correspond with the incident dates contained therein."
   ]
  },
  {
   "cell_type": "code",
   "execution_count": null,
   "metadata": {
    "collapsed": false,
    "deletable": false,
    "editable": false,
    "nbgrader": {
     "checksum": "f771ef6b3fd8365b827aed0967db6281",
     "grade": false,
     "grade_id": "slo-police-a",
     "locked": true,
     "schema_version": 1,
     "solution": false
    }
   },
   "outputs": [],
   "source": [
    "!ls /data/slo_police_logs_2017-02/ | head"
   ]
  },
  {
   "cell_type": "markdown",
   "metadata": {},
   "source": [
    "Individual files are text file containing a file header and then a set of incident reports. Here is a the start of the single file that shows the basic format:"
   ]
  },
  {
   "cell_type": "code",
   "execution_count": null,
   "metadata": {
    "collapsed": false,
    "deletable": false,
    "editable": false,
    "nbgrader": {
     "checksum": "330824842356acebbc4bbf68f5ce8f3e",
     "grade": false,
     "grade_id": "slo-police-b",
     "locked": true,
     "schema_version": 1,
     "solution": false
    }
   },
   "outputs": [],
   "source": [
    "!head -n 18 /data/slo_police_logs_2017-02/SLOPolice_TDGAcq2016-07-29-2347.txt"
   ]
  },
  {
   "cell_type": "markdown",
   "metadata": {},
   "source": [
    "## The assignment"
   ]
  },
  {
   "cell_type": "markdown",
   "metadata": {},
   "source": [
    "Your assignment is to perform the following steps:\n",
    "\n",
    "* Go through the following steps of the data science process:\n",
    "  - Import: parse the original data files into Pandas DataFrames.\n",
    "  - Tidy: one table per entity, variables in columns, samples in rows. You will need\n",
    "    multiple tables to represent the many-to-many relationship between units and incidents. It may help\n",
    "    to save the tidy data to a SQL database.\n",
    "  - Transform: perform transformations of the data to make it more useful. Examples would include putting addresses\n",
    "    into a standardized format using a web-service, or putting date/times into a standard format such as\n",
    "    [ISO 8601](https://en.wikipedia.org/wiki/ISO_8601).\n",
    "  - Visualize: create visualizations using Altair or Matplotlib to generate and answer questions.\n",
    "  - Explore: explore different questions in the dataset.\n",
    "* Create a computational narrative of your work. This narrative should intermix code cells with markdown cells that\n",
    "  describe to the reader what you are doing."
   ]
  },
  {
   "cell_type": "code",
   "execution_count": null,
   "metadata": {
    "collapsed": true,
    "deletable": false,
    "nbgrader": {
     "checksum": "4413365f989a464dee8843b3d6f9d157",
     "grade": true,
     "grade_id": "slo-police-c",
     "locked": false,
     "points": 34,
     "schema_version": 1,
     "solution": true
    }
   },
   "outputs": [],
   "source": [
    "# YOUR CODE HERE\n",
    "raise NotImplementedError()"
   ]
  },
  {
   "cell_type": "markdown",
   "metadata": {},
   "source": [
    "## Your work"
   ]
  },
  {
   "cell_type": "markdown",
   "metadata": {},
   "source": [
    "Create new code and markdown cells below this point for all of your work."
   ]
  },
  {
   "cell_type": "code",
   "execution_count": null,
   "metadata": {
    "collapsed": true
   },
   "outputs": [],
   "source": []
  }
 ],
 "metadata": {
  "kernelspec": {
   "display_name": "Python 3",
   "language": "python",
   "name": "python3"
  },
  "language_info": {
   "codemirror_mode": {
    "name": "ipython",
    "version": 3
   },
   "file_extension": ".py",
   "mimetype": "text/x-python",
   "name": "python",
   "nbconvert_exporter": "python",
   "pygments_lexer": "ipython3",
   "version": "3.5.2"
  }
 },
 "nbformat": 4,
 "nbformat_minor": 2
}
