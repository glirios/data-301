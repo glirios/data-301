{
 "cells": [
  {
   "cell_type": "markdown",
   "metadata": {},
   "source": [
    "# Import and Tidy"
   ]
  },
  {
   "cell_type": "markdown",
   "metadata": {},
   "source": [
    "## Imports"
   ]
  },
  {
   "cell_type": "code",
   "execution_count": 2,
   "metadata": {
    "collapsed": true
   },
   "outputs": [],
   "source": [
    "import pandas as pd"
   ]
  },
  {
   "cell_type": "markdown",
   "metadata": {},
   "source": [
    "## 1. Dataset"
   ]
  },
  {
   "cell_type": "markdown",
   "metadata": {},
   "source": [
    "The dataset that I am using for this presentaiton was located in Kaggle and has roughly 300,000 entries on Pokemon found around the world for the past eight months."
   ]
  },
  {
   "cell_type": "code",
   "execution_count": 3,
   "metadata": {
    "collapsed": false
   },
   "outputs": [
    {
     "name": "stderr",
     "output_type": "stream",
     "text": [
      "/opt/conda/lib/python3.5/site-packages/IPython/core/interactiveshell.py:2717: DtypeWarning: Columns (49) have mixed types. Specify dtype option on import or set low_memory=False.\n",
      "  interactivity=interactivity, compiler=compiler, result=result)\n"
     ]
    }
   ],
   "source": [
    "raw_data = pd.read_csv('/data/glirios/300k.csv')"
   ]
  },
  {
   "cell_type": "code",
   "execution_count": 4,
   "metadata": {
    "collapsed": false
   },
   "outputs": [
    {
     "data": {
      "text/html": [
       "<div>\n",
       "<table border=\"1\" class=\"dataframe\">\n",
       "  <thead>\n",
       "    <tr style=\"text-align: right;\">\n",
       "      <th></th>\n",
       "      <th>pokemonId</th>\n",
       "      <th>latitude</th>\n",
       "      <th>longitude</th>\n",
       "      <th>appearedLocalTime</th>\n",
       "      <th>_id</th>\n",
       "      <th>cellId_90m</th>\n",
       "      <th>cellId_180m</th>\n",
       "      <th>cellId_370m</th>\n",
       "      <th>cellId_730m</th>\n",
       "      <th>cellId_1460m</th>\n",
       "      <th>...</th>\n",
       "      <th>cooc_143</th>\n",
       "      <th>cooc_144</th>\n",
       "      <th>cooc_145</th>\n",
       "      <th>cooc_146</th>\n",
       "      <th>cooc_147</th>\n",
       "      <th>cooc_148</th>\n",
       "      <th>cooc_149</th>\n",
       "      <th>cooc_150</th>\n",
       "      <th>cooc_151</th>\n",
       "      <th>class</th>\n",
       "    </tr>\n",
       "  </thead>\n",
       "  <tbody>\n",
       "    <tr>\n",
       "      <th>0</th>\n",
       "      <td>16</td>\n",
       "      <td>20.525745</td>\n",
       "      <td>-97.460829</td>\n",
       "      <td>2016-09-08T03:57:45</td>\n",
       "      <td>NTgxMDkzOTk4MTM5MjUwMjIzNw==</td>\n",
       "      <td>9645139108510564000</td>\n",
       "      <td>9645139108711890000</td>\n",
       "      <td>9645139108443455000</td>\n",
       "      <td>9645139109517197000</td>\n",
       "      <td>9645139113812165000</td>\n",
       "      <td>...</td>\n",
       "      <td>False</td>\n",
       "      <td>False</td>\n",
       "      <td>False</td>\n",
       "      <td>False</td>\n",
       "      <td>False</td>\n",
       "      <td>False</td>\n",
       "      <td>False</td>\n",
       "      <td>False</td>\n",
       "      <td>False</td>\n",
       "      <td>16</td>\n",
       "    </tr>\n",
       "    <tr>\n",
       "      <th>1</th>\n",
       "      <td>133</td>\n",
       "      <td>20.523695</td>\n",
       "      <td>-97.461167</td>\n",
       "      <td>2016-09-08T03:57:37</td>\n",
       "      <td>OTQ1NDgzODc1MjM3NDEzMTI2MQ==</td>\n",
       "      <td>9645139109852742000</td>\n",
       "      <td>9645139109785633000</td>\n",
       "      <td>9645139110590940000</td>\n",
       "      <td>9645139109517197000</td>\n",
       "      <td>9645139113812165000</td>\n",
       "      <td>...</td>\n",
       "      <td>False</td>\n",
       "      <td>False</td>\n",
       "      <td>False</td>\n",
       "      <td>False</td>\n",
       "      <td>False</td>\n",
       "      <td>False</td>\n",
       "      <td>False</td>\n",
       "      <td>False</td>\n",
       "      <td>False</td>\n",
       "      <td>133</td>\n",
       "    </tr>\n",
       "    <tr>\n",
       "      <th>2</th>\n",
       "      <td>16</td>\n",
       "      <td>38.903590</td>\n",
       "      <td>-77.199780</td>\n",
       "      <td>2016-09-08T03:57:25</td>\n",
       "      <td>NTQ0OTQ0NDA1Nzg2ODg3OTg2OQ==</td>\n",
       "      <td>9923201472785285000</td>\n",
       "      <td>9923201472986612000</td>\n",
       "      <td>9923201473791918000</td>\n",
       "      <td>9923201477013144000</td>\n",
       "      <td>9923201481308110000</td>\n",
       "      <td>...</td>\n",
       "      <td>False</td>\n",
       "      <td>False</td>\n",
       "      <td>False</td>\n",
       "      <td>False</td>\n",
       "      <td>False</td>\n",
       "      <td>False</td>\n",
       "      <td>False</td>\n",
       "      <td>False</td>\n",
       "      <td>False</td>\n",
       "      <td>16</td>\n",
       "    </tr>\n",
       "    <tr>\n",
       "      <th>3</th>\n",
       "      <td>13</td>\n",
       "      <td>47.665903</td>\n",
       "      <td>-122.312561</td>\n",
       "      <td>2016-09-08T03:56:22</td>\n",
       "      <td>NTU2MTU1NDM4NzA2MDk1MDcxNw==</td>\n",
       "      <td>6093392705025474600</td>\n",
       "      <td>6093392705092583400</td>\n",
       "      <td>6093392705897889800</td>\n",
       "      <td>6093392702676664300</td>\n",
       "      <td>6093392715561566200</td>\n",
       "      <td>...</td>\n",
       "      <td>False</td>\n",
       "      <td>False</td>\n",
       "      <td>False</td>\n",
       "      <td>False</td>\n",
       "      <td>False</td>\n",
       "      <td>False</td>\n",
       "      <td>False</td>\n",
       "      <td>False</td>\n",
       "      <td>False</td>\n",
       "      <td>13</td>\n",
       "    </tr>\n",
       "    <tr>\n",
       "      <th>4</th>\n",
       "      <td>133</td>\n",
       "      <td>47.666454</td>\n",
       "      <td>-122.311628</td>\n",
       "      <td>2016-09-08T03:56:08</td>\n",
       "      <td>MTY2ODg4MTAzMTczMDE0MTUwNTM=</td>\n",
       "      <td>6093392707709829100</td>\n",
       "      <td>6093392707776938000</td>\n",
       "      <td>6093392708045373400</td>\n",
       "      <td>6093392711266598900</td>\n",
       "      <td>6093392715561566200</td>\n",
       "      <td>...</td>\n",
       "      <td>False</td>\n",
       "      <td>False</td>\n",
       "      <td>False</td>\n",
       "      <td>False</td>\n",
       "      <td>False</td>\n",
       "      <td>False</td>\n",
       "      <td>False</td>\n",
       "      <td>False</td>\n",
       "      <td>False</td>\n",
       "      <td>133</td>\n",
       "    </tr>\n",
       "  </tbody>\n",
       "</table>\n",
       "<p>5 rows × 208 columns</p>\n",
       "</div>"
      ],
      "text/plain": [
       "   pokemonId   latitude   longitude    appearedLocalTime  \\\n",
       "0         16  20.525745  -97.460829  2016-09-08T03:57:45   \n",
       "1        133  20.523695  -97.461167  2016-09-08T03:57:37   \n",
       "2         16  38.903590  -77.199780  2016-09-08T03:57:25   \n",
       "3         13  47.665903 -122.312561  2016-09-08T03:56:22   \n",
       "4        133  47.666454 -122.311628  2016-09-08T03:56:08   \n",
       "\n",
       "                            _id           cellId_90m          cellId_180m  \\\n",
       "0  NTgxMDkzOTk4MTM5MjUwMjIzNw==  9645139108510564000  9645139108711890000   \n",
       "1  OTQ1NDgzODc1MjM3NDEzMTI2MQ==  9645139109852742000  9645139109785633000   \n",
       "2  NTQ0OTQ0NDA1Nzg2ODg3OTg2OQ==  9923201472785285000  9923201472986612000   \n",
       "3  NTU2MTU1NDM4NzA2MDk1MDcxNw==  6093392705025474600  6093392705092583400   \n",
       "4  MTY2ODg4MTAzMTczMDE0MTUwNTM=  6093392707709829100  6093392707776938000   \n",
       "\n",
       "           cellId_370m          cellId_730m         cellId_1460m  ...    \\\n",
       "0  9645139108443455000  9645139109517197000  9645139113812165000  ...     \n",
       "1  9645139110590940000  9645139109517197000  9645139113812165000  ...     \n",
       "2  9923201473791918000  9923201477013144000  9923201481308110000  ...     \n",
       "3  6093392705897889800  6093392702676664300  6093392715561566200  ...     \n",
       "4  6093392708045373400  6093392711266598900  6093392715561566200  ...     \n",
       "\n",
       "  cooc_143 cooc_144 cooc_145  cooc_146  cooc_147 cooc_148  cooc_149  cooc_150  \\\n",
       "0    False    False    False     False     False    False     False     False   \n",
       "1    False    False    False     False     False    False     False     False   \n",
       "2    False    False    False     False     False    False     False     False   \n",
       "3    False    False    False     False     False    False     False     False   \n",
       "4    False    False    False     False     False    False     False     False   \n",
       "\n",
       "   cooc_151  class  \n",
       "0     False     16  \n",
       "1     False    133  \n",
       "2     False     16  \n",
       "3     False     13  \n",
       "4     False    133  \n",
       "\n",
       "[5 rows x 208 columns]"
      ]
     },
     "execution_count": 4,
     "metadata": {},
     "output_type": "execute_result"
    }
   ],
   "source": [
    "raw_data.head()"
   ]
  },
  {
   "cell_type": "code",
   "execution_count": 5,
   "metadata": {
    "collapsed": false
   },
   "outputs": [],
   "source": [
    "row, col = raw_data.shape\n",
    "assert row > 200000\n",
    "assert col == 208"
   ]
  },
  {
   "cell_type": "markdown",
   "metadata": {},
   "source": [
    "The reason for the volume of columns is due to the fact that there are 151 cloumns for booleans to check if the Pokemon spawned with another one of the 151 pokemon. When we remove those 151 colunmns, we are left with 47 columns. After carefull analysis of the different columns that remain, I have found that a lot of the coulmns provide information that is already repeated or has very little use to the type of analysis that I was going to be working on. "
   ]
  },
  {
   "cell_type": "code",
   "execution_count": 6,
   "metadata": {
    "collapsed": false
   },
   "outputs": [],
   "source": [
    "tidy = raw_data[['pokemonId', 'latitude', 'longitude', 'appearedTimeOfDay', 'appearedDayOfWeek', 'appearedLocalTime', 'appearedHour',\n",
    "'appearedDay', 'city', 'temperature', 'continent', 'population_density', 'class']]"
   ]
  },
  {
   "cell_type": "code",
   "execution_count": 7,
   "metadata": {
    "collapsed": false
   },
   "outputs": [
    {
     "data": {
      "text/plain": [
       "(296021, 13)"
      ]
     },
     "execution_count": 7,
     "metadata": {},
     "output_type": "execute_result"
    }
   ],
   "source": [
    "tidy.shape"
   ]
  },
  {
   "cell_type": "code",
   "execution_count": 8,
   "metadata": {
    "collapsed": false
   },
   "outputs": [
    {
     "data": {
      "text/html": [
       "<div>\n",
       "<table border=\"1\" class=\"dataframe\">\n",
       "  <thead>\n",
       "    <tr style=\"text-align: right;\">\n",
       "      <th></th>\n",
       "      <th>pokemonId</th>\n",
       "      <th>latitude</th>\n",
       "      <th>longitude</th>\n",
       "      <th>appearedTimeOfDay</th>\n",
       "      <th>appearedDayOfWeek</th>\n",
       "      <th>appearedLocalTime</th>\n",
       "      <th>appearedHour</th>\n",
       "      <th>appearedDay</th>\n",
       "      <th>city</th>\n",
       "      <th>temperature</th>\n",
       "      <th>continent</th>\n",
       "      <th>population_density</th>\n",
       "      <th>class</th>\n",
       "    </tr>\n",
       "  </thead>\n",
       "  <tbody>\n",
       "    <tr>\n",
       "      <th>0</th>\n",
       "      <td>16</td>\n",
       "      <td>20.525745</td>\n",
       "      <td>-97.460829</td>\n",
       "      <td>night</td>\n",
       "      <td>dummy_day</td>\n",
       "      <td>2016-09-08T03:57:45</td>\n",
       "      <td>5</td>\n",
       "      <td>8</td>\n",
       "      <td>Mexico_City</td>\n",
       "      <td>25.5</td>\n",
       "      <td>America</td>\n",
       "      <td>2431.2341</td>\n",
       "      <td>16</td>\n",
       "    </tr>\n",
       "    <tr>\n",
       "      <th>1</th>\n",
       "      <td>133</td>\n",
       "      <td>20.523695</td>\n",
       "      <td>-97.461167</td>\n",
       "      <td>night</td>\n",
       "      <td>dummy_day</td>\n",
       "      <td>2016-09-08T03:57:37</td>\n",
       "      <td>5</td>\n",
       "      <td>8</td>\n",
       "      <td>Mexico_City</td>\n",
       "      <td>25.5</td>\n",
       "      <td>America</td>\n",
       "      <td>2431.2341</td>\n",
       "      <td>133</td>\n",
       "    </tr>\n",
       "    <tr>\n",
       "      <th>2</th>\n",
       "      <td>16</td>\n",
       "      <td>38.903590</td>\n",
       "      <td>-77.199780</td>\n",
       "      <td>night</td>\n",
       "      <td>dummy_day</td>\n",
       "      <td>2016-09-08T03:57:25</td>\n",
       "      <td>5</td>\n",
       "      <td>8</td>\n",
       "      <td>New_York</td>\n",
       "      <td>24.2</td>\n",
       "      <td>America</td>\n",
       "      <td>761.8856</td>\n",
       "      <td>16</td>\n",
       "    </tr>\n",
       "    <tr>\n",
       "      <th>3</th>\n",
       "      <td>13</td>\n",
       "      <td>47.665903</td>\n",
       "      <td>-122.312561</td>\n",
       "      <td>night</td>\n",
       "      <td>dummy_day</td>\n",
       "      <td>2016-09-08T03:56:22</td>\n",
       "      <td>5</td>\n",
       "      <td>8</td>\n",
       "      <td>Los_Angeles</td>\n",
       "      <td>15.6</td>\n",
       "      <td>America</td>\n",
       "      <td>4842.1626</td>\n",
       "      <td>13</td>\n",
       "    </tr>\n",
       "    <tr>\n",
       "      <th>4</th>\n",
       "      <td>133</td>\n",
       "      <td>47.666454</td>\n",
       "      <td>-122.311628</td>\n",
       "      <td>night</td>\n",
       "      <td>dummy_day</td>\n",
       "      <td>2016-09-08T03:56:08</td>\n",
       "      <td>5</td>\n",
       "      <td>8</td>\n",
       "      <td>Los_Angeles</td>\n",
       "      <td>15.6</td>\n",
       "      <td>America</td>\n",
       "      <td>4842.1626</td>\n",
       "      <td>133</td>\n",
       "    </tr>\n",
       "  </tbody>\n",
       "</table>\n",
       "</div>"
      ],
      "text/plain": [
       "   pokemonId   latitude   longitude appearedTimeOfDay appearedDayOfWeek  \\\n",
       "0         16  20.525745  -97.460829             night         dummy_day   \n",
       "1        133  20.523695  -97.461167             night         dummy_day   \n",
       "2         16  38.903590  -77.199780             night         dummy_day   \n",
       "3         13  47.665903 -122.312561             night         dummy_day   \n",
       "4        133  47.666454 -122.311628             night         dummy_day   \n",
       "\n",
       "     appearedLocalTime  appearedHour  appearedDay         city  temperature  \\\n",
       "0  2016-09-08T03:57:45             5            8  Mexico_City         25.5   \n",
       "1  2016-09-08T03:57:37             5            8  Mexico_City         25.5   \n",
       "2  2016-09-08T03:57:25             5            8     New_York         24.2   \n",
       "3  2016-09-08T03:56:22             5            8  Los_Angeles         15.6   \n",
       "4  2016-09-08T03:56:08             5            8  Los_Angeles         15.6   \n",
       "\n",
       "  continent  population_density  class  \n",
       "0   America           2431.2341     16  \n",
       "1   America           2431.2341    133  \n",
       "2   America            761.8856     16  \n",
       "3   America           4842.1626     13  \n",
       "4   America           4842.1626    133  "
      ]
     },
     "execution_count": 8,
     "metadata": {},
     "output_type": "execute_result"
    }
   ],
   "source": [
    "tidy.head()"
   ]
  },
  {
   "cell_type": "code",
   "execution_count": 9,
   "metadata": {
    "collapsed": false
   },
   "outputs": [
    {
     "name": "stdout",
     "output_type": "stream",
     "text": [
      "<class 'pandas.core.frame.DataFrame'>\n",
      "RangeIndex: 296021 entries, 0 to 296020\n",
      "Data columns (total 13 columns):\n",
      "pokemonId             296021 non-null int64\n",
      "latitude              296021 non-null float64\n",
      "longitude             296021 non-null float64\n",
      "appearedTimeOfDay     296021 non-null object\n",
      "appearedDayOfWeek     296021 non-null object\n",
      "appearedLocalTime     296021 non-null object\n",
      "appearedHour          296021 non-null int64\n",
      "appearedDay           296021 non-null int64\n",
      "city                  296021 non-null object\n",
      "temperature           296021 non-null float64\n",
      "continent             296021 non-null object\n",
      "population_density    296021 non-null float64\n",
      "class                 296021 non-null int64\n",
      "dtypes: float64(4), int64(4), object(5)\n",
      "memory usage: 29.4+ MB\n"
     ]
    }
   ],
   "source": [
    "tidy.info()"
   ]
  },
  {
   "cell_type": "code",
   "execution_count": 10,
   "metadata": {
    "collapsed": false
   },
   "outputs": [
    {
     "name": "stderr",
     "output_type": "stream",
     "text": [
      "/opt/conda/lib/python3.5/site-packages/ipykernel/__main__.py:4: SettingWithCopyWarning: \n",
      "A value is trying to be set on a copy of a slice from a DataFrame.\n",
      "Try using .loc[row_indexer,col_indexer] = value instead\n",
      "\n",
      "See the caveats in the documentation: http://pandas.pydata.org/pandas-docs/stable/indexing.html#indexing-view-versus-copy\n"
     ]
    }
   ],
   "source": [
    "#refined = tidy[tidy['continent'] == 'America']\n",
    "#refined = refined.drop('continent', axis = 1)\n",
    "refined = tidy\n",
    "refined['appearedDayOfWeek'] = tidy['appearedDayOfWeek'].replace('dummy_day', 'Monday')"
   ]
  },
  {
   "cell_type": "code",
   "execution_count": 11,
   "metadata": {
    "collapsed": false
   },
   "outputs": [
    {
     "data": {
      "text/plain": [
       "(296021, 13)"
      ]
     },
     "execution_count": 11,
     "metadata": {},
     "output_type": "execute_result"
    }
   ],
   "source": [
    "refined.shape"
   ]
  },
  {
   "cell_type": "code",
   "execution_count": 12,
   "metadata": {
    "collapsed": false
   },
   "outputs": [
    {
     "data": {
      "text/html": [
       "<div>\n",
       "<table border=\"1\" class=\"dataframe\">\n",
       "  <thead>\n",
       "    <tr style=\"text-align: right;\">\n",
       "      <th></th>\n",
       "      <th>pokemonId</th>\n",
       "      <th>latitude</th>\n",
       "      <th>longitude</th>\n",
       "      <th>appearedTimeOfDay</th>\n",
       "      <th>appearedDayOfWeek</th>\n",
       "      <th>appearedLocalTime</th>\n",
       "      <th>appearedHour</th>\n",
       "      <th>appearedDay</th>\n",
       "      <th>city</th>\n",
       "      <th>temperature</th>\n",
       "      <th>continent</th>\n",
       "      <th>population_density</th>\n",
       "      <th>class</th>\n",
       "    </tr>\n",
       "  </thead>\n",
       "  <tbody>\n",
       "    <tr>\n",
       "      <th>0</th>\n",
       "      <td>16</td>\n",
       "      <td>20.525745</td>\n",
       "      <td>-97.460829</td>\n",
       "      <td>night</td>\n",
       "      <td>Monday</td>\n",
       "      <td>2016-09-08T03:57:45</td>\n",
       "      <td>5</td>\n",
       "      <td>8</td>\n",
       "      <td>Mexico_City</td>\n",
       "      <td>25.5</td>\n",
       "      <td>America</td>\n",
       "      <td>2431.2341</td>\n",
       "      <td>16</td>\n",
       "    </tr>\n",
       "    <tr>\n",
       "      <th>1</th>\n",
       "      <td>133</td>\n",
       "      <td>20.523695</td>\n",
       "      <td>-97.461167</td>\n",
       "      <td>night</td>\n",
       "      <td>Monday</td>\n",
       "      <td>2016-09-08T03:57:37</td>\n",
       "      <td>5</td>\n",
       "      <td>8</td>\n",
       "      <td>Mexico_City</td>\n",
       "      <td>25.5</td>\n",
       "      <td>America</td>\n",
       "      <td>2431.2341</td>\n",
       "      <td>133</td>\n",
       "    </tr>\n",
       "    <tr>\n",
       "      <th>2</th>\n",
       "      <td>16</td>\n",
       "      <td>38.903590</td>\n",
       "      <td>-77.199780</td>\n",
       "      <td>night</td>\n",
       "      <td>Monday</td>\n",
       "      <td>2016-09-08T03:57:25</td>\n",
       "      <td>5</td>\n",
       "      <td>8</td>\n",
       "      <td>New_York</td>\n",
       "      <td>24.2</td>\n",
       "      <td>America</td>\n",
       "      <td>761.8856</td>\n",
       "      <td>16</td>\n",
       "    </tr>\n",
       "    <tr>\n",
       "      <th>3</th>\n",
       "      <td>13</td>\n",
       "      <td>47.665903</td>\n",
       "      <td>-122.312561</td>\n",
       "      <td>night</td>\n",
       "      <td>Monday</td>\n",
       "      <td>2016-09-08T03:56:22</td>\n",
       "      <td>5</td>\n",
       "      <td>8</td>\n",
       "      <td>Los_Angeles</td>\n",
       "      <td>15.6</td>\n",
       "      <td>America</td>\n",
       "      <td>4842.1626</td>\n",
       "      <td>13</td>\n",
       "    </tr>\n",
       "    <tr>\n",
       "      <th>4</th>\n",
       "      <td>133</td>\n",
       "      <td>47.666454</td>\n",
       "      <td>-122.311628</td>\n",
       "      <td>night</td>\n",
       "      <td>Monday</td>\n",
       "      <td>2016-09-08T03:56:08</td>\n",
       "      <td>5</td>\n",
       "      <td>8</td>\n",
       "      <td>Los_Angeles</td>\n",
       "      <td>15.6</td>\n",
       "      <td>America</td>\n",
       "      <td>4842.1626</td>\n",
       "      <td>133</td>\n",
       "    </tr>\n",
       "  </tbody>\n",
       "</table>\n",
       "</div>"
      ],
      "text/plain": [
       "   pokemonId   latitude   longitude appearedTimeOfDay appearedDayOfWeek  \\\n",
       "0         16  20.525745  -97.460829             night            Monday   \n",
       "1        133  20.523695  -97.461167             night            Monday   \n",
       "2         16  38.903590  -77.199780             night            Monday   \n",
       "3         13  47.665903 -122.312561             night            Monday   \n",
       "4        133  47.666454 -122.311628             night            Monday   \n",
       "\n",
       "     appearedLocalTime  appearedHour  appearedDay         city  temperature  \\\n",
       "0  2016-09-08T03:57:45             5            8  Mexico_City         25.5   \n",
       "1  2016-09-08T03:57:37             5            8  Mexico_City         25.5   \n",
       "2  2016-09-08T03:57:25             5            8     New_York         24.2   \n",
       "3  2016-09-08T03:56:22             5            8  Los_Angeles         15.6   \n",
       "4  2016-09-08T03:56:08             5            8  Los_Angeles         15.6   \n",
       "\n",
       "  continent  population_density  class  \n",
       "0   America           2431.2341     16  \n",
       "1   America           2431.2341    133  \n",
       "2   America            761.8856     16  \n",
       "3   America           4842.1626     13  \n",
       "4   America           4842.1626    133  "
      ]
     },
     "execution_count": 12,
     "metadata": {},
     "output_type": "execute_result"
    }
   ],
   "source": [
    "refined.head()"
   ]
  },
  {
   "cell_type": "code",
   "execution_count": 13,
   "metadata": {
    "collapsed": true
   },
   "outputs": [],
   "source": [
    "refined.to_csv('/data/glirios/Pokemon.csv')"
   ]
  },
  {
   "cell_type": "code",
   "execution_count": 14,
   "metadata": {
    "collapsed": false
   },
   "outputs": [],
   "source": [
    "pokemon_locations = tidy[['city','latitude', 'longitude', 'appearedLocalTime']]"
   ]
  },
  {
   "cell_type": "code",
   "execution_count": 15,
   "metadata": {
    "collapsed": false
   },
   "outputs": [
    {
     "data": {
      "text/html": [
       "<div>\n",
       "<table border=\"1\" class=\"dataframe\">\n",
       "  <thead>\n",
       "    <tr style=\"text-align: right;\">\n",
       "      <th></th>\n",
       "      <th>city</th>\n",
       "      <th>latitude</th>\n",
       "      <th>longitude</th>\n",
       "      <th>appearedLocalTime</th>\n",
       "    </tr>\n",
       "  </thead>\n",
       "  <tbody>\n",
       "    <tr>\n",
       "      <th>0</th>\n",
       "      <td>Mexico_City</td>\n",
       "      <td>20.525745</td>\n",
       "      <td>-97.460829</td>\n",
       "      <td>2016-09-08T03:57:45</td>\n",
       "    </tr>\n",
       "    <tr>\n",
       "      <th>1</th>\n",
       "      <td>Mexico_City</td>\n",
       "      <td>20.523695</td>\n",
       "      <td>-97.461167</td>\n",
       "      <td>2016-09-08T03:57:37</td>\n",
       "    </tr>\n",
       "    <tr>\n",
       "      <th>2</th>\n",
       "      <td>New_York</td>\n",
       "      <td>38.903590</td>\n",
       "      <td>-77.199780</td>\n",
       "      <td>2016-09-08T03:57:25</td>\n",
       "    </tr>\n",
       "    <tr>\n",
       "      <th>3</th>\n",
       "      <td>Los_Angeles</td>\n",
       "      <td>47.665903</td>\n",
       "      <td>-122.312561</td>\n",
       "      <td>2016-09-08T03:56:22</td>\n",
       "    </tr>\n",
       "    <tr>\n",
       "      <th>4</th>\n",
       "      <td>Los_Angeles</td>\n",
       "      <td>47.666454</td>\n",
       "      <td>-122.311628</td>\n",
       "      <td>2016-09-08T03:56:08</td>\n",
       "    </tr>\n",
       "  </tbody>\n",
       "</table>\n",
       "</div>"
      ],
      "text/plain": [
       "          city   latitude   longitude    appearedLocalTime\n",
       "0  Mexico_City  20.525745  -97.460829  2016-09-08T03:57:45\n",
       "1  Mexico_City  20.523695  -97.461167  2016-09-08T03:57:37\n",
       "2     New_York  38.903590  -77.199780  2016-09-08T03:57:25\n",
       "3  Los_Angeles  47.665903 -122.312561  2016-09-08T03:56:22\n",
       "4  Los_Angeles  47.666454 -122.311628  2016-09-08T03:56:08"
      ]
     },
     "execution_count": 15,
     "metadata": {},
     "output_type": "execute_result"
    }
   ],
   "source": [
    "pokemon_locations.head()"
   ]
  },
  {
   "cell_type": "code",
   "execution_count": 16,
   "metadata": {
    "collapsed": true
   },
   "outputs": [],
   "source": [
    "pokemon_locations.to_csv('/data/glirios/poke_locs.csv')"
   ]
  },
  {
   "cell_type": "code",
   "execution_count": null,
   "metadata": {
    "collapsed": true
   },
   "outputs": [],
   "source": []
  }
 ],
 "metadata": {
  "kernelspec": {
   "display_name": "Python 3",
   "language": "python",
   "name": "python3"
  },
  "language_info": {
   "codemirror_mode": {
    "name": "ipython",
    "version": 3
   },
   "file_extension": ".py",
   "mimetype": "text/x-python",
   "name": "python",
   "nbconvert_exporter": "python",
   "pygments_lexer": "ipython3",
   "version": "3.5.2"
  }
 },
 "nbformat": 4,
 "nbformat_minor": 2
}
