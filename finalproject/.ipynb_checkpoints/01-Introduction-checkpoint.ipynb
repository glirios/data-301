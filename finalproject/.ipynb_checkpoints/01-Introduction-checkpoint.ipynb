{
 "cells": [
  {
   "cell_type": "markdown",
   "metadata": {},
   "source": [
    "# Introduction"
   ]
  },
  {
   "cell_type": "markdown",
   "metadata": {},
   "source": [
    "## Abstract"
   ]
  },
  {
   "cell_type": "markdown",
   "metadata": {},
   "source": [
    "PokemonGo is a mobile augmented reality game developed by Niantic inc. for iOS, Android, and Apple Watch devices, initially released in July 2016. In the game, players use a mobile device's GPS capability to interact with virtual creatures called Pokemin. With the help of augmented reality, users are able to see Pokemon on the screen as if they were in the same real-world location as the player. In this presentation, we will view how the use of data science can help users predict the next occurance of a pokemon based on the given information gathered to data."
   ]
  },
  {
   "cell_type": "markdown",
   "metadata": {},
   "source": [
    "## Description of the dataset"
   ]
  },
  {
   "cell_type": "markdown",
   "metadata": {},
   "source": [
    "The dataset that we have for predicting occurences of Pokemon at the moment has about 300,000 entries on Pokemon appearences and about 208 columns of information. Using data science techniques, we will be dropping the number of entries to just the appearences in the United States. The 208 columns bring information on geography, appearences with other Pokemon, and location relative to ingame landmarks."
   ]
  },
  {
   "cell_type": "markdown",
   "metadata": {},
   "source": [
    "## Index"
   ]
  },
  {
   "cell_type": "markdown",
   "metadata": {},
   "source": [
    "### Notebooks\n",
    "02-Imports & Tidy\n",
    "* The raw data is imported into the project and cleaned up to have a neater dataset to work with. The purpose of cleaning the dataset is to make sure that the dataset has all missing values taken care of, unneccessary columns removed, and made sure data is prepared to make easy to work with.\n",
    "\n",
    "03-EDA\n",
    "* The dataset is examined through trasnformations and visualizations. We formulate questions about the dataset and work on visualizations that present the neccessary results to answer the questions. we create interactive widgets in order to make the dataset interactive.\n",
    "\n",
    "04-Modeling\n",
    "* Bootstrap resampling is used to formulate distributions. We explore relationships, extract insights, and make predictions by using the appropriate statistical models present in class. We utilize machine learning pratices to formulate predictive analytics. "
   ]
  },
  {
   "cell_type": "markdown",
   "metadata": {},
   "source": [
    "## Citations"
   ]
  },
  {
   "cell_type": "markdown",
   "metadata": {},
   "source": []
  }
 ],
 "metadata": {
  "kernelspec": {
   "display_name": "Python 3",
   "language": "python",
   "name": "python3"
  },
  "language_info": {
   "codemirror_mode": {
    "name": "ipython",
    "version": 3
   },
   "file_extension": ".py",
   "mimetype": "text/x-python",
   "name": "python",
   "nbconvert_exporter": "python",
   "pygments_lexer": "ipython3",
   "version": "3.5.2"
  }
 },
 "nbformat": 4,
 "nbformat_minor": 2
}
