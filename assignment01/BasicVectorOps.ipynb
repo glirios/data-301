{
 "cells": [
  {
   "cell_type": "markdown",
   "metadata": {},
   "source": [
    "# Basic Vector Operations"
   ]
  },
  {
   "cell_type": "markdown",
   "metadata": {},
   "source": [
    "In this notebook you will implement a number of basic vector operations using pure Python."
   ]
  },
  {
   "cell_type": "code",
   "execution_count": 1,
   "metadata": {
    "collapsed": true
   },
   "outputs": [],
   "source": [
    "import math"
   ]
  },
  {
   "cell_type": "markdown",
   "metadata": {},
   "source": [
    "Implement a function that computes the sum of two input vectors `x` and `y`:\n"
   ]
  },
  {
   "cell_type": "code",
   "execution_count": 2,
   "metadata": {
    "collapsed": false,
    "deletable": false,
    "nbgrader": {
     "checksum": "78d6f3bfe731c96ef1e204831d1476e9",
     "grade": false,
     "grade_id": "basicvectora",
     "locked": false,
     "schema_version": 1,
     "solution": true
    }
   },
   "outputs": [],
   "source": [
    "def vector_sum(x, y):\n",
    "    \"\"\"Compute the vector sum of x and y as a Python list.\"\"\"\n",
    "    # YOUR CODE HERE\n",
    "    res = []\n",
    "    for index in range(len(x)):\n",
    "        res.append(x[index] + y[index])\n",
    "        \n",
    "    return res"
   ]
  },
  {
   "cell_type": "code",
   "execution_count": 3,
   "metadata": {
    "collapsed": false,
    "deletable": false,
    "editable": false,
    "nbgrader": {
     "checksum": "d6bcd816cb5a46c7bc064145f84a0add",
     "grade": true,
     "grade_id": "basicvectorb",
     "locked": true,
     "points": 1,
     "schema_version": 1,
     "solution": false
    }
   },
   "outputs": [],
   "source": [
    "assert vector_sum([0,0,0,0], [2,2,2,2])==[2,2,2,2]\n",
    "assert vector_sum([1,2], [-1,-2])==[0,0]"
   ]
  },
  {
   "cell_type": "markdown",
   "metadata": {},
   "source": [
    "Implement a function that computes the difference of two input vectors `x` and `y`:"
   ]
  },
  {
   "cell_type": "code",
   "execution_count": 4,
   "metadata": {
    "collapsed": true,
    "deletable": false,
    "nbgrader": {
     "checksum": "8ff05424e159b0f19ed1904098285465",
     "grade": false,
     "grade_id": "basicvectorc",
     "locked": false,
     "schema_version": 1,
     "solution": true
    }
   },
   "outputs": [],
   "source": [
    "def vector_diff(x, y):\n",
    "    \"\"\"Compute the vector difference of x and y as a Python list.\"\"\"\n",
    "    # YOUR CODE HERE\n",
    "    res = []\n",
    "    for index in range(len(x)):\n",
    "        res.append(x[index] - y[index])\n",
    "        \n",
    "    return res"
   ]
  },
  {
   "cell_type": "code",
   "execution_count": 5,
   "metadata": {
    "collapsed": false,
    "deletable": false,
    "editable": false,
    "nbgrader": {
     "checksum": "271613c394f960125f1f5e69514e611c",
     "grade": true,
     "grade_id": "basicvectord",
     "locked": true,
     "points": 1,
     "schema_version": 1,
     "solution": false
    }
   },
   "outputs": [],
   "source": [
    "assert vector_diff([1,1], [0,0])==[1,1]\n",
    "assert vector_diff([1,2,3,4],[1,2,3,4])==[0,0,0,0]"
   ]
  },
  {
   "cell_type": "markdown",
   "metadata": {},
   "source": [
    "Implement a function that computes the product of a scalar `a` with a vectors `x`:"
   ]
  },
  {
   "cell_type": "code",
   "execution_count": 6,
   "metadata": {
    "collapsed": true,
    "deletable": false,
    "nbgrader": {
     "checksum": "b92efb884347f16ef9bf5b6133124508",
     "grade": false,
     "grade_id": "basicvectore",
     "locked": false,
     "schema_version": 1,
     "solution": true
    }
   },
   "outputs": [],
   "source": [
    "def vector_scalar_mul(a, x):\n",
    "    \"\"\"Compute a*x as a Python list.\"\"\"\n",
    "    # YOUR CODE HERE\n",
    "    res = []\n",
    "    for index in range(len(x)):\n",
    "        res.append(x[index] * a)\n",
    "    \n",
    "    return res"
   ]
  },
  {
   "cell_type": "code",
   "execution_count": 7,
   "metadata": {
    "collapsed": false,
    "deletable": false,
    "editable": false,
    "nbgrader": {
     "checksum": "f368607db4c0d14d3ae6853a17f8cf72",
     "grade": true,
     "grade_id": "basicvectorf",
     "locked": true,
     "points": 1,
     "schema_version": 1,
     "solution": false
    }
   },
   "outputs": [],
   "source": [
    "assert vector_scalar_mul(1.0, [1,2,3,4])==[1,2,3,4]\n",
    "assert vector_scalar_mul(2.0, [-1,0,1])==[-2,0,2]"
   ]
  },
  {
   "cell_type": "markdown",
   "metadata": {},
   "source": [
    "Implement a function that computes the dot product between two vectors `x` and `y`:"
   ]
  },
  {
   "cell_type": "code",
   "execution_count": 8,
   "metadata": {
    "collapsed": true,
    "deletable": false,
    "nbgrader": {
     "checksum": "90d64d980afbb06177372e7eebfb8468",
     "grade": false,
     "grade_id": "basicvectorg",
     "locked": false,
     "schema_version": 1,
     "solution": true
    }
   },
   "outputs": [],
   "source": [
    "def vector_dot(x, y):\n",
    "    \"\"\"Compute the dot product of vectors a and b.\"\"\"\n",
    "    # YOUR CODE HERE\n",
    "    res = 0\n",
    "    for index in range(len(x)):\n",
    "        res += (x[index] * y[index])\n",
    "    return res"
   ]
  },
  {
   "cell_type": "code",
   "execution_count": 9,
   "metadata": {
    "collapsed": false,
    "deletable": false,
    "editable": false,
    "nbgrader": {
     "checksum": "d9c966e078c5892cd28e7d9603420aef",
     "grade": true,
     "grade_id": "basicvectorh",
     "locked": true,
     "points": 1,
     "schema_version": 1,
     "solution": false
    }
   },
   "outputs": [],
   "source": [
    "assert vector_dot([0,1],[1,0])==0.0\n",
    "assert vector_dot([1,0],[1,0])==1.0\n",
    "assert vector_dot([1,1],[-1,1])==0.0"
   ]
  },
  {
   "cell_type": "markdown",
   "metadata": {},
   "source": [
    "Implement a function that computes the $L_1$ norm of a vector `x`:"
   ]
  },
  {
   "cell_type": "code",
   "execution_count": 10,
   "metadata": {
    "collapsed": false,
    "deletable": false,
    "nbgrader": {
     "checksum": "ec1635942398b01081dc81d2ae09a231",
     "grade": false,
     "grade_id": "basicvectori",
     "locked": false,
     "schema_version": 1,
     "solution": true
    }
   },
   "outputs": [],
   "source": [
    "def L1(x):\n",
    "    \"\"\"Compute the L1 norm of x.\"\"\"\n",
    "    # YOUR CODE HERE\n",
    "    res = 0\n",
    "    for index in x:\n",
    "        res += math.fabs(index)\n",
    "    return res"
   ]
  },
  {
   "cell_type": "code",
   "execution_count": 11,
   "metadata": {
    "collapsed": false,
    "deletable": false,
    "editable": false,
    "nbgrader": {
     "checksum": "eaf824427da994b2b1a2438efd1bbdac",
     "grade": true,
     "grade_id": "basicvectorj",
     "locked": true,
     "points": 1,
     "schema_version": 1,
     "solution": false
    }
   },
   "outputs": [],
   "source": [
    "assert L1([0,0])==0\n",
    "assert L1([1,1])==2"
   ]
  },
  {
   "cell_type": "markdown",
   "metadata": {},
   "source": [
    "Implement a function that computes the $L_2$ norm of a vector `x`:"
   ]
  },
  {
   "cell_type": "code",
   "execution_count": 12,
   "metadata": {
    "collapsed": true,
    "deletable": false,
    "nbgrader": {
     "checksum": "d7f5d545b4de83bcdef962252c375569",
     "grade": false,
     "grade_id": "basicvectork",
     "locked": false,
     "schema_version": 1,
     "solution": true
    }
   },
   "outputs": [],
   "source": [
    "def L2(x):\n",
    "    \"\"\"Compute the L2 norm of x.\"\"\"\n",
    "    # YOUR CODE HERE\n",
    "    res = 0\n",
    "    for index in x:\n",
    "        res += math.pow(math.fabs(index),2)\n",
    "    return math.sqrt(res)"
   ]
  },
  {
   "cell_type": "code",
   "execution_count": 13,
   "metadata": {
    "collapsed": false,
    "deletable": false,
    "editable": false,
    "nbgrader": {
     "checksum": "5f9fc64f2f9a4721488b293fe93ac7d0",
     "grade": true,
     "grade_id": "basicvectorl",
     "locked": true,
     "points": 1,
     "schema_version": 1,
     "solution": false
    }
   },
   "outputs": [],
   "source": [
    "assert L2([0,0])==0\n",
    "assert L2([1,1])==math.sqrt(2)"
   ]
  },
  {
   "cell_type": "markdown",
   "metadata": {},
   "source": [
    "Implement a function that computes the Mean Squared Error (MSE) between two vectors `x` and `y`:"
   ]
  },
  {
   "cell_type": "code",
   "execution_count": 14,
   "metadata": {
    "collapsed": true,
    "deletable": false,
    "nbgrader": {
     "checksum": "3c53586e4f4f8190ccc6e46f09a028d5",
     "grade": false,
     "grade_id": "basicvectorm",
     "locked": false,
     "schema_version": 1,
     "solution": true
    }
   },
   "outputs": [],
   "source": [
    "def mse(x, y):\n",
    "    \"\"\"Compute the mean squared error between x and y.\"\"\"\n",
    "    # YOUR CODE HERE\n",
    "    res = 0\n",
    "    count = 0\n",
    "    for index in range(len(x)):\n",
    "        res += math.pow(math.fabs(x[index] - y[index]), 2)\n",
    "        count += 1\n",
    "    return res / count"
   ]
  },
  {
   "cell_type": "code",
   "execution_count": 15,
   "metadata": {
    "collapsed": false,
    "deletable": false,
    "editable": false,
    "nbgrader": {
     "checksum": "624173bd4670ffaa7814f0a34cda99c0",
     "grade": true,
     "grade_id": "basicvectorn",
     "locked": true,
     "points": 1,
     "schema_version": 1,
     "solution": false
    }
   },
   "outputs": [],
   "source": [
    "assert mse([0,0],[1,1])==1.0\n",
    "assert mse([1,2,3,4],[5,6,7,8])==16.0"
   ]
  },
  {
   "cell_type": "markdown",
   "metadata": {},
   "source": [
    "Implement a function that computes the mean of all the elements of a vector `x`:"
   ]
  },
  {
   "cell_type": "code",
   "execution_count": 16,
   "metadata": {
    "collapsed": false,
    "deletable": false,
    "nbgrader": {
     "checksum": "95be3b0bb22382606db7f6fb4ac13263",
     "grade": false,
     "grade_id": "basicvectoro",
     "locked": false,
     "schema_version": 1,
     "solution": true
    }
   },
   "outputs": [],
   "source": [
    "def mean(x):\n",
    "    \"\"\"Compute the mean of the elements of x.\"\"\"\n",
    "    # YOUR CODE HERE\n",
    "    res = 0\n",
    "    count = 0\n",
    "    for index in x:\n",
    "        res += index\n",
    "        count += 1;\n",
    "    return res/count"
   ]
  },
  {
   "cell_type": "code",
   "execution_count": 17,
   "metadata": {
    "collapsed": false,
    "deletable": false,
    "editable": false,
    "nbgrader": {
     "checksum": "b9c39824676c2988a037e949b70e90d4",
     "grade": true,
     "grade_id": "basicvectorp",
     "locked": true,
     "points": 1,
     "schema_version": 1,
     "solution": false
    }
   },
   "outputs": [],
   "source": [
    "assert mean([1,1,1,1])==1\n",
    "assert mean([1,2,3,4])==2.5"
   ]
  },
  {
   "cell_type": "markdown",
   "metadata": {},
   "source": [
    "Implement a function that computes the variance of the elements of a vector `x`:"
   ]
  },
  {
   "cell_type": "code",
   "execution_count": 18,
   "metadata": {
    "collapsed": false,
    "deletable": false,
    "nbgrader": {
     "checksum": "5cd93b43bd7813cb4a34c91ca785d191",
     "grade": false,
     "grade_id": "basicvectorq",
     "locked": false,
     "schema_version": 1,
     "solution": true
    }
   },
   "outputs": [],
   "source": [
    "def var(x):\n",
    "    \"\"\"Compute the variance of the elements of x.\"\"\"\n",
    "    # YOUR CODE HERE\n",
    "    first_mean = 0\n",
    "    for num in x:\n",
    "        first_mean += num\n",
    "    first_mean = first_mean / len(x)\n",
    "    end_mean = 0\n",
    "    for num in x:\n",
    "        end_mean += pow(num - first_mean, 2)\n",
    "\n",
    "    return end_mean / len(x)"
   ]
  },
  {
   "cell_type": "code",
   "execution_count": 19,
   "metadata": {
    "collapsed": false,
    "deletable": false,
    "editable": false,
    "nbgrader": {
     "checksum": "0e3a1ef8bcadee49386f5cba5eeebe1b",
     "grade": true,
     "grade_id": "basicvectorr",
     "locked": true,
     "points": 1,
     "schema_version": 1,
     "solution": false
    }
   },
   "outputs": [],
   "source": [
    "assert var([1,1,1,1])==0.0\n",
    "assert var([1,2,3,4])==1.25"
   ]
  },
  {
   "cell_type": "markdown",
   "metadata": {},
   "source": [
    "Implement a function that computes the standard deviation of a vector `x`:"
   ]
  },
  {
   "cell_type": "code",
   "execution_count": 20,
   "metadata": {
    "collapsed": true,
    "deletable": false,
    "nbgrader": {
     "checksum": "fd8e6fc913c06f0c264650061b0c356a",
     "grade": false,
     "grade_id": "basicvectors",
     "locked": false,
     "schema_version": 1,
     "solution": true
    }
   },
   "outputs": [],
   "source": [
    "def std(x):\n",
    "    \"\"\"Compute the standard deviation of the elements of x.\"\"\"\n",
    "    # YOUR CODE HERE\n",
    "    first_mean = 0\n",
    "    for num in x:\n",
    "        first_mean += num\n",
    "    first_mean = first_mean / len(x)\n",
    "    end_mean = 0\n",
    "    for num in x:\n",
    "        end_mean += pow(num - first_mean, 2)\n",
    "\n",
    "    return math.sqrt(end_mean / len(x))"
   ]
  },
  {
   "cell_type": "code",
   "execution_count": 21,
   "metadata": {
    "collapsed": false,
    "deletable": false,
    "editable": false,
    "nbgrader": {
     "checksum": "089b6e1de0f75973e081cedb8408e904",
     "grade": true,
     "grade_id": "basicvectort",
     "locked": true,
     "points": 1,
     "schema_version": 1,
     "solution": false
    }
   },
   "outputs": [],
   "source": [
    "assert abs(std([2,4,6,8])-2.23606)<0.0001"
   ]
  },
  {
   "cell_type": "code",
   "execution_count": null,
   "metadata": {
    "collapsed": true
   },
   "outputs": [],
   "source": []
  }
 ],
 "metadata": {
  "kernelspec": {
   "display_name": "Python 3",
   "language": "python",
   "name": "python3"
  },
  "language_info": {
   "codemirror_mode": {
    "name": "ipython",
    "version": 3
   },
   "file_extension": ".py",
   "mimetype": "text/x-python",
   "name": "python",
   "nbconvert_exporter": "python",
   "pygments_lexer": "ipython3",
   "version": "3.5.2"
  }
 },
 "nbformat": 4,
 "nbformat_minor": 1
}
