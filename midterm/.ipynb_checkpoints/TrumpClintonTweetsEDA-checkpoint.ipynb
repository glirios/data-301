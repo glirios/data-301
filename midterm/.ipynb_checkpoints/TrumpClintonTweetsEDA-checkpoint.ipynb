{
 "cells": [
  {
   "cell_type": "markdown",
   "metadata": {},
   "source": [
    "# Trump/Clinton Tweets During the 2016 Election\n",
    "\n",
    "In this notebook you will explore over 6000 Tweets from Donald Trump and Hillary Clinton during the 2016 US presidential election. This dataset comes from Kaggle:\n",
    "\n",
    "https://www.kaggle.com/benhamner/clinton-trump-tweets"
   ]
  },
  {
   "cell_type": "markdown",
   "metadata": {},
   "source": [
    "## Imports"
   ]
  },
  {
   "cell_type": "code",
   "execution_count": 1,
   "metadata": {
    "collapsed": true,
    "deletable": false,
    "editable": false,
    "nbgrader": {
     "checksum": "808f6b57a0e79659c655e44f5b83a9f8",
     "grade": false,
     "grade_id": "clinton-trump-a",
     "locked": true,
     "schema_version": 1,
     "solution": false
    }
   },
   "outputs": [],
   "source": [
    "import numpy as np\n",
    "import pandas as pd\n",
    "from altair import *"
   ]
  },
  {
   "cell_type": "markdown",
   "metadata": {},
   "source": [
    "## Introduction to spaCy\n",
    "\n",
    "The [spaCy]() package is a modern, high-performance natural language processing (NLP) library for Python. Let's look at how spaCy can be used for basic NLP tasks, such as tokenization. First import spaCy and load its english lanuage data:"
   ]
  },
  {
   "cell_type": "code",
   "execution_count": 2,
   "metadata": {
    "collapsed": false,
    "deletable": false,
    "editable": false,
    "nbgrader": {
     "checksum": "7584b88f4f39afbdcc642a0a5b7e7cd5",
     "grade": false,
     "grade_id": "clinton-trump-b",
     "locked": true,
     "schema_version": 1,
     "solution": false
    }
   },
   "outputs": [],
   "source": [
    "from spacy.util import set_data_path\n",
    "import spacy"
   ]
  },
  {
   "cell_type": "code",
   "execution_count": 3,
   "metadata": {
    "collapsed": false,
    "deletable": false,
    "editable": false,
    "nbgrader": {
     "checksum": "fda775df445240f3fbe7484ef16304b8",
     "grade": false,
     "grade_id": "clinton-trump-c",
     "locked": true,
     "schema_version": 1,
     "solution": false
    }
   },
   "outputs": [],
   "source": [
    "set_data_path('/data/spacy')"
   ]
  },
  {
   "cell_type": "code",
   "execution_count": 4,
   "metadata": {
    "collapsed": true,
    "deletable": false,
    "editable": false,
    "nbgrader": {
     "checksum": "46f4163e9ed1caba703909f7d73f918a",
     "grade": false,
     "grade_id": "clinton-trump-d",
     "locked": true,
     "schema_version": 1,
     "solution": false
    }
   },
   "outputs": [],
   "source": [
    "nlp = spacy.load('en')"
   ]
  },
  {
   "cell_type": "markdown",
   "metadata": {},
   "source": [
    "The `nlp` object is a function that provides the main API for working with text. Call it with the text as the argument:"
   ]
  },
  {
   "cell_type": "code",
   "execution_count": 5,
   "metadata": {
    "collapsed": true,
    "deletable": false,
    "editable": false,
    "nbgrader": {
     "checksum": "c9297ba0c2f22f1d42f412784a83b9a7",
     "grade": false,
     "grade_id": "clinton-trump-e",
     "locked": true,
     "schema_version": 1,
     "solution": false
    }
   },
   "outputs": [],
   "source": [
    "doc = nlp(u'Hello, world.\\n Here are two sentences.')"
   ]
  },
  {
   "cell_type": "code",
   "execution_count": 6,
   "metadata": {
    "collapsed": false,
    "deletable": false,
    "editable": false,
    "nbgrader": {
     "checksum": "40cb0fdbb7d4de1ffe9101ae5e24165a",
     "grade": false,
     "grade_id": "clinton-trump-f",
     "locked": true,
     "schema_version": 1,
     "solution": false
    }
   },
   "outputs": [
    {
     "data": {
      "text/plain": [
       "spacy.tokens.doc.Doc"
      ]
     },
     "execution_count": 6,
     "metadata": {},
     "output_type": "execute_result"
    }
   ],
   "source": [
    "type(doc)"
   ]
  },
  {
   "cell_type": "markdown",
   "metadata": {},
   "source": [
    "The resulting `Doc` object has a rich API for working with the text. You can iterate over the tokens in the document:"
   ]
  },
  {
   "cell_type": "code",
   "execution_count": 7,
   "metadata": {
    "collapsed": false,
    "deletable": false,
    "editable": false,
    "nbgrader": {
     "checksum": "2000f6da97a0f48e0fe4f23b718853e5",
     "grade": false,
     "grade_id": "clinton-trump-g",
     "locked": true,
     "schema_version": 1,
     "solution": false
    }
   },
   "outputs": [
    {
     "name": "stdout",
     "output_type": "stream",
     "text": [
      "Token: 'Hello'\n",
      "Token: ','\n",
      "Token: 'world'\n",
      "Token: '.'\n",
      "Token: '\\n '\n",
      "Token: 'Here'\n",
      "Token: 'are'\n",
      "Token: 'two'\n",
      "Token: 'sentences'\n",
      "Token: '.'\n"
     ]
    }
   ],
   "source": [
    "for token in doc:\n",
    "    print('Token: {}'.format(repr(token.text)))"
   ]
  },
  {
   "cell_type": "markdown",
   "metadata": {},
   "source": [
    "The tokens themselves are rich objects. Let's grab the first token from this text and look at it further:"
   ]
  },
  {
   "cell_type": "code",
   "execution_count": 8,
   "metadata": {
    "collapsed": true,
    "deletable": false,
    "editable": false,
    "nbgrader": {
     "checksum": "bc4ed7a87bac9073b269d2383e410e5f",
     "grade": false,
     "grade_id": "clinton-trump-h",
     "locked": true,
     "schema_version": 1,
     "solution": false
    }
   },
   "outputs": [],
   "source": [
    "token = doc[0]"
   ]
  },
  {
   "cell_type": "markdown",
   "metadata": {},
   "source": [
    "The `is_punct` attribute tells if the token is punctuation:"
   ]
  },
  {
   "cell_type": "code",
   "execution_count": 9,
   "metadata": {
    "collapsed": false,
    "deletable": false,
    "editable": false,
    "nbgrader": {
     "checksum": "aba6fb65ef6464684ca168ce3d8601ac",
     "grade": false,
     "grade_id": "clinton-trump-i",
     "locked": true,
     "schema_version": 1,
     "solution": false
    }
   },
   "outputs": [
    {
     "data": {
      "text/plain": [
       "False"
      ]
     },
     "execution_count": 9,
     "metadata": {},
     "output_type": "execute_result"
    }
   ],
   "source": [
    "token.is_punct"
   ]
  },
  {
   "cell_type": "markdown",
   "metadata": {},
   "source": [
    "The `is_stop` attribute tells if the token is a stop (common) word:"
   ]
  },
  {
   "cell_type": "code",
   "execution_count": 10,
   "metadata": {
    "collapsed": false,
    "deletable": false,
    "editable": false,
    "nbgrader": {
     "checksum": "ac09ede8c6116817e7e5cd40149ebd8c",
     "grade": false,
     "grade_id": "clinton-trump-j",
     "locked": true,
     "schema_version": 1,
     "solution": false
    }
   },
   "outputs": [
    {
     "data": {
      "text/plain": [
       "False"
      ]
     },
     "execution_count": 10,
     "metadata": {},
     "output_type": "execute_result"
    }
   ],
   "source": [
    "token.is_stop"
   ]
  },
  {
   "cell_type": "markdown",
   "metadata": {},
   "source": [
    "The `is_space` attribute tells if the token is a space (`' '`,`\\n`,`\\t`):"
   ]
  },
  {
   "cell_type": "code",
   "execution_count": 11,
   "metadata": {
    "collapsed": false,
    "deletable": false,
    "editable": false,
    "nbgrader": {
     "checksum": "0b8de82dc036c2a568f827060ec3848f",
     "grade": false,
     "grade_id": "clinton-trump-k",
     "locked": true,
     "schema_version": 1,
     "solution": false
    }
   },
   "outputs": [
    {
     "data": {
      "text/plain": [
       "False"
      ]
     },
     "execution_count": 11,
     "metadata": {},
     "output_type": "execute_result"
    }
   ],
   "source": [
    "token.is_space"
   ]
  },
  {
   "cell_type": "markdown",
   "metadata": {},
   "source": [
    "## Tokenization, stop words, punctuation\n",
    "\n",
    "Write a function, `yield_words`, that uses spaCy to tokenize a string of text, yielding the resulting words. Your function should remove punctuation, stop words and any URLs using spaCy's token attributes:"
   ]
  },
  {
   "cell_type": "code",
   "execution_count": null,
   "metadata": {
    "collapsed": false,
    "deletable": false,
    "nbgrader": {
     "checksum": "3cca9585dc5424ce03ff1ddafd6f47b6",
     "grade": false,
     "grade_id": "clinton-trump-l",
     "locked": false,
     "schema_version": 1,
     "solution": true
    }
   },
   "outputs": [],
   "source": [
    "def yield_words(text):\n",
    "    \"\"\"Yield all words in text other than stop words, punctuation or URLs.\"\"\"\n",
    "    # YOUR CODE HERE\n",
    "    raise NotImplementedError()"
   ]
  },
  {
   "cell_type": "code",
   "execution_count": null,
   "metadata": {
    "collapsed": false,
    "deletable": false,
    "editable": false,
    "nbgrader": {
     "checksum": "4420e5c6e979489b126eaf5ff275735f",
     "grade": true,
     "grade_id": "clinton-trump-m",
     "locked": true,
     "points": 2,
     "schema_version": 1,
     "solution": false
    }
   },
   "outputs": [],
   "source": [
    "assert list(yield_words(u'Hello, world.\\n Here are two https://google.com sentences.'))==\\\n",
    "       ['hello', 'world', 'sentences']"
   ]
  },
  {
   "cell_type": "markdown",
   "metadata": {},
   "source": [
    "## Counting words\n",
    "\n",
    "Now that we can generate a list of words, let's count the number of times each word appears. Write a Python function that takes an iterator over words and returns a `dict` of word counts. The keys in the `dicts` should be the words and the values should be the counts. Your function should optionally take a `counts` keyword argument that will let you pass in an existing word count `dict` to which additional counts can be appended."
   ]
  },
  {
   "cell_type": "code",
   "execution_count": null,
   "metadata": {
    "collapsed": true,
    "deletable": false,
    "nbgrader": {
     "checksum": "4fe98f0dcb5b37a2235c8ce6fe3706b6",
     "grade": false,
     "grade_id": "clinton-trump-n",
     "locked": false,
     "schema_version": 1,
     "solution": true
    }
   },
   "outputs": [],
   "source": [
    "def count_words(words, counts=None):\n",
    "    \"\"\"Return a dictionary with the word counts for the input iterator of words.\n",
    "    \n",
    "    If `counts` is None, create and return a new count `dict`.\n",
    "    If `counts` is a `dict` append new counts to it.\n",
    "    \"\"\"\n",
    "    # YOUR CODE HERE\n",
    "    raise NotImplementedError()"
   ]
  },
  {
   "cell_type": "code",
   "execution_count": null,
   "metadata": {
    "collapsed": true,
    "deletable": false,
    "editable": false,
    "nbgrader": {
     "checksum": "e78a7ffd3302a0f190760723a374ccac",
     "grade": true,
     "grade_id": "clinton-trump-o",
     "locked": true,
     "points": 2,
     "schema_version": 1,
     "solution": false
    }
   },
   "outputs": [],
   "source": [
    "text = \"\"\"\n",
    "On another day of chaotic developments over the week-old order, the State Department reversed its cancellation of visas for people from the affected countries, small numbers of travelers began venturing to airports to try to fly to the United States, and Mr. Trump mounted a harsh personal attack on the judge.\n",
    "In an early-morning Twitter post from his waterfront Florida resort, where he is spending the first getaway weekend of his presidency, Mr. Trump wrote, “The opinion of this so-called judge, which essentially takes law-enforcement away from our country, is ridiculous and will be overturned!”\n",
    "\"\"\"\n",
    "counts = count_words(yield_words(text))\n",
    "assert counts =={'affected': 1, 'airports': 1, 'attack': 1, 'away': 1, 'began': 1, 'called': 1,\n",
    "                 'cancellation': 1, 'chaotic': 1, 'countries': 1, 'country': 1, 'day': 1, 'department': 1,\n",
    "                 'developments': 1, 'early': 1, 'enforcement': 1, 'essentially': 1, 'florida': 1, 'fly': 1,\n",
    "                 'getaway': 1, 'harsh': 1, 'judge': 2, 'law': 1, 'morning': 1, 'mounted': 1, 'mr.': 2,\n",
    "                 'numbers': 1, 'old': 1, 'opinion': 1, 'order': 1, 'overturned': 1, 'people': 1,\n",
    "                 'personal': 1, 'post': 1, 'presidency': 1, 'resort': 1, 'reversed': 1, 'ridiculous': 1,\n",
    "                 'small': 1, 'spending': 1, 'state': 1, 'states': 1, 'takes': 1, 'travelers': 1, 'trump': 2,\n",
    "                 'try': 1, 'twitter': 1, 'united': 1, 'venturing': 1, 'visas': 1, 'waterfront': 1, 'week': 1,\n",
    "                 'weekend': 1,\n",
    "                 'wrote': 1}"
   ]
  },
  {
   "cell_type": "code",
   "execution_count": null,
   "metadata": {
    "collapsed": false,
    "deletable": false,
    "editable": false,
    "nbgrader": {
     "checksum": "667eeba0edc5db1b12fb52ca97d498f6",
     "grade": true,
     "grade_id": "clinton-trump-p",
     "locked": true,
     "points": 2,
     "schema_version": 1,
     "solution": false
    }
   },
   "outputs": [],
   "source": [
    "counts1 = {}\n",
    "for i in range(10):\n",
    "    count_words(['the'], counts1)\n",
    "assert counts1['the']==10"
   ]
  },
  {
   "cell_type": "markdown",
   "metadata": {},
   "source": [
    "## Trump and Clinton Tweets"
   ]
  },
  {
   "cell_type": "markdown",
   "metadata": {},
   "source": [
    "Now let's explore the Trump and Clinton tweets. First, load it as a `DataFrame`:"
   ]
  },
  {
   "cell_type": "code",
   "execution_count": null,
   "metadata": {
    "collapsed": true,
    "deletable": false,
    "editable": false,
    "nbgrader": {
     "checksum": "b9ef84e7fe97ce46d9f3598a34934479",
     "grade": false,
     "grade_id": "clinton-trump-q",
     "locked": true,
     "schema_version": 1,
     "solution": false
    }
   },
   "outputs": [],
   "source": [
    "data = pd.read_csv('/data/clinton-trump-tweets/tweets.csv')"
   ]
  },
  {
   "cell_type": "code",
   "execution_count": null,
   "metadata": {
    "collapsed": false,
    "deletable": false,
    "editable": false,
    "nbgrader": {
     "checksum": "63d84550d79c39e875ebf6eabcabef7f",
     "grade": false,
     "grade_id": "clinton-trump-r",
     "locked": true,
     "schema_version": 1,
     "solution": false
    }
   },
   "outputs": [],
   "source": [
    "data.head()"
   ]
  },
  {
   "cell_type": "code",
   "execution_count": null,
   "metadata": {
    "collapsed": false,
    "deletable": false,
    "editable": false,
    "nbgrader": {
     "checksum": "68739b9d0834056b1d497e83dbbb1672",
     "grade": false,
     "grade_id": "clinton-trump-s",
     "locked": true,
     "schema_version": 1,
     "solution": false
    }
   },
   "outputs": [],
   "source": [
    "len(data)"
   ]
  },
  {
   "cell_type": "markdown",
   "metadata": {},
   "source": [
    "Extract the following columns (`handle`, `text`, `time`, `retweet_count`, `favorite_count`) alone into a new `DataFrame`, named `data1`:"
   ]
  },
  {
   "cell_type": "code",
   "execution_count": null,
   "metadata": {
    "collapsed": true,
    "deletable": false,
    "nbgrader": {
     "checksum": "7d0b00a496b3a0f45bd5b9d1b69fc6f2",
     "grade": false,
     "grade_id": "clinton-trump-t",
     "locked": false,
     "schema_version": 1,
     "solution": true
    }
   },
   "outputs": [],
   "source": [
    "# YOUR CODE HERE\n",
    "raise NotImplementedError()"
   ]
  },
  {
   "cell_type": "code",
   "execution_count": null,
   "metadata": {
    "collapsed": false,
    "deletable": false,
    "editable": false,
    "nbgrader": {
     "checksum": "fb22f506cfed2105f66b5d4ec85eda7b",
     "grade": false,
     "grade_id": "clinton-trump-u",
     "locked": true,
     "schema_version": 1,
     "solution": false
    }
   },
   "outputs": [],
   "source": [
    "data1.head()"
   ]
  },
  {
   "cell_type": "code",
   "execution_count": null,
   "metadata": {
    "collapsed": true,
    "deletable": false,
    "editable": false,
    "nbgrader": {
     "checksum": "4a08ad8cbc514115deeb3f36351cd464",
     "grade": true,
     "grade_id": "clinton-trump-v",
     "locked": true,
     "points": 2,
     "schema_version": 1,
     "solution": false
    }
   },
   "outputs": [],
   "source": [
    "assert list(data1.columns)==['handle', 'text', 'time', 'retweet_count', 'favorite_count']\n",
    "assert len(data1)==6444"
   ]
  },
  {
   "cell_type": "markdown",
   "metadata": {},
   "source": [
    "## Initial visualizations"
   ]
  },
  {
   "cell_type": "markdown",
   "metadata": {},
   "source": [
    "Create a 2d scatter plot using:\n",
    "\n",
    "* `retweet_count` for x.\n",
    "* `favorite_count` for y.\n",
    "* `handle` for color.\n",
    "* A log scale for both x and y."
   ]
  },
  {
   "cell_type": "code",
   "execution_count": null,
   "metadata": {
    "collapsed": false,
    "deletable": false,
    "nbgrader": {
     "checksum": "147146c2756e56b99d947f5f60e432ec",
     "grade": true,
     "grade_id": "clinton-trump-w",
     "locked": false,
     "points": 2,
     "schema_version": 1,
     "solution": true
    }
   },
   "outputs": [],
   "source": [
    "# YOUR CODE HERE\n",
    "raise NotImplementedError()"
   ]
  },
  {
   "cell_type": "markdown",
   "metadata": {},
   "source": [
    "Create a line chart to show  the average `favorite_count` for each candidate over time. Use a time unit of years+months and encode the candidate as color:"
   ]
  },
  {
   "cell_type": "code",
   "execution_count": null,
   "metadata": {
    "collapsed": false,
    "deletable": false,
    "nbgrader": {
     "checksum": "34d999d1373a54cb82cd9924b2f200d4",
     "grade": true,
     "grade_id": "clinton-trump-x",
     "locked": false,
     "points": 2,
     "schema_version": 1,
     "solution": true
    }
   },
   "outputs": [],
   "source": [
    "# YOUR CODE HERE\n",
    "raise NotImplementedError()"
   ]
  },
  {
   "cell_type": "markdown",
   "metadata": {},
   "source": [
    "## Word counting"
   ]
  },
  {
   "cell_type": "markdown",
   "metadata": {},
   "source": [
    "Now run a word count on all of Trump's tweets using the `data1` `DataFrame`. Save the resulting word count `dict` in a variable named `trump_counts`:"
   ]
  },
  {
   "cell_type": "code",
   "execution_count": null,
   "metadata": {
    "collapsed": false,
    "deletable": false,
    "nbgrader": {
     "checksum": "e9a8ed5030c1553b91aab723f985b1f0",
     "grade": false,
     "grade_id": "clinton-trump-y",
     "locked": false,
     "schema_version": 1,
     "solution": true
    }
   },
   "outputs": [],
   "source": [
    "# YOUR CODE HERE\n",
    "raise NotImplementedError()"
   ]
  },
  {
   "cell_type": "code",
   "execution_count": null,
   "metadata": {
    "collapsed": true,
    "deletable": false,
    "editable": false,
    "nbgrader": {
     "checksum": "7a57d3a2027c74249f41921ed648ec4b",
     "grade": true,
     "grade_id": "clinton-trump-z",
     "locked": true,
     "points": 2,
     "schema_version": 1,
     "solution": false
    }
   },
   "outputs": [],
   "source": [
    "assert type(trump_counts)==dict\n",
    "assert len(trump_counts)>5000"
   ]
  },
  {
   "cell_type": "markdown",
   "metadata": {},
   "source": [
    "Do the same for Clinton's tweets, saving the word counts in a variable named `clinton_counts`:"
   ]
  },
  {
   "cell_type": "code",
   "execution_count": null,
   "metadata": {
    "collapsed": false,
    "deletable": false,
    "nbgrader": {
     "checksum": "82b4ade78fd635c7073f1d24a3251a5d",
     "grade": false,
     "grade_id": "clinton-trump-aa",
     "locked": false,
     "schema_version": 1,
     "solution": true
    }
   },
   "outputs": [],
   "source": [
    "# YOUR CODE HERE\n",
    "raise NotImplementedError()"
   ]
  },
  {
   "cell_type": "code",
   "execution_count": null,
   "metadata": {
    "collapsed": false,
    "deletable": false,
    "editable": false,
    "nbgrader": {
     "checksum": "f15dbbcff18d7670ccae9e18bc48bb90",
     "grade": true,
     "grade_id": "clinton-trump-bb",
     "locked": true,
     "points": 2,
     "schema_version": 1,
     "solution": false
    }
   },
   "outputs": [],
   "source": [
    "assert type(clinton_counts)==dict\n",
    "assert len(clinton_counts)>5000"
   ]
  },
  {
   "cell_type": "markdown",
   "metadata": {},
   "source": [
    "## Counts as DataFrames"
   ]
  },
  {
   "cell_type": "markdown",
   "metadata": {},
   "source": [
    "Let's convert the word count `dict`s to `DataFrame`s. Create two `DataFrames`, one for Trump (`trump_df`) and one for Clinton (`clinton_df`). In each `DataFrame` put the words in the first column and the `count` in the second. First create the `DataFrame` for Trump. Sort the rows by count with the largest count at the top:"
   ]
  },
  {
   "cell_type": "code",
   "execution_count": null,
   "metadata": {
    "collapsed": true,
    "deletable": false,
    "nbgrader": {
     "checksum": "0f6bac6a9c4ba186ea81450a82ba6cfc",
     "grade": false,
     "grade_id": "clinton-trump-cc",
     "locked": false,
     "schema_version": 1,
     "solution": true
    }
   },
   "outputs": [],
   "source": [
    "# YOUR CODE HERE\n",
    "raise NotImplementedError()"
   ]
  },
  {
   "cell_type": "code",
   "execution_count": null,
   "metadata": {
    "collapsed": false,
    "deletable": false,
    "editable": false,
    "nbgrader": {
     "checksum": "f1f680d2e64b364fbdcef5296bb257cc",
     "grade": false,
     "grade_id": "clinton-trump-dd",
     "locked": true,
     "schema_version": 1,
     "solution": false
    }
   },
   "outputs": [],
   "source": [
    "trump_df.head()"
   ]
  },
  {
   "cell_type": "code",
   "execution_count": null,
   "metadata": {
    "collapsed": false,
    "deletable": false,
    "editable": false,
    "nbgrader": {
     "checksum": "fe90353b732c8b275df3c06e2b618944",
     "grade": false,
     "grade_id": "clinton-trump-ee",
     "locked": true,
     "schema_version": 1,
     "solution": false
    }
   },
   "outputs": [],
   "source": [
    "len(trump_df)"
   ]
  },
  {
   "cell_type": "code",
   "execution_count": null,
   "metadata": {
    "collapsed": false,
    "deletable": false,
    "editable": false,
    "nbgrader": {
     "checksum": "0b71071df083fcd01e4ded0f17c007ab",
     "grade": true,
     "grade_id": "clinton-trump-ff",
     "locked": true,
     "points": 2,
     "schema_version": 1,
     "solution": false
    }
   },
   "outputs": [],
   "source": [
    "assert list(trump_df.columns)==['word', 'count']\n",
    "assert trump_df.word.dtype.name=='object'\n",
    "assert trump_df['count'].dtype.name=='int64'\n",
    "assert trump_df.iloc[0,1]==522\n",
    "assert trump_df.iloc[0,0]=='thank'"
   ]
  },
  {
   "cell_type": "markdown",
   "metadata": {},
   "source": [
    "Now create the `DataFrame` for Clinton, sorting the rows in the same manner:"
   ]
  },
  {
   "cell_type": "code",
   "execution_count": null,
   "metadata": {
    "collapsed": true,
    "deletable": false,
    "nbgrader": {
     "checksum": "5643b7aa13272dad86dffd51f8802bfa",
     "grade": false,
     "grade_id": "clinton-trump-gg",
     "locked": false,
     "schema_version": 1,
     "solution": true
    }
   },
   "outputs": [],
   "source": [
    "# YOUR CODE HERE\n",
    "raise NotImplementedError()"
   ]
  },
  {
   "cell_type": "code",
   "execution_count": null,
   "metadata": {
    "collapsed": false,
    "deletable": false,
    "editable": false,
    "nbgrader": {
     "checksum": "bdfdbebccebe2f01fadd610697c2e57f",
     "grade": false,
     "grade_id": "clinton-trump-hh",
     "locked": true,
     "schema_version": 1,
     "solution": false
    }
   },
   "outputs": [],
   "source": [
    "clinton_df.head()"
   ]
  },
  {
   "cell_type": "code",
   "execution_count": null,
   "metadata": {
    "collapsed": false,
    "deletable": false,
    "editable": false,
    "nbgrader": {
     "checksum": "90f7129a96702c60a2579c109b5302bb",
     "grade": false,
     "grade_id": "clinton-trump-ii",
     "locked": true,
     "schema_version": 1,
     "solution": false
    }
   },
   "outputs": [],
   "source": [
    "len(clinton_df)"
   ]
  },
  {
   "cell_type": "code",
   "execution_count": null,
   "metadata": {
    "collapsed": false,
    "deletable": false,
    "editable": false,
    "nbgrader": {
     "checksum": "799491158e2923562fcf6316d4fc03aa",
     "grade": true,
     "grade_id": "clinton-trump-jj",
     "locked": true,
     "points": 2,
     "schema_version": 1,
     "solution": false
    }
   },
   "outputs": [],
   "source": [
    "assert list(clinton_df.columns)==['word', 'count']\n",
    "assert clinton_df.word.dtype.name=='object'\n",
    "assert clinton_df['count'].dtype.name=='int64'\n",
    "assert clinton_df.iloc[0,1]==916\n",
    "assert clinton_df.iloc[0,0]=='trump'"
   ]
  },
  {
   "cell_type": "markdown",
   "metadata": {},
   "source": [
    "## Visualizing counts"
   ]
  },
  {
   "cell_type": "markdown",
   "metadata": {},
   "source": [
    "Use the `trump_df` `DataFrame` to visualize the counts of the top 20 words using:\n",
    "\n",
    "* 'count` for x;\n",
    "* `word` for y; and\n",
    "* Bar marks"
   ]
  },
  {
   "cell_type": "code",
   "execution_count": null,
   "metadata": {
    "collapsed": false,
    "deletable": false,
    "nbgrader": {
     "checksum": "f81aad1a4b1c2fad44ffe9f1d84ca312",
     "grade": true,
     "grade_id": "clinton-trump-kk",
     "locked": false,
     "points": 2,
     "schema_version": 1,
     "solution": true
    }
   },
   "outputs": [],
   "source": [
    "# YOUR CODE HERE\n",
    "raise NotImplementedError()"
   ]
  },
  {
   "cell_type": "markdown",
   "metadata": {},
   "source": [
    "Use the `clinton_df` `DataFrame` to visualize the counts of the top 20 words using:\n",
    "\n",
    "* 'count` for x;\n",
    "* `word` for y; and\n",
    "* Bar marks"
   ]
  },
  {
   "cell_type": "code",
   "execution_count": null,
   "metadata": {
    "collapsed": false,
    "deletable": false,
    "nbgrader": {
     "checksum": "b8289a27af417548f803de655b583765",
     "grade": true,
     "grade_id": "clinton-trump-ll",
     "locked": false,
     "points": 2,
     "schema_version": 1,
     "solution": true
    }
   },
   "outputs": [],
   "source": [
    "# YOUR CODE HERE\n",
    "raise NotImplementedError()"
   ]
  }
 ],
 "metadata": {
  "kernelspec": {
   "display_name": "Python 3",
   "language": "python",
   "name": "python3"
  },
  "language_info": {
   "codemirror_mode": {
    "name": "ipython",
    "version": 3
   },
   "file_extension": ".py",
   "mimetype": "text/x-python",
   "name": "python",
   "nbconvert_exporter": "python",
   "pygments_lexer": "ipython3",
   "version": "3.5.2"
  }
 },
 "nbformat": 4,
 "nbformat_minor": 2
}
