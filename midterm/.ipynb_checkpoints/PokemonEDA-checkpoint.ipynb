{
 "cells": [
  {
   "cell_type": "markdown",
   "metadata": {},
   "source": [
    "# Pokemon"
   ]
  },
  {
   "cell_type": "markdown",
   "metadata": {},
   "source": [
    "In this dataset you will explore data related to [Pokemon](https://en.wikipedia.org/wiki/Pok%C3%A9mon). This dataset is from Kaggle:\n",
    "\n",
    "https://www.kaggle.com/abcsds/pokemon\n",
    "\n",
    "Before getting started, it is recommended that you read a bit about Pokemon and the variables in this dataset in the links above."
   ]
  },
  {
   "cell_type": "markdown",
   "metadata": {},
   "source": [
    "## Imports"
   ]
  },
  {
   "cell_type": "code",
   "execution_count": 1,
   "metadata": {
    "collapsed": true,
    "deletable": false,
    "editable": false,
    "nbgrader": {
     "checksum": "c5b044fd6e4255d38bc721563b8eafe9",
     "grade": false,
     "grade_id": "pokemon-a",
     "locked": true,
     "schema_version": 1,
     "solution": false
    }
   },
   "outputs": [],
   "source": [
    "import numpy as np\n",
    "import pandas as pd\n",
    "from altair import *"
   ]
  },
  {
   "cell_type": "markdown",
   "metadata": {},
   "source": [
    "## Data"
   ]
  },
  {
   "cell_type": "markdown",
   "metadata": {},
   "source": [
    "Let's import that dataset as a `DataFrame`:"
   ]
  },
  {
   "cell_type": "code",
   "execution_count": 7,
   "metadata": {
    "collapsed": true,
    "deletable": false,
    "editable": false,
    "nbgrader": {
     "checksum": "5766a5d32d9a99720404467b0ff0fb46",
     "grade": false,
     "grade_id": "pokemon-b",
     "locked": true,
     "schema_version": 1,
     "solution": false
    }
   },
   "outputs": [],
   "source": [
    "data = pd.read_csv('/data/pokemon/Pokemon.csv')"
   ]
  },
  {
   "cell_type": "code",
   "execution_count": 8,
   "metadata": {
    "collapsed": false,
    "deletable": false,
    "editable": false,
    "nbgrader": {
     "checksum": "b96de5b55b0adeb269dc7c22224f297d",
     "grade": false,
     "grade_id": "pokemon-c",
     "locked": true,
     "schema_version": 1,
     "solution": false
    }
   },
   "outputs": [
    {
     "data": {
      "text/html": [
       "<div>\n",
       "<table border=\"1\" class=\"dataframe\">\n",
       "  <thead>\n",
       "    <tr style=\"text-align: right;\">\n",
       "      <th></th>\n",
       "      <th>#</th>\n",
       "      <th>Name</th>\n",
       "      <th>Type 1</th>\n",
       "      <th>Type 2</th>\n",
       "      <th>Total</th>\n",
       "      <th>HP</th>\n",
       "      <th>Attack</th>\n",
       "      <th>Defense</th>\n",
       "      <th>Sp. Atk</th>\n",
       "      <th>Sp. Def</th>\n",
       "      <th>Speed</th>\n",
       "      <th>Generation</th>\n",
       "      <th>Legendary</th>\n",
       "    </tr>\n",
       "  </thead>\n",
       "  <tbody>\n",
       "    <tr>\n",
       "      <th>0</th>\n",
       "      <td>1</td>\n",
       "      <td>Bulbasaur</td>\n",
       "      <td>Grass</td>\n",
       "      <td>Poison</td>\n",
       "      <td>318</td>\n",
       "      <td>45</td>\n",
       "      <td>49</td>\n",
       "      <td>49</td>\n",
       "      <td>65</td>\n",
       "      <td>65</td>\n",
       "      <td>45</td>\n",
       "      <td>1</td>\n",
       "      <td>False</td>\n",
       "    </tr>\n",
       "    <tr>\n",
       "      <th>1</th>\n",
       "      <td>2</td>\n",
       "      <td>Ivysaur</td>\n",
       "      <td>Grass</td>\n",
       "      <td>Poison</td>\n",
       "      <td>405</td>\n",
       "      <td>60</td>\n",
       "      <td>62</td>\n",
       "      <td>63</td>\n",
       "      <td>80</td>\n",
       "      <td>80</td>\n",
       "      <td>60</td>\n",
       "      <td>1</td>\n",
       "      <td>False</td>\n",
       "    </tr>\n",
       "    <tr>\n",
       "      <th>2</th>\n",
       "      <td>3</td>\n",
       "      <td>Venusaur</td>\n",
       "      <td>Grass</td>\n",
       "      <td>Poison</td>\n",
       "      <td>525</td>\n",
       "      <td>80</td>\n",
       "      <td>82</td>\n",
       "      <td>83</td>\n",
       "      <td>100</td>\n",
       "      <td>100</td>\n",
       "      <td>80</td>\n",
       "      <td>1</td>\n",
       "      <td>False</td>\n",
       "    </tr>\n",
       "    <tr>\n",
       "      <th>3</th>\n",
       "      <td>3</td>\n",
       "      <td>VenusaurMega Venusaur</td>\n",
       "      <td>Grass</td>\n",
       "      <td>Poison</td>\n",
       "      <td>625</td>\n",
       "      <td>80</td>\n",
       "      <td>100</td>\n",
       "      <td>123</td>\n",
       "      <td>122</td>\n",
       "      <td>120</td>\n",
       "      <td>80</td>\n",
       "      <td>1</td>\n",
       "      <td>False</td>\n",
       "    </tr>\n",
       "    <tr>\n",
       "      <th>4</th>\n",
       "      <td>4</td>\n",
       "      <td>Charmander</td>\n",
       "      <td>Fire</td>\n",
       "      <td>NaN</td>\n",
       "      <td>309</td>\n",
       "      <td>39</td>\n",
       "      <td>52</td>\n",
       "      <td>43</td>\n",
       "      <td>60</td>\n",
       "      <td>50</td>\n",
       "      <td>65</td>\n",
       "      <td>1</td>\n",
       "      <td>False</td>\n",
       "    </tr>\n",
       "  </tbody>\n",
       "</table>\n",
       "</div>"
      ],
      "text/plain": [
       "   #                   Name Type 1  Type 2  Total  HP  Attack  Defense  \\\n",
       "0  1              Bulbasaur  Grass  Poison    318  45      49       49   \n",
       "1  2                Ivysaur  Grass  Poison    405  60      62       63   \n",
       "2  3               Venusaur  Grass  Poison    525  80      82       83   \n",
       "3  3  VenusaurMega Venusaur  Grass  Poison    625  80     100      123   \n",
       "4  4             Charmander   Fire     NaN    309  39      52       43   \n",
       "\n",
       "   Sp. Atk  Sp. Def  Speed  Generation Legendary  \n",
       "0       65       65     45           1     False  \n",
       "1       80       80     60           1     False  \n",
       "2      100      100     80           1     False  \n",
       "3      122      120     80           1     False  \n",
       "4       60       50     65           1     False  "
      ]
     },
     "execution_count": 8,
     "metadata": {},
     "output_type": "execute_result"
    }
   ],
   "source": [
    "data.head()"
   ]
  },
  {
   "cell_type": "markdown",
   "metadata": {},
   "source": [
    "## Exploratory data analysis"
   ]
  },
  {
   "cell_type": "markdown",
   "metadata": {},
   "source": [
    "Your task is to explore this dataset using the tools we have learning in the class. The format is centered around questions. For each of the two sections, you should have the following:\n",
    "\n",
    "1. Start with a question. It is likely that your question will evolve as you explore the dataset. You should put your question in its own markdown cell at the beginning of the section.\n",
    "2. Perform transformations and visualizations to explore the question. You can create as many code cell as you need to explore the dataset.\n",
    "3. Answer the question based on your explorations. This should be done in a Markdown cell after the code.\n",
    "\n",
    "Your work will be graded using the following criteria:\n",
    "\n",
    "* The complexity and significance of your question.\n",
    "* How effectively your code explores and answers the question.\n",
    "* The complexity of the transformations/visualizations performed to answer the question. It should be complex enough to be interesting and answer a significant question, but not overly complex.\n",
    "* The effectiveness of visualizations you perform, including using appropriate visual encodings.\n",
    "* How well you answer the question after exploring the data with code."
   ]
  },
  {
   "cell_type": "markdown",
   "metadata": {},
   "source": [
    "## Question 1"
   ]
  },
  {
   "cell_type": "markdown",
   "metadata": {
    "deletable": false,
    "editable": false,
    "nbgrader": {
     "checksum": "d0ded0cee7c2968c39fcb165ae26259a",
     "grade": false,
     "grade_id": "pokemon-d",
     "locked": true,
     "schema_version": 1,
     "solution": false
    }
   },
   "source": [
    "Create as many cells as you need below this one to explore propose, explore and answer your first question."
   ]
  },
  {
   "cell_type": "markdown",
   "metadata": {},
   "source": [
    "What type of legendary pokemon with a singel type is the most common?"
   ]
  },
  {
   "cell_type": "code",
   "execution_count": 37,
   "metadata": {
    "collapsed": false
   },
   "outputs": [
    {
     "data": {
      "text/plain": [
       "40"
      ]
     },
     "execution_count": 37,
     "metadata": {},
     "output_type": "execute_result"
    }
   ],
   "source": [
    "pokie = data.dropna()\n",
    "pokie = pokie[pokie['Legendary'] == True]"
   ]
  },
  {
   "cell_type": "code",
   "execution_count": 39,
   "metadata": {
    "collapsed": false
   },
   "outputs": [
    {
     "data": {
      "text/html": [
       "<div class=\"vega-embed\" id=\"ef3f0b84-87a3-40a1-8c3d-ab3a766a9e98\"></div>\n",
       "\n",
       "<style>\n",
       ".vega-embed svg, .vega-embed canvas {\n",
       "  border: 1px dotted gray;\n",
       "}\n",
       "\n",
       ".vega-embed .vega-actions a {\n",
       "  margin-right: 6px;\n",
       "}\n",
       "</style>\n"
      ]
     },
     "metadata": {
      "jupyter-vega": "#ef3f0b84-87a3-40a1-8c3d-ab3a766a9e98"
     },
     "output_type": "display_data"
    },
    {
     "data": {
      "application/javascript": [
       "var spec = {\"mark\": \"bar\", \"config\": {\"cell\": {\"height\": 350, \"width\": 500}}, \"encoding\": {\"color\": {\"field\": \"Type 1\", \"type\": \"nominal\"}, \"x\": {\"field\": \"Type 1\", \"type\": \"nominal\"}, \"y\": {\"field\": \"*\", \"aggregate\": \"count\"}}, \"data\": {\"values\": [{\"Attack\": 85, \"Total\": 580, \"Legendary\": true, \"#\": 144, \"Speed\": 85, \"Type 1\": \"Ice\", \"Type 2\": \"Flying\", \"HP\": 90, \"Generation\": 1, \"Sp. Atk\": 95, \"Defense\": 100, \"Sp. Def\": 125, \"Name\": \"Articuno\"}, {\"Attack\": 90, \"Total\": 580, \"Legendary\": true, \"#\": 145, \"Speed\": 100, \"Type 1\": \"Electric\", \"Type 2\": \"Flying\", \"HP\": 90, \"Generation\": 1, \"Sp. Atk\": 125, \"Defense\": 85, \"Sp. Def\": 90, \"Name\": \"Zapdos\"}, {\"Attack\": 100, \"Total\": 580, \"Legendary\": true, \"#\": 146, \"Speed\": 90, \"Type 1\": \"Fire\", \"Type 2\": \"Flying\", \"HP\": 90, \"Generation\": 1, \"Sp. Atk\": 125, \"Defense\": 90, \"Sp. Def\": 85, \"Name\": \"Moltres\"}, {\"Attack\": 190, \"Total\": 780, \"Legendary\": true, \"#\": 150, \"Speed\": 130, \"Type 1\": \"Psychic\", \"Type 2\": \"Fighting\", \"HP\": 106, \"Generation\": 1, \"Sp. Atk\": 154, \"Defense\": 100, \"Sp. Def\": 100, \"Name\": \"MewtwoMega Mewtwo X\"}, {\"Attack\": 90, \"Total\": 680, \"Legendary\": true, \"#\": 249, \"Speed\": 110, \"Type 1\": \"Psychic\", \"Type 2\": \"Flying\", \"HP\": 106, \"Generation\": 2, \"Sp. Atk\": 90, \"Defense\": 130, \"Sp. Def\": 154, \"Name\": \"Lugia\"}, {\"Attack\": 130, \"Total\": 680, \"Legendary\": true, \"#\": 250, \"Speed\": 90, \"Type 1\": \"Fire\", \"Type 2\": \"Flying\", \"HP\": 106, \"Generation\": 2, \"Sp. Atk\": 110, \"Defense\": 90, \"Sp. Def\": 154, \"Name\": \"Ho-oh\"}, {\"Attack\": 80, \"Total\": 600, \"Legendary\": true, \"#\": 380, \"Speed\": 110, \"Type 1\": \"Dragon\", \"Type 2\": \"Psychic\", \"HP\": 80, \"Generation\": 3, \"Sp. Atk\": 110, \"Defense\": 90, \"Sp. Def\": 130, \"Name\": \"Latias\"}, {\"Attack\": 100, \"Total\": 700, \"Legendary\": true, \"#\": 380, \"Speed\": 110, \"Type 1\": \"Dragon\", \"Type 2\": \"Psychic\", \"HP\": 80, \"Generation\": 3, \"Sp. Atk\": 140, \"Defense\": 120, \"Sp. Def\": 150, \"Name\": \"LatiasMega Latias\"}, {\"Attack\": 90, \"Total\": 600, \"Legendary\": true, \"#\": 381, \"Speed\": 110, \"Type 1\": \"Dragon\", \"Type 2\": \"Psychic\", \"HP\": 80, \"Generation\": 3, \"Sp. Atk\": 130, \"Defense\": 80, \"Sp. Def\": 110, \"Name\": \"Latios\"}, {\"Attack\": 130, \"Total\": 700, \"Legendary\": true, \"#\": 381, \"Speed\": 110, \"Type 1\": \"Dragon\", \"Type 2\": \"Psychic\", \"HP\": 80, \"Generation\": 3, \"Sp. Atk\": 160, \"Defense\": 100, \"Sp. Def\": 120, \"Name\": \"LatiosMega Latios\"}, {\"Attack\": 180, \"Total\": 770, \"Legendary\": true, \"#\": 383, \"Speed\": 90, \"Type 1\": \"Ground\", \"Type 2\": \"Fire\", \"HP\": 100, \"Generation\": 3, \"Sp. Atk\": 150, \"Defense\": 160, \"Sp. Def\": 90, \"Name\": \"GroudonPrimal Groudon\"}, {\"Attack\": 150, \"Total\": 680, \"Legendary\": true, \"#\": 384, \"Speed\": 95, \"Type 1\": \"Dragon\", \"Type 2\": \"Flying\", \"HP\": 105, \"Generation\": 3, \"Sp. Atk\": 150, \"Defense\": 90, \"Sp. Def\": 90, \"Name\": \"Rayquaza\"}, {\"Attack\": 180, \"Total\": 780, \"Legendary\": true, \"#\": 384, \"Speed\": 115, \"Type 1\": \"Dragon\", \"Type 2\": \"Flying\", \"HP\": 105, \"Generation\": 3, \"Sp. Atk\": 180, \"Defense\": 100, \"Sp. Def\": 100, \"Name\": \"RayquazaMega Rayquaza\"}, {\"Attack\": 100, \"Total\": 600, \"Legendary\": true, \"#\": 385, \"Speed\": 100, \"Type 1\": \"Steel\", \"Type 2\": \"Psychic\", \"HP\": 100, \"Generation\": 3, \"Sp. Atk\": 100, \"Defense\": 100, \"Sp. Def\": 100, \"Name\": \"Jirachi\"}, {\"Attack\": 120, \"Total\": 680, \"Legendary\": true, \"#\": 483, \"Speed\": 90, \"Type 1\": \"Steel\", \"Type 2\": \"Dragon\", \"HP\": 100, \"Generation\": 4, \"Sp. Atk\": 150, \"Defense\": 120, \"Sp. Def\": 100, \"Name\": \"Dialga\"}, {\"Attack\": 120, \"Total\": 680, \"Legendary\": true, \"#\": 484, \"Speed\": 100, \"Type 1\": \"Water\", \"Type 2\": \"Dragon\", \"HP\": 90, \"Generation\": 4, \"Sp. Atk\": 150, \"Defense\": 100, \"Sp. Def\": 120, \"Name\": \"Palkia\"}, {\"Attack\": 90, \"Total\": 600, \"Legendary\": true, \"#\": 485, \"Speed\": 77, \"Type 1\": \"Fire\", \"Type 2\": \"Steel\", \"HP\": 91, \"Generation\": 4, \"Sp. Atk\": 130, \"Defense\": 106, \"Sp. Def\": 106, \"Name\": \"Heatran\"}, {\"Attack\": 100, \"Total\": 680, \"Legendary\": true, \"#\": 487, \"Speed\": 90, \"Type 1\": \"Ghost\", \"Type 2\": \"Dragon\", \"HP\": 150, \"Generation\": 4, \"Sp. Atk\": 100, \"Defense\": 120, \"Sp. Def\": 120, \"Name\": \"GiratinaAltered Forme\"}, {\"Attack\": 120, \"Total\": 680, \"Legendary\": true, \"#\": 487, \"Speed\": 90, \"Type 1\": \"Ghost\", \"Type 2\": \"Dragon\", \"HP\": 150, \"Generation\": 4, \"Sp. Atk\": 120, \"Defense\": 100, \"Sp. Def\": 100, \"Name\": \"GiratinaOrigin Forme\"}, {\"Attack\": 103, \"Total\": 600, \"Legendary\": true, \"#\": 492, \"Speed\": 127, \"Type 1\": \"Grass\", \"Type 2\": \"Flying\", \"HP\": 100, \"Generation\": 4, \"Sp. Atk\": 120, \"Defense\": 75, \"Sp. Def\": 75, \"Name\": \"ShayminSky Forme\"}, {\"Attack\": 100, \"Total\": 600, \"Legendary\": true, \"#\": 494, \"Speed\": 100, \"Type 1\": \"Psychic\", \"Type 2\": \"Fire\", \"HP\": 100, \"Generation\": 5, \"Sp. Atk\": 100, \"Defense\": 100, \"Sp. Def\": 100, \"Name\": \"Victini\"}, {\"Attack\": 90, \"Total\": 580, \"Legendary\": true, \"#\": 638, \"Speed\": 108, \"Type 1\": \"Steel\", \"Type 2\": \"Fighting\", \"HP\": 91, \"Generation\": 5, \"Sp. Atk\": 90, \"Defense\": 129, \"Sp. Def\": 72, \"Name\": \"Cobalion\"}, {\"Attack\": 129, \"Total\": 580, \"Legendary\": true, \"#\": 639, \"Speed\": 108, \"Type 1\": \"Rock\", \"Type 2\": \"Fighting\", \"HP\": 91, \"Generation\": 5, \"Sp. Atk\": 72, \"Defense\": 90, \"Sp. Def\": 90, \"Name\": \"Terrakion\"}, {\"Attack\": 90, \"Total\": 580, \"Legendary\": true, \"#\": 640, \"Speed\": 108, \"Type 1\": \"Grass\", \"Type 2\": \"Fighting\", \"HP\": 91, \"Generation\": 5, \"Sp. Atk\": 90, \"Defense\": 72, \"Sp. Def\": 129, \"Name\": \"Virizion\"}, {\"Attack\": 115, \"Total\": 580, \"Legendary\": true, \"#\": 642, \"Speed\": 111, \"Type 1\": \"Electric\", \"Type 2\": \"Flying\", \"HP\": 79, \"Generation\": 5, \"Sp. Atk\": 125, \"Defense\": 70, \"Sp. Def\": 80, \"Name\": \"ThundurusIncarnate Forme\"}, {\"Attack\": 105, \"Total\": 580, \"Legendary\": true, \"#\": 642, \"Speed\": 101, \"Type 1\": \"Electric\", \"Type 2\": \"Flying\", \"HP\": 79, \"Generation\": 5, \"Sp. Atk\": 145, \"Defense\": 70, \"Sp. Def\": 80, \"Name\": \"ThundurusTherian Forme\"}, {\"Attack\": 120, \"Total\": 680, \"Legendary\": true, \"#\": 643, \"Speed\": 90, \"Type 1\": \"Dragon\", \"Type 2\": \"Fire\", \"HP\": 100, \"Generation\": 5, \"Sp. Atk\": 150, \"Defense\": 100, \"Sp. Def\": 120, \"Name\": \"Reshiram\"}, {\"Attack\": 150, \"Total\": 680, \"Legendary\": true, \"#\": 644, \"Speed\": 90, \"Type 1\": \"Dragon\", \"Type 2\": \"Electric\", \"HP\": 100, \"Generation\": 5, \"Sp. Atk\": 120, \"Defense\": 120, \"Sp. Def\": 100, \"Name\": \"Zekrom\"}, {\"Attack\": 125, \"Total\": 600, \"Legendary\": true, \"#\": 645, \"Speed\": 101, \"Type 1\": \"Ground\", \"Type 2\": \"Flying\", \"HP\": 89, \"Generation\": 5, \"Sp. Atk\": 115, \"Defense\": 90, \"Sp. Def\": 80, \"Name\": \"LandorusIncarnate Forme\"}, {\"Attack\": 145, \"Total\": 600, \"Legendary\": true, \"#\": 645, \"Speed\": 91, \"Type 1\": \"Ground\", \"Type 2\": \"Flying\", \"HP\": 89, \"Generation\": 5, \"Sp. Atk\": 105, \"Defense\": 90, \"Sp. Def\": 80, \"Name\": \"LandorusTherian Forme\"}, {\"Attack\": 130, \"Total\": 660, \"Legendary\": true, \"#\": 646, \"Speed\": 95, \"Type 1\": \"Dragon\", \"Type 2\": \"Ice\", \"HP\": 125, \"Generation\": 5, \"Sp. Atk\": 130, \"Defense\": 90, \"Sp. Def\": 90, \"Name\": \"Kyurem\"}, {\"Attack\": 170, \"Total\": 700, \"Legendary\": true, \"#\": 646, \"Speed\": 95, \"Type 1\": \"Dragon\", \"Type 2\": \"Ice\", \"HP\": 125, \"Generation\": 5, \"Sp. Atk\": 120, \"Defense\": 100, \"Sp. Def\": 90, \"Name\": \"KyuremBlack Kyurem\"}, {\"Attack\": 120, \"Total\": 700, \"Legendary\": true, \"#\": 646, \"Speed\": 95, \"Type 1\": \"Dragon\", \"Type 2\": \"Ice\", \"HP\": 125, \"Generation\": 5, \"Sp. Atk\": 170, \"Defense\": 90, \"Sp. Def\": 100, \"Name\": \"KyuremWhite Kyurem\"}, {\"Attack\": 131, \"Total\": 680, \"Legendary\": true, \"#\": 717, \"Speed\": 99, \"Type 1\": \"Dark\", \"Type 2\": \"Flying\", \"HP\": 126, \"Generation\": 6, \"Sp. Atk\": 131, \"Defense\": 95, \"Sp. Def\": 98, \"Name\": \"Yveltal\"}, {\"Attack\": 100, \"Total\": 600, \"Legendary\": true, \"#\": 718, \"Speed\": 95, \"Type 1\": \"Dragon\", \"Type 2\": \"Ground\", \"HP\": 108, \"Generation\": 6, \"Sp. Atk\": 81, \"Defense\": 121, \"Sp. Def\": 95, \"Name\": \"Zygarde50% Forme\"}, {\"Attack\": 100, \"Total\": 600, \"Legendary\": true, \"#\": 719, \"Speed\": 50, \"Type 1\": \"Rock\", \"Type 2\": \"Fairy\", \"HP\": 50, \"Generation\": 6, \"Sp. Atk\": 100, \"Defense\": 150, \"Sp. Def\": 150, \"Name\": \"Diancie\"}, {\"Attack\": 160, \"Total\": 700, \"Legendary\": true, \"#\": 719, \"Speed\": 110, \"Type 1\": \"Rock\", \"Type 2\": \"Fairy\", \"HP\": 50, \"Generation\": 6, \"Sp. Atk\": 160, \"Defense\": 110, \"Sp. Def\": 110, \"Name\": \"DiancieMega Diancie\"}, {\"Attack\": 110, \"Total\": 600, \"Legendary\": true, \"#\": 720, \"Speed\": 70, \"Type 1\": \"Psychic\", \"Type 2\": \"Ghost\", \"HP\": 80, \"Generation\": 6, \"Sp. Atk\": 150, \"Defense\": 60, \"Sp. Def\": 130, \"Name\": \"HoopaHoopa Confined\"}, {\"Attack\": 160, \"Total\": 680, \"Legendary\": true, \"#\": 720, \"Speed\": 80, \"Type 1\": \"Psychic\", \"Type 2\": \"Dark\", \"HP\": 80, \"Generation\": 6, \"Sp. Atk\": 170, \"Defense\": 60, \"Sp. Def\": 130, \"Name\": \"HoopaHoopa Unbound\"}, {\"Attack\": 110, \"Total\": 600, \"Legendary\": true, \"#\": 721, \"Speed\": 70, \"Type 1\": \"Fire\", \"Type 2\": \"Water\", \"HP\": 80, \"Generation\": 6, \"Sp. Atk\": 130, \"Defense\": 120, \"Sp. Def\": 90, \"Name\": \"Volcanion\"}]}};\n",
       "var selector = \"#ef3f0b84-87a3-40a1-8c3d-ab3a766a9e98\";\n",
       "var type = \"vega-lite\";\n",
       "\n",
       "var output_area = this;\n",
       "require(['nbextensions/jupyter-vega/index'], function(vega) {\n",
       "  vega.render(selector, spec, type, output_area);\n",
       "}, function (err) {\n",
       "  if (err.requireType !== 'scripterror') {\n",
       "    throw(err);\n",
       "  }\n",
       "});\n"
      ]
     },
     "metadata": {
      "jupyter-vega": "#ef3f0b84-87a3-40a1-8c3d-ab3a766a9e98"
     },
     "output_type": "display_data"
    },
    {
     "data": {
      "image/png": "[encoded data removed]"
     },
     "metadata": {
      "jupyter-vega": "#ef3f0b84-87a3-40a1-8c3d-ab3a766a9e98"
     },
     "output_type": "display_data"
    }
   ],
   "source": [
    "Chart(pokie).mark_bar().encode(\n",
    "    X('Type 1'),\n",
    "    Y('count(*)'),\n",
    "    Color('Type 1')\n",
    ")"
   ]
  },
  {
   "cell_type": "code",
   "execution_count": null,
   "metadata": {
    "collapsed": true,
    "deletable": false,
    "editable": false,
    "nbgrader": {
     "checksum": "39286fc490b323c55d90342de1ef7cf6",
     "grade": true,
     "grade_id": "pokemon-e",
     "locked": true,
     "points": 5,
     "schema_version": 1,
     "solution": false
    }
   },
   "outputs": [],
   "source": [
    "assert True # Leave this cell unchanged as the last cell in the section as a placeholder for grading"
   ]
  },
  {
   "cell_type": "markdown",
   "metadata": {},
   "source": [
    "## Question 2"
   ]
  },
  {
   "cell_type": "markdown",
   "metadata": {},
   "source": [
    "Of the second generation of pokemon, what are the fastest type of Pokemon with a speed higher than 75?"
   ]
  },
  {
   "cell_type": "code",
   "execution_count": 40,
   "metadata": {
    "collapsed": false
   },
   "outputs": [
    {
     "data": {
      "text/html": [
       "<div class=\"vega-embed\" id=\"5b135e62-38bc-4192-8026-83a99f3d1f3c\"></div>\n",
       "\n",
       "<style>\n",
       ".vega-embed svg, .vega-embed canvas {\n",
       "  border: 1px dotted gray;\n",
       "}\n",
       "\n",
       ".vega-embed .vega-actions a {\n",
       "  margin-right: 6px;\n",
       "}\n",
       "</style>\n"
      ]
     },
     "metadata": {
      "jupyter-vega": "#5b135e62-38bc-4192-8026-83a99f3d1f3c"
     },
     "output_type": "display_data"
    },
    {
     "data": {
      "application/javascript": [
       "var spec = {\"mark\": \"bar\", \"config\": {\"cell\": {\"height\": 350, \"width\": 500}}, \"encoding\": {\"x\": {\"field\": \"Type 1\", \"type\": \"nominal\"}, \"y\": {\"field\": \"*\", \"aggregate\": \"count\"}}, \"data\": {\"values\": [{\"Attack\": 82, \"Total\": 525, \"Legendary\": false, \"#\": 154, \"Speed\": 80, \"Type 1\": \"Grass\", \"Type 2\": null, \"HP\": 80, \"Generation\": 2, \"Sp. Atk\": 83, \"Defense\": 100, \"Sp. Def\": 100, \"Name\": \"Meganium\"}, {\"Attack\": 64, \"Total\": 405, \"Legendary\": false, \"#\": 156, \"Speed\": 80, \"Type 1\": \"Fire\", \"Type 2\": null, \"HP\": 58, \"Generation\": 2, \"Sp. Atk\": 80, \"Defense\": 58, \"Sp. Def\": 65, \"Name\": \"Quilava\"}, {\"Attack\": 84, \"Total\": 534, \"Legendary\": false, \"#\": 157, \"Speed\": 100, \"Type 1\": \"Fire\", \"Type 2\": null, \"HP\": 78, \"Generation\": 2, \"Sp. Atk\": 109, \"Defense\": 78, \"Sp. Def\": 85, \"Name\": \"Typhlosion\"}, {\"Attack\": 105, \"Total\": 530, \"Legendary\": false, \"#\": 160, \"Speed\": 78, \"Type 1\": \"Water\", \"Type 2\": null, \"HP\": 85, \"Generation\": 2, \"Sp. Atk\": 79, \"Defense\": 100, \"Sp. Def\": 83, \"Name\": \"Feraligatr\"}, {\"Attack\": 76, \"Total\": 415, \"Legendary\": false, \"#\": 162, \"Speed\": 90, \"Type 1\": \"Normal\", \"Type 2\": null, \"HP\": 85, \"Generation\": 2, \"Sp. Atk\": 45, \"Defense\": 64, \"Sp. Def\": 55, \"Name\": \"Furret\"}, {\"Attack\": 35, \"Total\": 390, \"Legendary\": false, \"#\": 166, \"Speed\": 85, \"Type 1\": \"Bug\", \"Type 2\": \"Flying\", \"HP\": 55, \"Generation\": 2, \"Sp. Atk\": 55, \"Defense\": 50, \"Sp. Def\": 110, \"Name\": \"Ledian\"}, {\"Attack\": 90, \"Total\": 535, \"Legendary\": false, \"#\": 169, \"Speed\": 130, \"Type 1\": \"Poison\", \"Type 2\": \"Flying\", \"HP\": 85, \"Generation\": 2, \"Sp. Atk\": 70, \"Defense\": 80, \"Sp. Def\": 80, \"Name\": \"Crobat\"}, {\"Attack\": 75, \"Total\": 470, \"Legendary\": false, \"#\": 178, \"Speed\": 95, \"Type 1\": \"Psychic\", \"Type 2\": \"Flying\", \"HP\": 65, \"Generation\": 2, \"Sp. Atk\": 95, \"Defense\": 70, \"Sp. Def\": 70, \"Name\": \"Xatu\"}, {\"Attack\": 45, \"Total\": 340, \"Legendary\": false, \"#\": 188, \"Speed\": 80, \"Type 1\": \"Grass\", \"Type 2\": \"Flying\", \"HP\": 55, \"Generation\": 2, \"Sp. Atk\": 45, \"Defense\": 50, \"Sp. Def\": 65, \"Name\": \"Skiploom\"}, {\"Attack\": 55, \"Total\": 460, \"Legendary\": false, \"#\": 189, \"Speed\": 110, \"Type 1\": \"Grass\", \"Type 2\": \"Flying\", \"HP\": 75, \"Generation\": 2, \"Sp. Atk\": 55, \"Defense\": 70, \"Sp. Def\": 95, \"Name\": \"Jumpluff\"}, {\"Attack\": 70, \"Total\": 360, \"Legendary\": false, \"#\": 190, \"Speed\": 85, \"Type 1\": \"Normal\", \"Type 2\": null, \"HP\": 55, \"Generation\": 2, \"Sp. Atk\": 40, \"Defense\": 55, \"Sp. Def\": 55, \"Name\": \"Aipom\"}, {\"Attack\": 65, \"Total\": 390, \"Legendary\": false, \"#\": 193, \"Speed\": 95, \"Type 1\": \"Bug\", \"Type 2\": \"Flying\", \"HP\": 65, \"Generation\": 2, \"Sp. Atk\": 75, \"Defense\": 45, \"Sp. Def\": 45, \"Name\": \"Yanma\"}, {\"Attack\": 65, \"Total\": 525, \"Legendary\": false, \"#\": 196, \"Speed\": 110, \"Type 1\": \"Psychic\", \"Type 2\": null, \"HP\": 65, \"Generation\": 2, \"Sp. Atk\": 130, \"Defense\": 60, \"Sp. Def\": 95, \"Name\": \"Espeon\"}, {\"Attack\": 85, \"Total\": 405, \"Legendary\": false, \"#\": 198, \"Speed\": 91, \"Type 1\": \"Dark\", \"Type 2\": \"Flying\", \"HP\": 60, \"Generation\": 2, \"Sp. Atk\": 85, \"Defense\": 42, \"Sp. Def\": 42, \"Name\": \"Murkrow\"}, {\"Attack\": 60, \"Total\": 435, \"Legendary\": false, \"#\": 200, \"Speed\": 85, \"Type 1\": \"Ghost\", \"Type 2\": null, \"HP\": 60, \"Generation\": 2, \"Sp. Atk\": 85, \"Defense\": 60, \"Sp. Def\": 85, \"Name\": \"Misdreavus\"}, {\"Attack\": 80, \"Total\": 455, \"Legendary\": false, \"#\": 203, \"Speed\": 85, \"Type 1\": \"Normal\", \"Type 2\": \"Psychic\", \"HP\": 70, \"Generation\": 2, \"Sp. Atk\": 90, \"Defense\": 65, \"Sp. Def\": 65, \"Name\": \"Girafarig\"}, {\"Attack\": 75, \"Total\": 430, \"Legendary\": false, \"#\": 207, \"Speed\": 85, \"Type 1\": \"Ground\", \"Type 2\": \"Flying\", \"HP\": 65, \"Generation\": 2, \"Sp. Atk\": 35, \"Defense\": 105, \"Sp. Def\": 65, \"Name\": \"Gligar\"}, {\"Attack\": 95, \"Total\": 430, \"Legendary\": false, \"#\": 211, \"Speed\": 85, \"Type 1\": \"Water\", \"Type 2\": \"Poison\", \"HP\": 65, \"Generation\": 2, \"Sp. Atk\": 55, \"Defense\": 75, \"Sp. Def\": 55, \"Name\": \"Qwilfish\"}, {\"Attack\": 150, \"Total\": 600, \"Legendary\": false, \"#\": 212, \"Speed\": 75, \"Type 1\": \"Bug\", \"Type 2\": \"Steel\", \"HP\": 70, \"Generation\": 2, \"Sp. Atk\": 65, \"Defense\": 140, \"Sp. Def\": 100, \"Name\": \"ScizorMega Scizor\"}, {\"Attack\": 125, \"Total\": 500, \"Legendary\": false, \"#\": 214, \"Speed\": 85, \"Type 1\": \"Bug\", \"Type 2\": \"Fighting\", \"HP\": 80, \"Generation\": 2, \"Sp. Atk\": 40, \"Defense\": 75, \"Sp. Def\": 95, \"Name\": \"Heracross\"}, {\"Attack\": 185, \"Total\": 600, \"Legendary\": false, \"#\": 214, \"Speed\": 75, \"Type 1\": \"Bug\", \"Type 2\": \"Fighting\", \"HP\": 80, \"Generation\": 2, \"Sp. Atk\": 40, \"Defense\": 115, \"Sp. Def\": 105, \"Name\": \"HeracrossMega Heracross\"}, {\"Attack\": 95, \"Total\": 430, \"Legendary\": false, \"#\": 215, \"Speed\": 115, \"Type 1\": \"Dark\", \"Type 2\": \"Ice\", \"HP\": 55, \"Generation\": 2, \"Sp. Atk\": 35, \"Defense\": 55, \"Sp. Def\": 75, \"Name\": \"Sneasel\"}, {\"Attack\": 55, \"Total\": 330, \"Legendary\": false, \"#\": 225, \"Speed\": 75, \"Type 1\": \"Ice\", \"Type 2\": \"Flying\", \"HP\": 45, \"Generation\": 2, \"Sp. Atk\": 65, \"Defense\": 45, \"Sp. Def\": 45, \"Name\": \"Delibird\"}, {\"Attack\": 90, \"Total\": 500, \"Legendary\": false, \"#\": 229, \"Speed\": 95, \"Type 1\": \"Dark\", \"Type 2\": \"Fire\", \"HP\": 75, \"Generation\": 2, \"Sp. Atk\": 110, \"Defense\": 50, \"Sp. Def\": 80, \"Name\": \"Houndoom\"}, {\"Attack\": 90, \"Total\": 600, \"Legendary\": false, \"#\": 229, \"Speed\": 115, \"Type 1\": \"Dark\", \"Type 2\": \"Fire\", \"HP\": 75, \"Generation\": 2, \"Sp. Atk\": 140, \"Defense\": 90, \"Sp. Def\": 90, \"Name\": \"HoundoomMega Houndoom\"}, {\"Attack\": 95, \"Total\": 540, \"Legendary\": false, \"#\": 230, \"Speed\": 85, \"Type 1\": \"Water\", \"Type 2\": \"Dragon\", \"HP\": 75, \"Generation\": 2, \"Sp. Atk\": 95, \"Defense\": 95, \"Sp. Def\": 95, \"Name\": \"Kingdra\"}, {\"Attack\": 95, \"Total\": 465, \"Legendary\": false, \"#\": 234, \"Speed\": 85, \"Type 1\": \"Normal\", \"Type 2\": null, \"HP\": 73, \"Generation\": 2, \"Sp. Atk\": 85, \"Defense\": 62, \"Sp. Def\": 65, \"Name\": \"Stantler\"}, {\"Attack\": 20, \"Total\": 250, \"Legendary\": false, \"#\": 235, \"Speed\": 75, \"Type 1\": \"Normal\", \"Type 2\": null, \"HP\": 55, \"Generation\": 2, \"Sp. Atk\": 20, \"Defense\": 35, \"Sp. Def\": 45, \"Name\": \"Smeargle\"}, {\"Attack\": 63, \"Total\": 360, \"Legendary\": false, \"#\": 239, \"Speed\": 95, \"Type 1\": \"Electric\", \"Type 2\": null, \"HP\": 45, \"Generation\": 2, \"Sp. Atk\": 65, \"Defense\": 37, \"Sp. Def\": 55, \"Name\": \"Elekid\"}, {\"Attack\": 75, \"Total\": 365, \"Legendary\": false, \"#\": 240, \"Speed\": 83, \"Type 1\": \"Fire\", \"Type 2\": null, \"HP\": 45, \"Generation\": 2, \"Sp. Atk\": 70, \"Defense\": 37, \"Sp. Def\": 55, \"Name\": \"Magby\"}, {\"Attack\": 80, \"Total\": 490, \"Legendary\": false, \"#\": 241, \"Speed\": 100, \"Type 1\": \"Normal\", \"Type 2\": null, \"HP\": 95, \"Generation\": 2, \"Sp. Atk\": 40, \"Defense\": 105, \"Sp. Def\": 70, \"Name\": \"Miltank\"}, {\"Attack\": 85, \"Total\": 580, \"Legendary\": true, \"#\": 243, \"Speed\": 115, \"Type 1\": \"Electric\", \"Type 2\": null, \"HP\": 90, \"Generation\": 2, \"Sp. Atk\": 115, \"Defense\": 75, \"Sp. Def\": 100, \"Name\": \"Raikou\"}, {\"Attack\": 115, \"Total\": 580, \"Legendary\": true, \"#\": 244, \"Speed\": 100, \"Type 1\": \"Fire\", \"Type 2\": null, \"HP\": 115, \"Generation\": 2, \"Sp. Atk\": 90, \"Defense\": 85, \"Sp. Def\": 75, \"Name\": \"Entei\"}, {\"Attack\": 75, \"Total\": 580, \"Legendary\": true, \"#\": 245, \"Speed\": 85, \"Type 1\": \"Water\", \"Type 2\": null, \"HP\": 100, \"Generation\": 2, \"Sp. Atk\": 90, \"Defense\": 115, \"Sp. Def\": 115, \"Name\": \"Suicune\"}, {\"Attack\": 90, \"Total\": 680, \"Legendary\": true, \"#\": 249, \"Speed\": 110, \"Type 1\": \"Psychic\", \"Type 2\": \"Flying\", \"HP\": 106, \"Generation\": 2, \"Sp. Atk\": 90, \"Defense\": 130, \"Sp. Def\": 154, \"Name\": \"Lugia\"}, {\"Attack\": 130, \"Total\": 680, \"Legendary\": true, \"#\": 250, \"Speed\": 90, \"Type 1\": \"Fire\", \"Type 2\": \"Flying\", \"HP\": 106, \"Generation\": 2, \"Sp. Atk\": 110, \"Defense\": 90, \"Sp. Def\": 154, \"Name\": \"Ho-oh\"}, {\"Attack\": 100, \"Total\": 600, \"Legendary\": false, \"#\": 251, \"Speed\": 100, \"Type 1\": \"Psychic\", \"Type 2\": \"Grass\", \"HP\": 100, \"Generation\": 2, \"Sp. Atk\": 100, \"Defense\": 100, \"Sp. Def\": 100, \"Name\": \"Celebi\"}]}};\n",
       "var selector = \"#5b135e62-38bc-4192-8026-83a99f3d1f3c\";\n",
       "var type = \"vega-lite\";\n",
       "\n",
       "var output_area = this;\n",
       "require(['nbextensions/jupyter-vega/index'], function(vega) {\n",
       "  vega.render(selector, spec, type, output_area);\n",
       "}, function (err) {\n",
       "  if (err.requireType !== 'scripterror') {\n",
       "    throw(err);\n",
       "  }\n",
       "});\n"
      ]
     },
     "metadata": {
      "jupyter-vega": "#5b135e62-38bc-4192-8026-83a99f3d1f3c"
     },
     "output_type": "display_data"
    },
    {
     "data": {
      "image/png": "[encoded data removed]"
     },
     "metadata": {
      "jupyter-vega": "#5b135e62-38bc-4192-8026-83a99f3d1f3c"
     },
     "output_type": "display_data"
    }
   ],
   "source": [
    "second = data[data['Generation'] == 2]\n",
    "fastest = second[second['Speed'] >= 75]\n",
    "Chart(fastest).mark_bar().encode(\n",
    "    X('Type 1'),\n",
    "    Y('count(*)')\n",
    ")"
   ]
  },
  {
   "cell_type": "markdown",
   "metadata": {
    "deletable": false,
    "editable": false,
    "nbgrader": {
     "checksum": "4ebc12e828514d715c334fabca942e2c",
     "grade": false,
     "grade_id": "pokemon-f",
     "locked": true,
     "schema_version": 1,
     "solution": false
    }
   },
   "source": [
    "Create as many cells as you need below this one to explore propose, explore and answer your first question."
   ]
  },
  {
   "cell_type": "code",
   "execution_count": null,
   "metadata": {
    "collapsed": true,
    "deletable": false,
    "editable": false,
    "nbgrader": {
     "checksum": "84312312837fd01e6f37d2110199dfe7",
     "grade": true,
     "grade_id": "pokemon-g",
     "locked": true,
     "points": 5,
     "schema_version": 1,
     "solution": false
    }
   },
   "outputs": [],
   "source": [
    "assert True # Leave this cell unchanged as the last cell in the section as a placeholder for grading"
   ]
  }
 ],
 "metadata": {
  "kernelspec": {
   "display_name": "Python 3",
   "language": "python",
   "name": "python3"
  },
  "language_info": {
   "codemirror_mode": {
    "name": "ipython",
    "version": 3
   },
   "file_extension": ".py",
   "mimetype": "text/x-python",
   "name": "python",
   "nbconvert_exporter": "python",
   "pygments_lexer": "ipython3",
   "version": "3.5.2"
  }
 },
 "nbformat": 4,
 "nbformat_minor": 2
}
