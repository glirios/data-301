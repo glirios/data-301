{
 "cells": [
  {
   "cell_type": "markdown",
   "metadata": {},
   "source": [
    "# Visualizing Exoplanets"
   ]
  },
  {
   "cell_type": "markdown",
   "metadata": {},
   "source": [
    "## Imports"
   ]
  },
  {
   "cell_type": "code",
   "execution_count": 2,
   "metadata": {
    "collapsed": true
   },
   "outputs": [],
   "source": [
    "%matplotlib inline\n",
    "import matplotlib.pyplot as plt\n",
    "import numpy as np"
   ]
  },
  {
   "cell_type": "markdown",
   "metadata": {
    "collapsed": true
   },
   "source": [
    "## Exoplanet properties"
   ]
  },
  {
   "cell_type": "markdown",
   "metadata": {},
   "source": [
    "Over the past few decades, astronomers have discovered thousands of extrasolar planets. The following paper describes the properties of some of these planets.\n",
    "\n",
    "http://iopscience.iop.org/1402-4896/2008/T130/014001\n",
    "\n",
    "Your job is to reproduce Figures 2 and 4 from this paper using an up-to-date dataset of extrasolar planets found on this GitHub repo:\n",
    "\n",
    "https://github.com/OpenExoplanetCatalogue/open_exoplanet_catalogue\n",
    "\n",
    "A text version of the dataset has already been put into this directory. The top of the file has documentation about each column of data:"
   ]
  },
  {
   "cell_type": "code",
   "execution_count": 3,
   "metadata": {
    "collapsed": false
   },
   "outputs": [
    {
     "name": "stdout",
     "output_type": "stream",
     "text": [
      "# Open Exoplanet Catalogue.\r",
      "\r\n",
      "# https://github.com/hannorein/open_exoplanet_catalogue\r",
      "\r\n",
      "# \r",
      "\r\n",
      "# Columns: \r",
      "\r\n",
      "# \r",
      "\r\n",
      "#  1: Primary identifier of planet\r",
      "\r\n",
      "#  2: Binary flag [0=no known stellar binary companion; 1=P-type binary (circumbinary); 2=S-type binary; 3=orphan planet (no star)]\r",
      "\r\n",
      "#  3: Planetary mass [Jupiter masses]\r",
      "\r\n",
      "#  4: Radius [Jupiter radii]\r",
      "\r\n",
      "#  5: Period [days]\r",
      "\r\n",
      "#  6: Semi-major axis [Astronomical Units]\r",
      "\r\n",
      "#  7: Eccentricity\r",
      "\r\n",
      "#  8: Periastron [degree]\r",
      "\r\n",
      "#  9: Longitude [degree]\r",
      "\r\n",
      "# 10: Ascending node [degree]\r",
      "\r\n",
      "# 11: Inclination [degree]\r",
      "\r\n",
      "# 12: Surface or equilibrium temperature [K]\r",
      "\r\n",
      "# 13: Age [Gyr]\r",
      "\r\n",
      "# 14: Discovery method\r",
      "\r\n",
      "# 15: Discovery year [yyyy]\r",
      "\r\n",
      "# 16: Last updated [yy/mm/dd]\r",
      "\r\n",
      "# 17: Right ascension [hh mm ss]\r",
      "\r\n",
      "# 18: Declination [+/-dd mm ss]\r",
      "\r\n",
      "# 19: Distance from Sun [parsec]\r",
      "\r\n",
      "# 20: Host star mass [Solar masses]\r",
      "\r\n",
      "# 21: Host star radius [Solar radii]\r",
      "\r\n",
      "# 22: Host star metallicity [log relative to solar]\r",
      "\r\n",
      "# 23: Host star temperature [K]\r",
      "\r\n",
      "# 24: Host star age [Gyr]\r",
      "\r\n",
      "# \r",
      "\r\n"
     ]
    }
   ],
   "source": [
    "!head -n 30 data/open_exoplanet_catalogue.txt"
   ]
  },
  {
   "cell_type": "markdown",
   "metadata": {},
   "source": [
    "Use `np.genfromtxt` with a delimiter of `','` to read the data into a NumPy array called `data`:"
   ]
  },
  {
   "cell_type": "code",
   "execution_count": 4,
   "metadata": {
    "collapsed": false,
    "deletable": false,
    "nbgrader": {
     "checksum": "10a901ecbfe1e3a7fec85640cde63dec",
     "grade": false,
     "grade_id": "mpl-exoplanet-a",
     "locked": false,
     "schema_version": 1,
     "solution": true
    }
   },
   "outputs": [],
   "source": [
    "# YOUR CODE HERE\n",
    "data = np.genfromtxt('data/open_exoplanet_catalogue.txt', delimiter=',')"
   ]
  },
  {
   "cell_type": "code",
   "execution_count": 5,
   "metadata": {
    "collapsed": false,
    "deletable": false,
    "editable": false,
    "nbgrader": {
     "checksum": "1e855794db0e51e6612303af54428e95",
     "grade": true,
     "grade_id": "mpl-exoplanet-b",
     "locked": false,
     "points": 2,
     "schema_version": 1,
     "solution": false
    }
   },
   "outputs": [],
   "source": [
    "assert data.shape==(1993,24)"
   ]
  },
  {
   "cell_type": "markdown",
   "metadata": {},
   "source": [
    "Make a histogram of the distribution of planetary masses. This will reproduce Figure 2 in the original paper.\n",
    "\n",
    "* Use the default Matplotlib 2.0 style as your starting point.\n",
    "* Pick the number of bins for the histogram appropriately.\n",
    "* Use y axis gridlines.\n",
    "* Label the x- and y- axes and the plot title.\n",
    "* Use appropriate x and y limits."
   ]
  },
  {
   "cell_type": "code",
   "execution_count": 27,
   "metadata": {
    "collapsed": false,
    "deletable": false,
    "nbgrader": {
     "checksum": "c7d1fad940f9ddb57808420ca415c98b",
     "grade": true,
     "grade_id": "mpl-exoplanet-c",
     "locked": false,
     "points": 4,
     "schema_version": 1,
     "solution": true
    }
   },
   "outputs": [
    {
     "name": "stderr",
     "output_type": "stream",
     "text": [
      "/opt/conda/lib/python3.5/site-packages/numpy/lib/function_base.py:583: RuntimeWarning: invalid value encountered in greater_equal\n",
      "  keep = (tmp_a >= mn)\n",
      "/opt/conda/lib/python3.5/site-packages/numpy/lib/function_base.py:584: RuntimeWarning: invalid value encountered in less_equal\n",
      "  keep &= (tmp_a <= mx)\n"
     ]
    },
    {
     "data": {
      "text/plain": [
       "<matplotlib.text.Text at 0x7fda704f6ac8>"
      ]
     },
     "execution_count": 27,
     "metadata": {},
     "output_type": "execute_result"
    },
    {
     "data": {
      "image/png": "[encoded data removed]",
      "text/plain": [
       "<matplotlib.figure.Figure at 0x7fda70578d68>"
      ]
     },
     "metadata": {},
     "output_type": "display_data"
    }
   ],
   "source": [
    "# YOUR CODE HERE\n",
    "fig = plt.figure()\n",
    "axes = plt.axes()\n",
    "test = data[:,2]\n",
    "test = test[~np.isnan(test)]\n",
    "plt.hist(data, bins=2);\n",
    "plt.title('Planetary Mass Histogram')\n",
    "plt.xlabel('Planetary Mass')\n",
    "plt.ylabel('Count of Mass')"
   ]
  },
  {
   "cell_type": "markdown",
   "metadata": {},
   "source": [
    "Make a scatter plot of the orbital eccentricity (y) versus the semimajor axis. This will reproduce Figure 4 of the original paper.\n",
    "\n",
    "* Use the default Matplotlib 2.0 style as your starting point.\n",
    "* Use a log scale on the x axis.\n",
    "* Label the x- and y- axis and the plot title.\n",
    "* Use appropriate x and y limits.\n",
    "* Use black filled circles with an alpha of 0.3 for the marks."
   ]
  },
  {
   "cell_type": "code",
   "execution_count": 40,
   "metadata": {
    "collapsed": false,
    "deletable": false,
    "nbgrader": {
     "checksum": "baa96cbe7af3658b8c5be6d54421a9d0",
     "grade": true,
     "grade_id": "mpl-exoplanet-d",
     "locked": false,
     "points": 4,
     "schema_version": 1,
     "solution": true
    }
   },
   "outputs": [
    {
     "name": "stderr",
     "output_type": "stream",
     "text": [
      "/opt/conda/lib/python3.5/site-packages/ipykernel/__main__.py:6: VisibleDeprecationWarning: boolean index did not match indexed array along dimension 0; dimension is 1993 but corresponding boolean dimension is 1069\n"
     ]
    },
    {
     "data": {
      "text/plain": [
       "<matplotlib.text.Text at 0x7fda6fbc3668>"
      ]
     },
     "execution_count": 40,
     "metadata": {},
     "output_type": "execute_result"
    },
    {
     "data": {
      "image/png": "[encoded data removed]",
      "text/plain": [
       "<matplotlib.figure.Figure at 0x7fda6fc20c18>"
      ]
     },
     "metadata": {},
     "output_type": "display_data"
    }
   ],
   "source": [
    "# YOUR CODE HERE\n",
    "axes = plt.gca()\n",
    "axes.set_ylim([0,10])\n",
    "\n",
    "test2 = data[:,[6,5]]\n",
    "test2 = test2[~np.isnan(test)]\n",
    "test2.shape\n",
    "plt.scatter(test2[:,0], test2[:,1], alpha=.3, color='black');\n",
    "plt.xscale('log')\n",
    "plt.title('Log of Semi Major Axis VS Orbital Eccentricity')\n",
    "plt.xlabel('Semi Major Axis')\n",
    "plt.ylabel('Orbital Eccentricity')"
   ]
  },
  {
   "cell_type": "code",
   "execution_count": null,
   "metadata": {
    "collapsed": true
   },
   "outputs": [],
   "source": []
  }
 ],
 "metadata": {
  "kernelspec": {
   "display_name": "Python 3",
   "language": "python",
   "name": "python3"
  },
  "language_info": {
   "codemirror_mode": {
    "name": "ipython",
    "version": 3
   },
   "file_extension": ".py",
   "mimetype": "text/x-python",
   "name": "python",
   "nbconvert_exporter": "python",
   "pygments_lexer": "ipython3",
   "version": "3.5.2"
  }
 },
 "nbformat": 4,
 "nbformat_minor": 0
}
