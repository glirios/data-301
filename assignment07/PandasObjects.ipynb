{
 "cells": [
  {
   "cell_type": "markdown",
   "metadata": {},
   "source": [
    "# Pandas Objects"
   ]
  },
  {
   "cell_type": "code",
   "execution_count": 1,
   "metadata": {
    "collapsed": false
   },
   "outputs": [],
   "source": [
    "import pandas as pd\n",
    "import numpy as np"
   ]
  },
  {
   "cell_type": "markdown",
   "metadata": {},
   "source": [
    "## Series\n",
    "\n",
    "Create a `Series` named `s1` with the following properties:\n",
    "\n",
    "* 10 values that are the first 7 uppercase letters.\n",
    "* An index of the days of the week capitalized, starting with `Sunday`."
   ]
  },
  {
   "cell_type": "code",
   "execution_count": 2,
   "metadata": {
    "collapsed": false,
    "deletable": false,
    "nbgrader": {
     "checksum": "d9cc8cebf4a9cc021b65b2739c59fadd",
     "grade": false,
     "grade_id": "pandas-objects-a",
     "locked": false,
     "schema_version": 1,
     "solution": true
    }
   },
   "outputs": [],
   "source": [
    "# YOUR CODE HERE\n",
    "s1 = pd.Series(['a', 'b','c', 'd', 'e', 'f', 'g',],\n",
    "              index = ['Sunday', 'Monday', 'Tuesday', 'Wednesday', 'Thursday', 'Friday', 'Saturday'])"
   ]
  },
  {
   "cell_type": "code",
   "execution_count": 3,
   "metadata": {
    "collapsed": false,
    "deletable": false,
    "editable": false,
    "nbgrader": {
     "checksum": "3a3690dfc75cf372517524d90b4f3310",
     "grade": false,
     "grade_id": "pandas-objects-b",
     "locked": true,
     "schema_version": 1,
     "solution": false
    }
   },
   "outputs": [
    {
     "data": {
      "text/plain": [
       "Sunday       a\n",
       "Monday       b\n",
       "Tuesday      c\n",
       "Wednesday    d\n",
       "Thursday     e\n",
       "Friday       f\n",
       "Saturday     g\n",
       "dtype: object"
      ]
     },
     "execution_count": 3,
     "metadata": {},
     "output_type": "execute_result"
    }
   ],
   "source": [
    "s1"
   ]
  },
  {
   "cell_type": "code",
   "execution_count": 4,
   "metadata": {
    "collapsed": false,
    "deletable": false,
    "editable": false,
    "nbgrader": {
     "checksum": "c4d5965d10d9bd3464569edd7c98d792",
     "grade": true,
     "grade_id": "pandas-objects-c",
     "locked": true,
     "points": 2,
     "schema_version": 1,
     "solution": false
    }
   },
   "outputs": [],
   "source": [
    "v = s1.values\n",
    "for char in 'abcdefg':\n",
    "    assert char in v\n",
    "assert 'Sunday' in s1\n",
    "assert 'Monday' in s1\n",
    "assert 'Tuesday' in s1\n",
    "assert 'Wednesday' in s1\n",
    "assert 'Thursday' in s1\n",
    "assert 'Friday' in s1\n",
    "assert 'Saturday' in s1\n",
    "assert s1.iloc[0] == 'a'\n",
    "assert s1.index[0] == 'Sunday'"
   ]
  },
  {
   "cell_type": "markdown",
   "metadata": {},
   "source": [
    "Use the `.loc` indexer to slice the `s1` `Series` by index values to create a new `Series` named `s2` with only the weekdays."
   ]
  },
  {
   "cell_type": "code",
   "execution_count": 5,
   "metadata": {
    "collapsed": false,
    "deletable": false,
    "nbgrader": {
     "checksum": "918575899350474819eb8763dc35bd75",
     "grade": false,
     "grade_id": "pandas-objects-d",
     "locked": false,
     "schema_version": 1,
     "solution": true
    }
   },
   "outputs": [],
   "source": [
    "# YOUR CODE HERE\n",
    "s2 = s1.loc['Monday':'Friday']"
   ]
  },
  {
   "cell_type": "code",
   "execution_count": 6,
   "metadata": {
    "collapsed": false,
    "deletable": false,
    "editable": false,
    "nbgrader": {
     "checksum": "ab632b14ba4378b98991b9812b3dbb2c",
     "grade": false,
     "grade_id": "pandas-objects-e",
     "locked": true,
     "schema_version": 1,
     "solution": false
    }
   },
   "outputs": [
    {
     "data": {
      "text/plain": [
       "Monday       b\n",
       "Tuesday      c\n",
       "Wednesday    d\n",
       "Thursday     e\n",
       "Friday       f\n",
       "dtype: object"
      ]
     },
     "execution_count": 6,
     "metadata": {},
     "output_type": "execute_result"
    }
   ],
   "source": [
    "s2"
   ]
  },
  {
   "cell_type": "code",
   "execution_count": 7,
   "metadata": {
    "collapsed": true,
    "deletable": false,
    "editable": false,
    "nbgrader": {
     "checksum": "68e56c995f67648ff3c386647c34a03c",
     "grade": true,
     "grade_id": "pandas-objects-f",
     "locked": true,
     "points": 2,
     "schema_version": 1,
     "solution": false
    }
   },
   "outputs": [],
   "source": [
    "v = s2.values\n",
    "for char in 'bcdef':\n",
    "    assert char in v\n",
    "assert 'Monday' in s2\n",
    "assert 'Tuesday' in s2\n",
    "assert 'Wednesday' in s2\n",
    "assert 'Thursday' in s2\n",
    "assert 'Friday' in s2"
   ]
  },
  {
   "cell_type": "markdown",
   "metadata": {},
   "source": [
    "Use the `.iloc` indexer to slice the `s1` `Series` in a manner that reverses its values/index. Name the new `Series` `s3`."
   ]
  },
  {
   "cell_type": "code",
   "execution_count": 8,
   "metadata": {
    "collapsed": false,
    "deletable": false,
    "nbgrader": {
     "checksum": "9d8ace3aa69fcb307e972d5b0bada46e",
     "grade": false,
     "grade_id": "pandas-objects-g",
     "locked": false,
     "schema_version": 1,
     "solution": true
    }
   },
   "outputs": [],
   "source": [
    "# YOUR CODE HERE\n",
    "s3 = s1.iloc[::-1]"
   ]
  },
  {
   "cell_type": "code",
   "execution_count": 9,
   "metadata": {
    "collapsed": false,
    "deletable": false,
    "editable": false,
    "nbgrader": {
     "checksum": "be9764376f2d3b37de66f4fa5ed181b2",
     "grade": false,
     "grade_id": "pandas-objects-h",
     "locked": true,
     "schema_version": 1,
     "solution": false
    }
   },
   "outputs": [
    {
     "data": {
      "text/plain": [
       "Saturday     g\n",
       "Friday       f\n",
       "Thursday     e\n",
       "Wednesday    d\n",
       "Tuesday      c\n",
       "Monday       b\n",
       "Sunday       a\n",
       "dtype: object"
      ]
     },
     "execution_count": 9,
     "metadata": {},
     "output_type": "execute_result"
    }
   ],
   "source": [
    "s3 "
   ]
  },
  {
   "cell_type": "code",
   "execution_count": 10,
   "metadata": {
    "collapsed": false,
    "deletable": false,
    "editable": false,
    "nbgrader": {
     "checksum": "f8140e45f68aed8686faed93df2429a4",
     "grade": true,
     "grade_id": "pandas-objects-i",
     "locked": true,
     "points": 2,
     "schema_version": 1,
     "solution": false
    }
   },
   "outputs": [],
   "source": [
    "assert ''.join(s3.values)=='gfedcba'\n",
    "assert list(s3.index)==list(reversed(s1.index))"
   ]
  },
  {
   "cell_type": "markdown",
   "metadata": {},
   "source": [
    "## DataFrame\n",
    "\n",
    "Create a `DataFrame` named `df1` with the following properties:\n",
    "\n",
    "* 10 rows.\n",
    "* An `age` column with random ages between 0 and 100 (inclusive).\n",
    "* A `cell_phone` column of randomly sampled categorical values `ios`, `android`, `windows`.\n",
    "* A `gender` column of randomly sampled categorical values `f` and `m`.\n",
    "* The order of columns should be `gender`, `age`, `cell_phone`.\n",
    "* A row index consisting of lowercase alphabetical letters.\n",
    "\n",
    "Use the function defined above to create this `DataFrame`."
   ]
  },
  {
   "cell_type": "code",
   "execution_count": 11,
   "metadata": {
    "collapsed": false,
    "deletable": false,
    "nbgrader": {
     "checksum": "d1865ebf9db730a2b6328639550896cb",
     "grade": false,
     "grade_id": "pandas-objects-j",
     "locked": false,
     "schema_version": 1,
     "solution": true
    }
   },
   "outputs": [],
   "source": [
    "# YOUR CODE HERE\n",
    "df1 = pd.DataFrame(index = ['a', 'b','c', 'd', 'e', 'f', 'g', 'h', 'i', 'j'],\n",
    "                   data = {'gender': pd.Categorical(np.random.choice(['f', 'm'], 10)),\n",
    "                          'age': np.random.randint(100, size=10),\n",
    "                          'cell_phone': pd.Categorical(np.random.choice(['ios', 'android', 'windows'], 10))\n",
    "                          },\n",
    "                   columns=['gender', 'age', 'cell_phone']\n",
    ")"
   ]
  },
  {
   "cell_type": "code",
   "execution_count": 12,
   "metadata": {
    "collapsed": false,
    "deletable": false,
    "editable": false,
    "nbgrader": {
     "checksum": "69fc0e84f3c69428d96b002158dde735",
     "grade": false,
     "grade_id": "pandas-objects-k",
     "locked": true,
     "schema_version": 1,
     "solution": false
    }
   },
   "outputs": [
    {
     "data": {
      "text/html": [
       "<div>\n",
       "<table border=\"1\" class=\"dataframe\">\n",
       "  <thead>\n",
       "    <tr style=\"text-align: right;\">\n",
       "      <th></th>\n",
       "      <th>gender</th>\n",
       "      <th>age</th>\n",
       "      <th>cell_phone</th>\n",
       "    </tr>\n",
       "  </thead>\n",
       "  <tbody>\n",
       "    <tr>\n",
       "      <th>a</th>\n",
       "      <td>m</td>\n",
       "      <td>21</td>\n",
       "      <td>android</td>\n",
       "    </tr>\n",
       "    <tr>\n",
       "      <th>b</th>\n",
       "      <td>m</td>\n",
       "      <td>76</td>\n",
       "      <td>ios</td>\n",
       "    </tr>\n",
       "    <tr>\n",
       "      <th>c</th>\n",
       "      <td>f</td>\n",
       "      <td>46</td>\n",
       "      <td>android</td>\n",
       "    </tr>\n",
       "    <tr>\n",
       "      <th>d</th>\n",
       "      <td>m</td>\n",
       "      <td>91</td>\n",
       "      <td>windows</td>\n",
       "    </tr>\n",
       "    <tr>\n",
       "      <th>e</th>\n",
       "      <td>f</td>\n",
       "      <td>90</td>\n",
       "      <td>android</td>\n",
       "    </tr>\n",
       "    <tr>\n",
       "      <th>f</th>\n",
       "      <td>m</td>\n",
       "      <td>17</td>\n",
       "      <td>windows</td>\n",
       "    </tr>\n",
       "    <tr>\n",
       "      <th>g</th>\n",
       "      <td>m</td>\n",
       "      <td>39</td>\n",
       "      <td>windows</td>\n",
       "    </tr>\n",
       "    <tr>\n",
       "      <th>h</th>\n",
       "      <td>m</td>\n",
       "      <td>61</td>\n",
       "      <td>windows</td>\n",
       "    </tr>\n",
       "    <tr>\n",
       "      <th>i</th>\n",
       "      <td>f</td>\n",
       "      <td>59</td>\n",
       "      <td>windows</td>\n",
       "    </tr>\n",
       "    <tr>\n",
       "      <th>j</th>\n",
       "      <td>f</td>\n",
       "      <td>54</td>\n",
       "      <td>windows</td>\n",
       "    </tr>\n",
       "  </tbody>\n",
       "</table>\n",
       "</div>"
      ],
      "text/plain": [
       "  gender  age cell_phone\n",
       "a      m   21    android\n",
       "b      m   76        ios\n",
       "c      f   46    android\n",
       "d      m   91    windows\n",
       "e      f   90    android\n",
       "f      m   17    windows\n",
       "g      m   39    windows\n",
       "h      m   61    windows\n",
       "i      f   59    windows\n",
       "j      f   54    windows"
      ]
     },
     "execution_count": 12,
     "metadata": {},
     "output_type": "execute_result"
    }
   ],
   "source": [
    "df1"
   ]
  },
  {
   "cell_type": "code",
   "execution_count": 13,
   "metadata": {
    "collapsed": false,
    "deletable": false,
    "editable": false,
    "nbgrader": {
     "checksum": "f8cb8b58c79546fc76d14d60644671a6",
     "grade": true,
     "grade_id": "pandas-objects-l",
     "locked": false,
     "points": 2,
     "schema_version": 1,
     "solution": false
    }
   },
   "outputs": [],
   "source": [
    "for char in 'abcdefghij':\n",
    "    assert char in df1.index\n",
    "assert 'age' in df1.columns\n",
    "assert 'cell_phone' in df1.columns\n",
    "assert 'gender' in df1.columns\n",
    "assert df1.age.dtype.name=='int64'\n",
    "assert df1.cell_phone.dtype.name=='category'\n",
    "assert df1.gender.dtype.name=='category'\n",
    "assert set(df1.gender.unique())=={'f','m'}\n",
    "assert set(df1.cell_phone.unique())=={'windows','android','ios'}\n",
    "assert list(df1.columns)==['gender','age','cell_phone']"
   ]
  },
  {
   "cell_type": "markdown",
   "metadata": {},
   "source": [
    "Create a new `DataFrame`, named `df2` with the following transformations:\n",
    "\n",
    "* Extract rows `a` through `g`\n",
    "* Extract the `age` and `gender` column, but put `age` first.\n",
    "* Reverse the rows to they run `g` to `a`.\n",
    "* Add a new column named `income` that is a random list of dollars between [0,10000]\n",
    "* Add a new column named `expenses` that is a random list of dollars between [0,10000]\n",
    "* Create a new column named `profit` that is computed using the `income` and `expenses` columns."
   ]
  },
  {
   "cell_type": "code",
   "execution_count": 14,
   "metadata": {
    "collapsed": false,
    "deletable": false,
    "nbgrader": {
     "checksum": "a34e37c7d3a954cb26b472cfe3d1a31c",
     "grade": false,
     "grade_id": "pandas-objects-m",
     "locked": false,
     "schema_version": 1,
     "solution": true
    }
   },
   "outputs": [],
   "source": [
    "# YOUR CODE HERE\n",
    "df2 = df1['a':'g']\n",
    "df2 = df2[['gender','age']]\n",
    "df2 = df2.reindex(columns=['age', 'gender'])\n",
    "df2 = df2.reindex(index=df2.index[::-1])\n",
    "df2['income'] = np.random.randint(10000, size=7)\n",
    "df2['expenses'] = np.random.randint(10000, size=7)\n",
    "df2['profit'] = df2['income'] - df2['expenses']"
   ]
  },
  {
   "cell_type": "code",
   "execution_count": 15,
   "metadata": {
    "collapsed": false,
    "deletable": false,
    "editable": false,
    "nbgrader": {
     "checksum": "a2d78cab57aac630401bf1f44bf9a45e",
     "grade": false,
     "grade_id": "pandas-objects-n",
     "locked": true,
     "schema_version": 1,
     "solution": false
    }
   },
   "outputs": [
    {
     "data": {
      "text/html": [
       "<div>\n",
       "<table border=\"1\" class=\"dataframe\">\n",
       "  <thead>\n",
       "    <tr style=\"text-align: right;\">\n",
       "      <th></th>\n",
       "      <th>age</th>\n",
       "      <th>gender</th>\n",
       "      <th>income</th>\n",
       "      <th>expenses</th>\n",
       "      <th>profit</th>\n",
       "    </tr>\n",
       "  </thead>\n",
       "  <tbody>\n",
       "    <tr>\n",
       "      <th>g</th>\n",
       "      <td>39</td>\n",
       "      <td>m</td>\n",
       "      <td>7154</td>\n",
       "      <td>4741</td>\n",
       "      <td>2413</td>\n",
       "    </tr>\n",
       "    <tr>\n",
       "      <th>f</th>\n",
       "      <td>17</td>\n",
       "      <td>m</td>\n",
       "      <td>4328</td>\n",
       "      <td>2320</td>\n",
       "      <td>2008</td>\n",
       "    </tr>\n",
       "    <tr>\n",
       "      <th>e</th>\n",
       "      <td>90</td>\n",
       "      <td>f</td>\n",
       "      <td>8105</td>\n",
       "      <td>9698</td>\n",
       "      <td>-1593</td>\n",
       "    </tr>\n",
       "    <tr>\n",
       "      <th>d</th>\n",
       "      <td>91</td>\n",
       "      <td>m</td>\n",
       "      <td>1730</td>\n",
       "      <td>2026</td>\n",
       "      <td>-296</td>\n",
       "    </tr>\n",
       "    <tr>\n",
       "      <th>c</th>\n",
       "      <td>46</td>\n",
       "      <td>f</td>\n",
       "      <td>4629</td>\n",
       "      <td>2316</td>\n",
       "      <td>2313</td>\n",
       "    </tr>\n",
       "    <tr>\n",
       "      <th>b</th>\n",
       "      <td>76</td>\n",
       "      <td>m</td>\n",
       "      <td>3294</td>\n",
       "      <td>32</td>\n",
       "      <td>3262</td>\n",
       "    </tr>\n",
       "    <tr>\n",
       "      <th>a</th>\n",
       "      <td>21</td>\n",
       "      <td>m</td>\n",
       "      <td>3820</td>\n",
       "      <td>1671</td>\n",
       "      <td>2149</td>\n",
       "    </tr>\n",
       "  </tbody>\n",
       "</table>\n",
       "</div>"
      ],
      "text/plain": [
       "   age gender  income  expenses  profit\n",
       "g   39      m    7154      4741    2413\n",
       "f   17      m    4328      2320    2008\n",
       "e   90      f    8105      9698   -1593\n",
       "d   91      m    1730      2026    -296\n",
       "c   46      f    4629      2316    2313\n",
       "b   76      m    3294        32    3262\n",
       "a   21      m    3820      1671    2149"
      ]
     },
     "execution_count": 15,
     "metadata": {},
     "output_type": "execute_result"
    }
   ],
   "source": [
    "df2"
   ]
  },
  {
   "cell_type": "markdown",
   "metadata": {},
   "source": [
    "Make sure your code passes the following `assert` statements:"
   ]
  },
  {
   "cell_type": "code",
   "execution_count": 16,
   "metadata": {
    "collapsed": false,
    "deletable": false,
    "editable": false,
    "nbgrader": {
     "checksum": "0ad125ed248bbb910e9a3873935384f8",
     "grade": true,
     "grade_id": "pandas-objects-o",
     "locked": false,
     "points": 2,
     "schema_version": 1,
     "solution": false
    }
   },
   "outputs": [],
   "source": [
    "assert df2.index[0]=='g'\n",
    "assert df2.index[-1]=='a'\n",
    "assert list(df2.columns)==['age','gender','income','expenses','profit']\n",
    "assert df2.income.dtype.name=='int64'\n",
    "assert df2.expenses.dtype.name=='int64'\n",
    "assert df2.expenses.dtype.name=='int64'\n",
    "assert all(df2.profit+df2.expenses-df2.income==0)"
   ]
  },
  {
   "cell_type": "markdown",
   "metadata": {},
   "source": [
    "Using row filtering, column selection, and the `.mean()` method, calculate and print the average age for men and women in the `df1` `DataFrame`:"
   ]
  },
  {
   "cell_type": "code",
   "execution_count": 17,
   "metadata": {
    "collapsed": false,
    "deletable": false,
    "nbgrader": {
     "checksum": "b07b777bb78527772fe8128e1ae6fc5e",
     "grade": true,
     "grade_id": "pandas-objects-p",
     "locked": false,
     "points": 2,
     "schema_version": 1,
     "solution": true
    }
   },
   "outputs": [
    {
     "name": "stdout",
     "output_type": "stream",
     "text": [
      "50.8333333333 62.25\n"
     ]
    }
   ],
   "source": [
    "# YOUR CODE HERE\n",
    "male = df1[df1['gender'] == 'm']\n",
    "female = df1[df1['gender'] == 'f']\n",
    "m_ages = male['age']\n",
    "f_ages = female['age']\n",
    "print (m_ages.mean(), f_ages.mean())"
   ]
  },
  {
   "cell_type": "markdown",
   "metadata": {},
   "source": [
    "Use the `iloc` indexer on `df1` to extract every other row and the last column. Save the resulting `Series` as `s4`:"
   ]
  },
  {
   "cell_type": "code",
   "execution_count": 18,
   "metadata": {
    "collapsed": false,
    "deletable": false,
    "nbgrader": {
     "checksum": "d3e9aae6f3214122bf195e7d6bc531cc",
     "grade": false,
     "grade_id": "pandas-objects-q",
     "locked": false,
     "schema_version": 1,
     "solution": true
    }
   },
   "outputs": [],
   "source": [
    "# YOUR CODE HERE\n",
    "s4 = df1.iloc[::2]\n",
    "s4 = s4['cell_phone']"
   ]
  },
  {
   "cell_type": "code",
   "execution_count": 19,
   "metadata": {
    "collapsed": false,
    "deletable": false,
    "editable": false,
    "nbgrader": {
     "checksum": "c4dcdd4e2fbe45e254c0c1b465553530",
     "grade": true,
     "grade_id": "pandas-objects-r",
     "locked": true,
     "points": 2,
     "schema_version": 1,
     "solution": false
    }
   },
   "outputs": [],
   "source": [
    "assert len(s4)==5\n",
    "assert list(s4.index)==list('acegi')\n",
    "assert s4.name=='cell_phone'"
   ]
  },
  {
   "cell_type": "markdown",
   "metadata": {},
   "source": [
    "Use the `.loc` indexer to extract all rows and just the `gender` and `age` columns. Save the resulting `DataFrame` as `df3`."
   ]
  },
  {
   "cell_type": "code",
   "execution_count": 20,
   "metadata": {
    "collapsed": false,
    "deletable": false,
    "nbgrader": {
     "checksum": "d840e3a92ca7937113a638345fd046c6",
     "grade": false,
     "grade_id": "pandas-objects-s",
     "locked": false,
     "schema_version": 1,
     "solution": true
    }
   },
   "outputs": [],
   "source": [
    "# YOUR CODE HERE\n",
    "df3 = df1.iloc[:, :2]"
   ]
  },
  {
   "cell_type": "code",
   "execution_count": 21,
   "metadata": {
    "collapsed": false,
    "deletable": false,
    "editable": false,
    "nbgrader": {
     "checksum": "0bd0ba0a54ec4b62e036b72be63314b4",
     "grade": false,
     "grade_id": "pandas-objects-t",
     "locked": true,
     "schema_version": 1,
     "solution": false
    }
   },
   "outputs": [
    {
     "data": {
      "text/html": [
       "<div>\n",
       "<table border=\"1\" class=\"dataframe\">\n",
       "  <thead>\n",
       "    <tr style=\"text-align: right;\">\n",
       "      <th></th>\n",
       "      <th>gender</th>\n",
       "      <th>age</th>\n",
       "    </tr>\n",
       "  </thead>\n",
       "  <tbody>\n",
       "    <tr>\n",
       "      <th>a</th>\n",
       "      <td>m</td>\n",
       "      <td>21</td>\n",
       "    </tr>\n",
       "    <tr>\n",
       "      <th>b</th>\n",
       "      <td>m</td>\n",
       "      <td>76</td>\n",
       "    </tr>\n",
       "    <tr>\n",
       "      <th>c</th>\n",
       "      <td>f</td>\n",
       "      <td>46</td>\n",
       "    </tr>\n",
       "    <tr>\n",
       "      <th>d</th>\n",
       "      <td>m</td>\n",
       "      <td>91</td>\n",
       "    </tr>\n",
       "    <tr>\n",
       "      <th>e</th>\n",
       "      <td>f</td>\n",
       "      <td>90</td>\n",
       "    </tr>\n",
       "    <tr>\n",
       "      <th>f</th>\n",
       "      <td>m</td>\n",
       "      <td>17</td>\n",
       "    </tr>\n",
       "    <tr>\n",
       "      <th>g</th>\n",
       "      <td>m</td>\n",
       "      <td>39</td>\n",
       "    </tr>\n",
       "    <tr>\n",
       "      <th>h</th>\n",
       "      <td>m</td>\n",
       "      <td>61</td>\n",
       "    </tr>\n",
       "    <tr>\n",
       "      <th>i</th>\n",
       "      <td>f</td>\n",
       "      <td>59</td>\n",
       "    </tr>\n",
       "    <tr>\n",
       "      <th>j</th>\n",
       "      <td>f</td>\n",
       "      <td>54</td>\n",
       "    </tr>\n",
       "  </tbody>\n",
       "</table>\n",
       "</div>"
      ],
      "text/plain": [
       "  gender  age\n",
       "a      m   21\n",
       "b      m   76\n",
       "c      f   46\n",
       "d      m   91\n",
       "e      f   90\n",
       "f      m   17\n",
       "g      m   39\n",
       "h      m   61\n",
       "i      f   59\n",
       "j      f   54"
      ]
     },
     "execution_count": 21,
     "metadata": {},
     "output_type": "execute_result"
    }
   ],
   "source": [
    "df3"
   ]
  },
  {
   "cell_type": "code",
   "execution_count": 22,
   "metadata": {
    "collapsed": true,
    "deletable": false,
    "editable": false,
    "nbgrader": {
     "checksum": "32cff8134a5340e0cb6ee85697bf5e8c",
     "grade": true,
     "grade_id": "pandas-objects-u",
     "locked": true,
     "points": 2,
     "schema_version": 1,
     "solution": false
    }
   },
   "outputs": [],
   "source": [
    "assert list(df3.columns)==['gender','age']\n",
    "assert len(df3)==10\n",
    "assert list(df3.index)==list('abcdefghij')"
   ]
  },
  {
   "cell_type": "code",
   "execution_count": null,
   "metadata": {
    "collapsed": true
   },
   "outputs": [],
   "source": []
  },
  {
   "cell_type": "code",
   "execution_count": null,
   "metadata": {
    "collapsed": true
   },
   "outputs": [],
   "source": []
  }
 ],
 "metadata": {
  "kernelspec": {
   "display_name": "Python 3",
   "language": "python",
   "name": "python3"
  },
  "language_info": {
   "codemirror_mode": {
    "name": "ipython",
    "version": 3
   },
   "file_extension": ".py",
   "mimetype": "text/x-python",
   "name": "python",
   "nbconvert_exporter": "python",
   "pygments_lexer": "ipython3",
   "version": "3.5.2"
  }
 },
 "nbformat": 4,
 "nbformat_minor": 0
}
